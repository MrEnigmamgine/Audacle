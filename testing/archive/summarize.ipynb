{
 "cells": [
  {
   "cell_type": "code",
   "execution_count": 36,
   "metadata": {},
   "outputs": [],
   "source": [
    "import os, re, json"
   ]
  },
  {
   "cell_type": "code",
   "execution_count": 37,
   "metadata": {},
   "outputs": [],
   "source": [
    "filepath = './data/db_02-03-2023/output.txt'\n",
    "\n",
    "with open(filepath, 'r') as f:\n",
    "    corpus = f.read()"
   ]
  },
  {
   "cell_type": "code",
   "execution_count": 2,
   "metadata": {},
   "outputs": [],
   "source": [
    "from transformers import PegasusForConditionalGeneration, PegasusTokenizer\n",
    "tokenizer = PegasusTokenizer.from_pretrained(\"google/pegasus-xsum\")\n",
    "model = PegasusForConditionalGeneration.from_pretrained(\"google/pegasus-xsum\")"
   ]
  },
  {
   "cell_type": "code",
   "execution_count": 3,
   "metadata": {},
   "outputs": [],
   "source": [
    "text_example = \"\"\"The tower is 324 meters (1,063 ft) tall, about the same height \n",
    "as an 81-storey building, and the tallest structure in Paris. Its base is square, \n",
    "measuring 125 meters (410 ft) on each side. During its construction, the Eiffel \n",
    "Tower surpassed the Washington Monument to become the tallest man-made structure \n",
    "in the world, a title it held for 41 years until the Chrysler Building in New York\n",
    "City was finished in 1930. It was the first structure to reach a height of 300 meters. \n",
    "Due to the addition of a broadcasting aerial at the top of the tower in 1957, it is \n",
    "now taller than the Chrysler Building by 5.2 meters (17 ft). Excluding transmitters, \n",
    "the Eiffel Tower is the second tallest free-standing structure in France\n",
    "after the Millau Viaduct.\"\"\""
   ]
  },
  {
   "cell_type": "code",
   "execution_count": 4,
   "metadata": {},
   "outputs": [],
   "source": [
    "tokens = tokenizer(text_example, truncation=True, padding=\"longest\", return_tensors=\"pt\")"
   ]
  },
  {
   "cell_type": "code",
   "execution_count": 11,
   "metadata": {},
   "outputs": [],
   "source": [
    "summary = model.generate(**tokens, min_length=80, max_length=120)\n",
    "# \"max_position_embeddings\": 512,"
   ]
  },
  {
   "cell_type": "code",
   "execution_count": 12,
   "metadata": {},
   "outputs": [
    {
     "data": {
      "text/plain": [
       "tensor([[    0,   139, 37695,  6817,   117,   114,   294,   121, 11570,  1557,\n",
       "           115,  3165,   108,  2481,   108,   836,   141, 37399,   326, 37695,\n",
       "           115, 39290,   108,   111,   117,   156,   113,   109,   205,  1808,\n",
       "          2511,   115,   109,   278,   108,   122,   154,   197,   599,   604,\n",
       "          1719,   114,   232,  4289,   126,   135,   109,   349,   113,   153,\n",
       "          1221,  1637,   108,  2318,   108,  1553, 19146,   108,   111,   176,\n",
       "           481,  2849,   108,   130,   210,   130,   135,   109,   349,   113,\n",
       "           203, 20178,   121,  8746,  4289,  1258,   124,   109, 40414,   121,\n",
       "          1005,   445,  3399,   116,   107,     1]])"
      ]
     },
     "execution_count": 12,
     "metadata": {},
     "output_type": "execute_result"
    }
   ],
   "source": [
    "# Output summary tokens\n",
    "summary"
   ]
  },
  {
   "cell_type": "code",
   "execution_count": 13,
   "metadata": {},
   "outputs": [
    {
     "data": {
      "text/plain": [
       "'<pad>The Eiffel Tower is a free-standing structure in Paris, France, built by Gustave Eiffel in 1889, and is one of the most famous buildings in the world, with more than 20 million visitors a year viewing it from the top of their hotel rooms, restaurants, shopping malls, and other public spaces, as well as from the top of its pyramid-shaped viewing platform on the Champs-Elysees.</s>'"
      ]
     },
     "execution_count": 13,
     "metadata": {},
     "output_type": "execute_result"
    }
   ],
   "source": [
    "tokenizer.decode(summary[0])"
   ]
  },
  {
   "cell_type": "code",
   "execution_count": 23,
   "metadata": {},
   "outputs": [
    {
     "data": {
      "text/plain": [
       "torch.Size([1, 158])"
      ]
     },
     "execution_count": 23,
     "metadata": {},
     "output_type": "execute_result"
    }
   ],
   "source": [
    "tokens['input_ids'].shape"
   ]
  },
  {
   "cell_type": "code",
   "execution_count": 34,
   "metadata": {},
   "outputs": [],
   "source": [
    "model.config.max_length = 200\n",
    "model.config.min_length = 64"
   ]
  },
  {
   "cell_type": "code",
   "execution_count": 33,
   "metadata": {},
   "outputs": [
    {
     "name": "stderr",
     "output_type": "stream",
     "text": [
      "c:\\Python\\3.10.8\\lib\\site-packages\\transformers\\generation\\utils.py:1387: UserWarning: Neither `max_length` nor `max_new_tokens` has been set, `max_length` will default to 150 (`self.config.max_length`). Controlling `max_length` via the config is deprecated and `max_length` will be removed from the config in v5 of Transformers -- we recommend using `max_new_tokens` to control the maximum length of the generation.\n",
      "  warnings.warn(\n"
     ]
    },
    {
     "data": {
      "text/plain": [
       "'<pad>The Eiffel Tower is a free-standing structure in Paris, France, built by Gustave Eiffel in 1889, and is one of the most famous buildings in the world, with more than 20 million visitors a year viewing it from the top of their hotel rooms, restaurants, shopping malls, and other tourist attractions in the city.</s>'"
      ]
     },
     "execution_count": 33,
     "metadata": {},
     "output_type": "execute_result"
    }
   ],
   "source": [
    "summary = model.generate(**tokens)\n",
    "tokenizer.decode(summary[0])"
   ]
  },
  {
   "cell_type": "code",
   "execution_count": 38,
   "metadata": {},
   "outputs": [],
   "source": [
    "tokens = tokenizer(corpus, truncation=True, padding=\"longest\", return_tensors=\"pt\")"
   ]
  },
  {
   "cell_type": "code",
   "execution_count": 40,
   "metadata": {},
   "outputs": [
    {
     "data": {
      "text/plain": [
       "torch.Size([1, 512])"
      ]
     },
     "execution_count": 40,
     "metadata": {},
     "output_type": "execute_result"
    }
   ],
   "source": [
    "tokens['input_ids'].shape"
   ]
  },
  {
   "cell_type": "code",
   "execution_count": 41,
   "metadata": {},
   "outputs": [
    {
     "name": "stderr",
     "output_type": "stream",
     "text": [
      "c:\\Python\\3.10.8\\lib\\site-packages\\transformers\\generation\\utils.py:1387: UserWarning: Neither `max_length` nor `max_new_tokens` has been set, `max_length` will default to 200 (`self.config.max_length`). Controlling `max_length` via the config is deprecated and `max_length` will be removed from the config in v5 of Transformers -- we recommend using `max_new_tokens` to control the maximum length of the generation.\n",
      "  warnings.warn(\n"
     ]
    },
    {
     "data": {
      "text/plain": [
       "\"<pad>JadePixie_7138: Hi, I'm JadePixie and I'm here with Crux_442. IlMaximuslI_9218: Ezreal is just that really old computer that like, you know, every few months, JadePixie_7138: Oh no. IlMaximuslI_9218: there is something going on in the software that you're just like, yeah, we're gonna have to do something about this.</s>\""
      ]
     },
     "execution_count": 41,
     "metadata": {},
     "output_type": "execute_result"
    }
   ],
   "source": [
    "summary = model.generate(**tokens)\n",
    "tokenizer.decode(summary[0])"
   ]
  },
  {
   "attachments": {},
   "cell_type": "markdown",
   "metadata": {},
   "source": [
    "## Pipeline"
   ]
  },
  {
   "cell_type": "code",
   "execution_count": 14,
   "metadata": {},
   "outputs": [],
   "source": [
    "def summarize_text(text, min_length=80, max_length=120):\n",
    "    tokenizer = PegasusTokenizer.from_pretrained(\"google/pegasus-xsum\")\n",
    "    model = PegasusForConditionalGeneration.from_pretrained(\"google/pegasus-xsum\")\n",
    "    tokens = tokenizer(text_example, truncation=True, padding=\"longest\", return_tensors=\"pt\")\n",
    "    summary = model.generate(**tokens, min_length=min_length, max_length=max_length)\n",
    "    result = tokenizer.decode(summary[0])\n",
    "    return result"
   ]
  },
  {
   "cell_type": "code",
   "execution_count": 15,
   "metadata": {},
   "outputs": [
    {
     "data": {
      "text/plain": [
       "'<pad>The Eiffel Tower is a free-standing structure in Paris, France, built by Gustave Eiffel in 1889, and is one of the most famous buildings in the world, with more than 20 million visitors a year viewing it from the top of their hotel rooms, restaurants, shopping malls, and other public spaces, as well as from the top of its pyramid-shaped viewing platform on the Champs-Elysees.</s>'"
      ]
     },
     "execution_count": 15,
     "metadata": {},
     "output_type": "execute_result"
    }
   ],
   "source": [
    "# summarize_text(text_example)"
   ]
  }
 ],
 "metadata": {
  "kernelspec": {
   "display_name": "Python 3",
   "language": "python",
   "name": "python3"
  },
  "language_info": {
   "codemirror_mode": {
    "name": "ipython",
    "version": 3
   },
   "file_extension": ".py",
   "mimetype": "text/x-python",
   "name": "python",
   "nbconvert_exporter": "python",
   "pygments_lexer": "ipython3",
   "version": "3.10.8"
  },
  "orig_nbformat": 4,
  "vscode": {
   "interpreter": {
    "hash": "050044240cf91f37d85165fce9cd1b29ae697f4786d26880d31f6038c78120fd"
   }
  }
 },
 "nbformat": 4,
 "nbformat_minor": 2
}
