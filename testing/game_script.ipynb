{
 "cells": [
  {
   "attachments": {},
   "cell_type": "markdown",
   "metadata": {},
   "source": [
    "Focused notebook for working with long files with the goal of generating a textfile in script format"
   ]
  },
  {
   "cell_type": "code",
   "execution_count": 1,
   "metadata": {},
   "outputs": [],
   "source": [
    "import os, re\n",
    "import pandas as pd\n",
    "from bs4 import BeautifulSoup\n",
    "\n",
    "import librosa.display\n",
    "import matplotlib.pyplot as plt\n",
    "from pprint import pprint\n",
    "from IPython.display import Audio, display\n",
    "\n",
    "import torch\n",
    "import whisperx"
   ]
  },
  {
   "cell_type": "code",
   "execution_count": 2,
   "metadata": {},
   "outputs": [],
   "source": [
    "# Hardcoded Values\n",
    "SAMPLING_RATE = 16000 # All models predict on a monochannel 16khz tensor\n",
    "VAD_THRESHOLD = 0.5\n",
    "audacity_dir = '../data/db_02-03-2023/'"
   ]
  },
  {
   "attachments": {},
   "cell_type": "markdown",
   "metadata": {},
   "source": [
    "## Models"
   ]
  },
  {
   "cell_type": "code",
   "execution_count": 3,
   "metadata": {},
   "outputs": [],
   "source": [
    "device = \"cuda\" if torch.cuda.is_available() else 'cpu'\n",
    "model_file = '../models/whisper/small.en.pt'\n",
    "silero_dir = '../models/silero-vad'"
   ]
  },
  {
   "cell_type": "code",
   "execution_count": 4,
   "metadata": {},
   "outputs": [],
   "source": [
    "whisper_model = whisperx.load_model(model_file, device)"
   ]
  },
  {
   "cell_type": "code",
   "execution_count": 5,
   "metadata": {},
   "outputs": [],
   "source": [
    "silero_vad, utils =    torch.hub.load(repo_or_dir=silero_dir,\n",
    "                               source='local',\n",
    "                               model='silero_vad',\n",
    "                               force_reload=True,\n",
    "                               onnx=False)\n",
    "\n",
    "(get_speech_timestamps,\n",
    " save_audio,\n",
    " read_audio,\n",
    " VADIterator,\n",
    " collect_chunks) = utils"
   ]
  },
  {
   "cell_type": "code",
   "execution_count": 6,
   "metadata": {},
   "outputs": [],
   "source": [
    "align_model, metadata = whisperx.load_align_model(language_code='en', device=device)"
   ]
  },
  {
   "attachments": {},
   "cell_type": "markdown",
   "metadata": {},
   "source": [
    "## Functions"
   ]
  },
  {
   "cell_type": "code",
   "execution_count": 7,
   "metadata": {},
   "outputs": [],
   "source": [
    "def vizualize_waveform(waveform, rate=SAMPLING_RATE):\n",
    "    plt.figure(figsize=[7,2.5])\n",
    "    librosa.display.waveshow(waveform, sr=rate)\n",
    "    plt.show()"
   ]
  },
  {
   "cell_type": "code",
   "execution_count": 8,
   "metadata": {},
   "outputs": [],
   "source": [
    "def listen_waveform(waveform, rate=SAMPLING_RATE):\n",
    "    display(Audio(waveform, rate=rate))"
   ]
  },
  {
   "cell_type": "code",
   "execution_count": 9,
   "metadata": {},
   "outputs": [],
   "source": [
    "def get_discord_name(filename):\n",
    "    discord_name_pattern = r'.+-(.*)\\..+'\n",
    "    username = re.search(discord_name_pattern, filename).group(1)\n",
    "    return username"
   ]
  },
  {
   "cell_type": "code",
   "execution_count": 10,
   "metadata": {},
   "outputs": [],
   "source": [
    "def find_aup_file(path):\n",
    "    aup_files = [f for f in os.listdir(path) if f.endswith('.aup')]\n",
    "    return aup_files[0] # Assume only one file per directory"
   ]
  },
  {
   "cell_type": "code",
   "execution_count": 11,
   "metadata": {},
   "outputs": [],
   "source": [
    "def parse_audacity_project(path_to_aup_file):\n",
    "    \n",
    "    with open(path_to_aup_file, 'r') as f:\n",
    "        aup = BeautifulSoup(f, features=\"lxml-xml\")\n",
    "    \n",
    "    root_path = os.path.split(path_to_aup_file)[:-1]\n",
    "    root_path = os.path.join(*root_path)\n",
    "\n",
    "    project = aup.find('project')\n",
    "    proj_name = project.get('projname')\n",
    "    data_path = os.path.join(root_path, proj_name)\n",
    "\n",
    "    proj_imports = project.find_all('import')\n",
    "    proj_files = []\n",
    "    for item in proj_imports:\n",
    "        filename, offset= item.get('filename'), float(item.get('offset'))\n",
    "        entry = {\n",
    "            'filename': filename,\n",
    "            'offset': offset\n",
    "        }\n",
    "        proj_files.append(entry)\n",
    "\n",
    "    \n",
    "    output = {\n",
    "        'project_name' : proj_name,\n",
    "        'root_path': root_path,\n",
    "        'data_path': data_path,\n",
    "        'files': proj_files\n",
    "    }\n",
    "\n",
    "    return output"
   ]
  },
  {
   "cell_type": "code",
   "execution_count": 12,
   "metadata": {},
   "outputs": [],
   "source": [
    "def get_segment_overlap_percent(parent: range, child: range) -> float:\n",
    "    \"\"\"Calculates the percentage of which the child's boundries fit within the parent's boundries.\"\"\"\n",
    "    olap = range(max(parent[0], child[0]), min(parent[-1], child[-1])+1)\n",
    "    olap_percent = len(olap) / len(child)\n",
    "    return olap_percent"
   ]
  },
  {
   "cell_type": "code",
   "execution_count": 13,
   "metadata": {},
   "outputs": [],
   "source": [
    "def get_vad_data(audio):\n",
    "    \"\"\"Process Silero VAD on audio waveform.\n",
    "    Returns:\n",
    "    df, speech_only_waveform, (vad_segments, speech_only_segments)\"\"\"\n",
    "    vad_segments = get_speech_timestamps(audio, silero_vad, threshold=VAD_THRESHOLD)\n",
    "    speech_only_waveform = collect_chunks(vad_segments, torch.tensor(audio))\n",
    "    \n",
    "    speech_only_segments = []\n",
    "    current_frame = 0\n",
    "    for i, entry in enumerate(vad_segments):\n",
    "        speech_length = entry['end'] - entry['start']\n",
    "        end_frame = current_frame + speech_length\n",
    "        speech_only_segments.append(\n",
    "            {'start': current_frame,\n",
    "            'end': end_frame\n",
    "            }\n",
    "            )\n",
    "        current_frame = end_frame\n",
    "\n",
    "    df = []\n",
    "    for i, (orig, short) in enumerate(zip(vad_segments, speech_only_segments)):\n",
    "        df.append({\n",
    "            'id': i,\n",
    "            'start': orig['start'],\n",
    "            'end': orig['end'],\n",
    "            'so_start': short['start'],\n",
    "            'so_end': short['end']\n",
    "        })\n",
    "\n",
    "    df = pd.DataFrame(df)\n",
    "\n",
    "    return df, speech_only_waveform, (vad_segments, speech_only_segments)"
   ]
  },
  {
   "cell_type": "code",
   "execution_count": 14,
   "metadata": {},
   "outputs": [],
   "source": [
    "def transcribe_and_align(audio):\n",
    "    results = whisper_model.transcribe(audio)\n",
    "    results_aligned = whisperx.align(results[\"segments\"], align_model, metadata, audio, device)\n",
    "    df = pd.DataFrame(results_aligned['word_segments'])\n",
    "    df[['start','end']] = (df[['start','end']] * SAMPLING_RATE).astype(int)\n",
    "    transcription_df = df\n",
    "    return transcription_df, results_aligned"
   ]
  },
  {
   "cell_type": "code",
   "execution_count": 15,
   "metadata": {},
   "outputs": [],
   "source": [
    "def assign_words_to_segments(segment_df, words_df):\n",
    "    segment_ranges = [range(x,y) for x,y in segment_df[['so_start','so_end']].values]\n",
    "    word_ranges = [range(x,y) for x,y in words_df[['start','end']].values]\n",
    "\n",
    "    ids = []\n",
    "    last_segment_detected = 0\n",
    "    for word_segment in word_ranges:\n",
    "        for i, segment in enumerate(segment_ranges)[last_segment_detected:]:\n",
    "            if get_segment_overlap_percent(segment, word_segment) > .5:\n",
    "                last_segment_detected = i\n",
    "                ids.append(i)\n",
    "                break\n",
    "        else:\n",
    "            ids.append(None)\n",
    "    words_df['parent_id'] = ids\n",
    "\n",
    "    f = lambda x: words_df[words_df['parent_id'] == x['id']]\n",
    "    segment_df['word_segments'] = segment_df.apply(f, axis=1)\n",
    "\n",
    "    f = lambda x: ' '.join(x['word_segments']['text'].to_list())\n",
    "    segment_df['text'] = segment_df.apply(f, axis=1)\n",
    "\n",
    "    return segment_df, words_df"
   ]
  },
  {
   "cell_type": "code",
   "execution_count": 16,
   "metadata": {},
   "outputs": [],
   "source": [
    "def process_audio(audio):\n",
    "\n",
    "    df, speech_only_waveform, (vad_segments, speech_only_segments) = get_vad_data(audio)\n",
    "\n",
    "    adf, results_aligned = transcribe_and_align(speech_only_waveform)\n",
    "\n",
    "    df, adf = assign_words_to_segments(df, adf)\n",
    "    # segment_ranges = [range(x,y) for x,y in df[['so_start','so_end']].values]\n",
    "    # word_ranges = [range(x,y) for x,y in adf[['start','end']].values]\n",
    "\n",
    "    # ids = []\n",
    "    # for word_segment in word_ranges:\n",
    "    #     for i, segment in enumerate(segment_ranges):\n",
    "    #         if get_segment_overlap_percent(segment, word_segment) > .5:\n",
    "    #             ids.append(i)\n",
    "    #             break\n",
    "    #     else:\n",
    "    #         ids.append(None)\n",
    "    # adf['parent_id'] = ids\n",
    "\n",
    "    # f = lambda x: adf[adf['parent_id'] == x['id']]\n",
    "    # df['word_segments'] = df.apply(f, axis=1)\n",
    "\n",
    "    # f = lambda x: ' '.join(x['word_segments']['text'].to_list())\n",
    "    # df['text'] = df.apply(f, axis=1)\n",
    "\n",
    "    return df, adf"
   ]
  },
  {
   "attachments": {},
   "cell_type": "markdown",
   "metadata": {},
   "source": [
    "## Audacity Parsing"
   ]
  },
  {
   "cell_type": "code",
   "execution_count": 17,
   "metadata": {},
   "outputs": [
    {
     "name": "stdout",
     "output_type": "stream",
     "text": [
      "{'data_path': '../data/db_02-03-2023\\\\V8DcTChKFF_data',\n",
      " 'files': [{'filename': '1-CS12_4510.ogg', 'offset': 0.0},\n",
      "           {'filename': '2-Crux_4429.ogg', 'offset': 0.0},\n",
      "           {'filename': '3-JadePixie_7138.ogg', 'offset': 0.0},\n",
      "           {'filename': '4-IlMaximuslI_9218.ogg', 'offset': 0.0}],\n",
      " 'project_name': 'V8DcTChKFF_data',\n",
      " 'root_path': '../data/db_02-03-2023'}\n"
     ]
    }
   ],
   "source": [
    "path = os.path.join(audacity_dir, find_aup_file(audacity_dir))\n",
    "\n",
    "project = parse_audacity_project(path)\n",
    "pprint(project)"
   ]
  },
  {
   "cell_type": "code",
   "execution_count": 18,
   "metadata": {},
   "outputs": [
    {
     "name": "stdout",
     "output_type": "stream",
     "text": [
      "../data/db_02-03-2023\\V8DcTChKFF_data\\1-CS12_4510.ogg\n"
     ]
    },
    {
     "data": {
      "image/png": "[encoded data removed]",
      "text/plain": [
       "<Figure size 700x250 with 1 Axes>"
      ]
     },
     "metadata": {},
     "output_type": "display_data"
    },
    {
     "name": "stdout",
     "output_type": "stream",
     "text": [
      "../data/db_02-03-2023\\V8DcTChKFF_data\\2-Crux_4429.ogg\n"
     ]
    },
    {
     "data": {
      "image/png": "[encoded data removed]",
      "text/plain": [
       "<Figure size 700x250 with 1 Axes>"
      ]
     },
     "metadata": {},
     "output_type": "display_data"
    },
    {
     "name": "stdout",
     "output_type": "stream",
     "text": [
      "../data/db_02-03-2023\\V8DcTChKFF_data\\3-JadePixie_7138.ogg\n"
     ]
    },
    {
     "data": {
      "image/png": "[encoded data removed]",
      "text/plain": [
       "<Figure size 700x250 with 1 Axes>"
      ]
     },
     "metadata": {},
     "output_type": "display_data"
    },
    {
     "name": "stdout",
     "output_type": "stream",
     "text": [
      "../data/db_02-03-2023\\V8DcTChKFF_data\\4-IlMaximuslI_9218.ogg\n"
     ]
    },
    {
     "data": {
      "image/png": "[encoded data removed]",
      "text/plain": [
       "<Figure size 700x250 with 1 Axes>"
      ]
     },
     "metadata": {},
     "output_type": "display_data"
    }
   ],
   "source": [
    "waveforms = []\n",
    "for file in project.get('files'):\n",
    "    filename = file.get('filename')\n",
    "    filepath = os.path.join(project.get('data_path'), filename)\n",
    "    print(filepath)\n",
    "    wav = whisperx.load_audio(filepath)\n",
    "    vizualize_waveform(wav)\n",
    "    waveforms.append((filename, wav))"
   ]
  },
  {
   "cell_type": "code",
   "execution_count": 19,
   "metadata": {},
   "outputs": [
    {
     "name": "stdout",
     "output_type": "stream",
     "text": [
      "[('1-CS12_4510.ogg',\n",
      "  array([0.00344849, 0.00344849, 0.003479  , ..., 0.        , 0.        ,\n",
      "       0.        ], dtype=float32)),\n",
      " ('2-Crux_4429.ogg', array([0., 0., 0., ..., 0., 0., 0.], dtype=float32)),\n",
      " ('3-JadePixie_7138.ogg', array([0., 0., 0., ..., 0., 0., 0.], dtype=float32)),\n",
      " ('4-IlMaximuslI_9218.ogg',\n",
      "  array([0., 0., 0., ..., 0., 0., 0.], dtype=float32))]\n"
     ]
    }
   ],
   "source": [
    "pprint(waveforms)"
   ]
  },
  {
   "attachments": {},
   "cell_type": "markdown",
   "metadata": {},
   "source": [
    "## Processing Audio Files"
   ]
  },
  {
   "cell_type": "code",
   "execution_count": 20,
   "metadata": {},
   "outputs": [],
   "source": [
    "# transcript_dfs = []\n",
    "# for filename, waveform in waveforms:\n",
    "#     df, adf = process_audio(waveform)\n",
    "#     out = {\n",
    "#         'speaker': get_discord_name(filename),\n",
    "#         'filename': filename,\n",
    "#         'full': df,\n",
    "#         'words': adf\n",
    "#     }\n",
    "#     transcript_dfs.append(out)"
   ]
  },
  {
   "cell_type": "code",
   "execution_count": 21,
   "metadata": {},
   "outputs": [],
   "source": [
    "# import pickle\n",
    "\n",
    "# with open('./cache/transcript_dfs.pickle', 'wb') as f:\n",
    "#     pickle.dump(transcript_dfs, f)"
   ]
  },
  {
   "attachments": {},
   "cell_type": "markdown",
   "metadata": {},
   "source": [
    "### One at a time"
   ]
  },
  {
   "cell_type": "code",
   "execution_count": 22,
   "metadata": {},
   "outputs": [
    {
     "data": {
      "text/plain": [
       "[('1-CS12_4510.ogg',\n",
       "  array([0.00344849, 0.00344849, 0.003479  , ..., 0.        , 0.        ,\n",
       "         0.        ], dtype=float32)),\n",
       " ('2-Crux_4429.ogg', array([0., 0., 0., ..., 0., 0., 0.], dtype=float32)),\n",
       " ('3-JadePixie_7138.ogg', array([0., 0., 0., ..., 0., 0., 0.], dtype=float32)),\n",
       " ('4-IlMaximuslI_9218.ogg',\n",
       "  array([0., 0., 0., ..., 0., 0., 0.], dtype=float32))]"
      ]
     },
     "execution_count": 22,
     "metadata": {},
     "output_type": "execute_result"
    }
   ],
   "source": [
    "waveforms"
   ]
  },
  {
   "cell_type": "code",
   "execution_count": 23,
   "metadata": {},
   "outputs": [
    {
     "name": "stdout",
     "output_type": "stream",
     "text": [
      "3-JadePixie_7138.ogg\n",
      "[0. 0. 0. ... 0. 0. 0.]\n"
     ]
    }
   ],
   "source": [
    "filename, waveform = waveforms[2]\n",
    "print(filename)\n",
    "print(waveform)"
   ]
  },
  {
   "cell_type": "code",
   "execution_count": 24,
   "metadata": {},
   "outputs": [
    {
     "name": "stderr",
     "output_type": "stream",
     "text": [
      "c:\\Python\\3.10.8\\lib\\site-packages\\torch\\nn\\modules\\module.py:1194: UserWarning: operator () profile_node %668 : int[] = prim::profile_ivalue(%666)\n",
      " does not have profile information (Triggered internally at ..\\torch\\csrc\\jit\\codegen\\cuda\\graph_fuser.cpp:109.)\n",
      "  return forward_call(*input, **kwargs)\n"
     ]
    }
   ],
   "source": [
    "segment_df, speech_only_waveform, (vad_segments, speech_only_segments) = get_vad_data(waveform)"
   ]
  },
  {
   "cell_type": "code",
   "execution_count": 25,
   "metadata": {},
   "outputs": [
    {
     "data": {
      "text/plain": [
       "(   id   start     end  so_start  so_end\n",
       " 0   0   30752   91616         0   60864\n",
       " 1   1  151072  201184     60864  110976\n",
       " 2   2  210464  216544    110976  117056\n",
       " 3   3  276000  319968    117056  161024\n",
       " 4   4  325664  351712    161024  187072,\n",
       " (1323, 5))"
      ]
     },
     "execution_count": 25,
     "metadata": {},
     "output_type": "execute_result"
    }
   ],
   "source": [
    "segment_df.head(), segment_df.shape"
   ]
  },
  {
   "cell_type": "code",
   "execution_count": 26,
   "metadata": {},
   "outputs": [],
   "source": [
    "## This was taking much longer than expected.\n",
    "\n",
    "# transcription_df, results_aligned = transcribe_and_align(speech_only_waveform)\n",
    "# transcription_df.shape"
   ]
  },
  {
   "cell_type": "code",
   "execution_count": 27,
   "metadata": {},
   "outputs": [],
   "source": [
    "# Audio(speech_only_waveform, rate=SAMPLING_RATE)"
   ]
  },
  {
   "cell_type": "code",
   "execution_count": 31,
   "metadata": {},
   "outputs": [
    {
     "data": {
      "text/plain": [
       "array([0., 0., 0., ..., 0., 0., 0.], dtype=float32)"
      ]
     },
     "execution_count": 31,
     "metadata": {},
     "output_type": "execute_result"
    }
   ],
   "source": [
    "speech_only_waveform.numpy()"
   ]
  },
  {
   "cell_type": "code",
   "execution_count": 32,
   "metadata": {},
   "outputs": [
    {
     "ename": "KeyboardInterrupt",
     "evalue": "",
     "output_type": "error",
     "traceback": [
      "\u001b[1;31m---------------------------------------------------------------------------\u001b[0m",
      "\u001b[1;31mKeyboardInterrupt\u001b[0m                         Traceback (most recent call last)",
      "\u001b[1;32m~\\AppData\\Local\\Temp\\ipykernel_21284\\1032275348.py\u001b[0m in \u001b[0;36m<cell line: 1>\u001b[1;34m()\u001b[0m\n\u001b[1;32m----> 1\u001b[1;33m \u001b[0mresults\u001b[0m \u001b[1;33m=\u001b[0m \u001b[0mwhisper_model\u001b[0m\u001b[1;33m.\u001b[0m\u001b[0mtranscribe\u001b[0m\u001b[1;33m(\u001b[0m\u001b[0mspeech_only_waveform\u001b[0m\u001b[1;33m.\u001b[0m\u001b[0mnumpy\u001b[0m\u001b[1;33m(\u001b[0m\u001b[1;33m)\u001b[0m\u001b[1;33m)\u001b[0m\u001b[1;33m\u001b[0m\u001b[1;33m\u001b[0m\u001b[0m\n\u001b[0m",
      "\u001b[1;32ma:\\github\\whisperx\\whisperx\\transcribe.py\u001b[0m in \u001b[0;36mtranscribe\u001b[1;34m(model, audio, verbose, temperature, compression_ratio_threshold, logprob_threshold, no_speech_threshold, condition_on_previous_text, mel, **decode_options)\u001b[0m\n\u001b[0;32m    185\u001b[0m \u001b[1;33m\u001b[0m\u001b[0m\n\u001b[0;32m    186\u001b[0m             \u001b[0mdecode_options\u001b[0m\u001b[1;33m[\u001b[0m\u001b[1;34m\"prompt\"\u001b[0m\u001b[1;33m]\u001b[0m \u001b[1;33m=\u001b[0m \u001b[0mall_tokens\u001b[0m\u001b[1;33m[\u001b[0m\u001b[0mprompt_reset_since\u001b[0m\u001b[1;33m:\u001b[0m\u001b[1;33m]\u001b[0m\u001b[1;33m\u001b[0m\u001b[1;33m\u001b[0m\u001b[0m\n\u001b[1;32m--> 187\u001b[1;33m             \u001b[0mresult\u001b[0m\u001b[1;33m:\u001b[0m \u001b[0mDecodingResult\u001b[0m \u001b[1;33m=\u001b[0m \u001b[0mdecode_with_fallback\u001b[0m\u001b[1;33m(\u001b[0m\u001b[0msegment\u001b[0m\u001b[1;33m)\u001b[0m\u001b[1;33m\u001b[0m\u001b[1;33m\u001b[0m\u001b[0m\n\u001b[0m\u001b[0;32m    188\u001b[0m             \u001b[0mtokens\u001b[0m \u001b[1;33m=\u001b[0m \u001b[0mtorch\u001b[0m\u001b[1;33m.\u001b[0m\u001b[0mtensor\u001b[0m\u001b[1;33m(\u001b[0m\u001b[0mresult\u001b[0m\u001b[1;33m.\u001b[0m\u001b[0mtokens\u001b[0m\u001b[1;33m)\u001b[0m\u001b[1;33m\u001b[0m\u001b[1;33m\u001b[0m\u001b[0m\n\u001b[0;32m    189\u001b[0m \u001b[1;33m\u001b[0m\u001b[0m\n",
      "\u001b[1;32ma:\\github\\whisperx\\whisperx\\transcribe.py\u001b[0m in \u001b[0;36mdecode_with_fallback\u001b[1;34m(segment)\u001b[0m\n\u001b[0;32m    121\u001b[0m \u001b[1;33m\u001b[0m\u001b[0m\n\u001b[0;32m    122\u001b[0m             \u001b[0moptions\u001b[0m \u001b[1;33m=\u001b[0m \u001b[0mDecodingOptions\u001b[0m\u001b[1;33m(\u001b[0m\u001b[1;33m**\u001b[0m\u001b[0mkwargs\u001b[0m\u001b[1;33m,\u001b[0m \u001b[0mtemperature\u001b[0m\u001b[1;33m=\u001b[0m\u001b[0mt\u001b[0m\u001b[1;33m)\u001b[0m\u001b[1;33m\u001b[0m\u001b[1;33m\u001b[0m\u001b[0m\n\u001b[1;32m--> 123\u001b[1;33m             \u001b[0mdecode_result\u001b[0m \u001b[1;33m=\u001b[0m \u001b[0mmodel\u001b[0m\u001b[1;33m.\u001b[0m\u001b[0mdecode\u001b[0m\u001b[1;33m(\u001b[0m\u001b[0msegment\u001b[0m\u001b[1;33m,\u001b[0m \u001b[0moptions\u001b[0m\u001b[1;33m)\u001b[0m\u001b[1;33m\u001b[0m\u001b[1;33m\u001b[0m\u001b[0m\n\u001b[0m\u001b[0;32m    124\u001b[0m \u001b[1;33m\u001b[0m\u001b[0m\n\u001b[0;32m    125\u001b[0m             \u001b[0mneeds_fallback\u001b[0m \u001b[1;33m=\u001b[0m \u001b[1;32mFalse\u001b[0m\u001b[1;33m\u001b[0m\u001b[1;33m\u001b[0m\u001b[0m\n",
      "\u001b[1;32mc:\\Python\\3.10.8\\lib\\site-packages\\torch\\autograd\\grad_mode.py\u001b[0m in \u001b[0;36mdecorate_context\u001b[1;34m(*args, **kwargs)\u001b[0m\n\u001b[0;32m     25\u001b[0m         \u001b[1;32mdef\u001b[0m \u001b[0mdecorate_context\u001b[0m\u001b[1;33m(\u001b[0m\u001b[1;33m*\u001b[0m\u001b[0margs\u001b[0m\u001b[1;33m,\u001b[0m \u001b[1;33m**\u001b[0m\u001b[0mkwargs\u001b[0m\u001b[1;33m)\u001b[0m\u001b[1;33m:\u001b[0m\u001b[1;33m\u001b[0m\u001b[1;33m\u001b[0m\u001b[0m\n\u001b[0;32m     26\u001b[0m             \u001b[1;32mwith\u001b[0m \u001b[0mself\u001b[0m\u001b[1;33m.\u001b[0m\u001b[0mclone\u001b[0m\u001b[1;33m(\u001b[0m\u001b[1;33m)\u001b[0m\u001b[1;33m:\u001b[0m\u001b[1;33m\u001b[0m\u001b[1;33m\u001b[0m\u001b[0m\n\u001b[1;32m---> 27\u001b[1;33m                 \u001b[1;32mreturn\u001b[0m \u001b[0mfunc\u001b[0m\u001b[1;33m(\u001b[0m\u001b[1;33m*\u001b[0m\u001b[0margs\u001b[0m\u001b[1;33m,\u001b[0m \u001b[1;33m**\u001b[0m\u001b[0mkwargs\u001b[0m\u001b[1;33m)\u001b[0m\u001b[1;33m\u001b[0m\u001b[1;33m\u001b[0m\u001b[0m\n\u001b[0m\u001b[0;32m     28\u001b[0m         \u001b[1;32mreturn\u001b[0m \u001b[0mcast\u001b[0m\u001b[1;33m(\u001b[0m\u001b[0mF\u001b[0m\u001b[1;33m,\u001b[0m \u001b[0mdecorate_context\u001b[0m\u001b[1;33m)\u001b[0m\u001b[1;33m\u001b[0m\u001b[1;33m\u001b[0m\u001b[0m\n\u001b[0;32m     29\u001b[0m \u001b[1;33m\u001b[0m\u001b[0m\n",
      "\u001b[1;32ma:\\github\\whisperx\\whisperx\\decoding.py\u001b[0m in \u001b[0;36mdecode\u001b[1;34m(model, mel, options)\u001b[0m\n\u001b[0;32m    703\u001b[0m         \u001b[0mmel\u001b[0m \u001b[1;33m=\u001b[0m \u001b[0mmel\u001b[0m\u001b[1;33m.\u001b[0m\u001b[0munsqueeze\u001b[0m\u001b[1;33m(\u001b[0m\u001b[1;36m0\u001b[0m\u001b[1;33m)\u001b[0m\u001b[1;33m\u001b[0m\u001b[1;33m\u001b[0m\u001b[0m\n\u001b[0;32m    704\u001b[0m \u001b[1;33m\u001b[0m\u001b[0m\n\u001b[1;32m--> 705\u001b[1;33m     \u001b[0mresult\u001b[0m \u001b[1;33m=\u001b[0m \u001b[0mDecodingTask\u001b[0m\u001b[1;33m(\u001b[0m\u001b[0mmodel\u001b[0m\u001b[1;33m,\u001b[0m \u001b[0moptions\u001b[0m\u001b[1;33m)\u001b[0m\u001b[1;33m.\u001b[0m\u001b[0mrun\u001b[0m\u001b[1;33m(\u001b[0m\u001b[0mmel\u001b[0m\u001b[1;33m)\u001b[0m\u001b[1;33m\u001b[0m\u001b[1;33m\u001b[0m\u001b[0m\n\u001b[0m\u001b[0;32m    706\u001b[0m \u001b[1;33m\u001b[0m\u001b[0m\n\u001b[0;32m    707\u001b[0m     \u001b[1;32mif\u001b[0m \u001b[0msingle\u001b[0m\u001b[1;33m:\u001b[0m\u001b[1;33m\u001b[0m\u001b[1;33m\u001b[0m\u001b[0m\n",
      "\u001b[1;32mc:\\Python\\3.10.8\\lib\\site-packages\\torch\\autograd\\grad_mode.py\u001b[0m in \u001b[0;36mdecorate_context\u001b[1;34m(*args, **kwargs)\u001b[0m\n\u001b[0;32m     25\u001b[0m         \u001b[1;32mdef\u001b[0m \u001b[0mdecorate_context\u001b[0m\u001b[1;33m(\u001b[0m\u001b[1;33m*\u001b[0m\u001b[0margs\u001b[0m\u001b[1;33m,\u001b[0m \u001b[1;33m**\u001b[0m\u001b[0mkwargs\u001b[0m\u001b[1;33m)\u001b[0m\u001b[1;33m:\u001b[0m\u001b[1;33m\u001b[0m\u001b[1;33m\u001b[0m\u001b[0m\n\u001b[0;32m     26\u001b[0m             \u001b[1;32mwith\u001b[0m \u001b[0mself\u001b[0m\u001b[1;33m.\u001b[0m\u001b[0mclone\u001b[0m\u001b[1;33m(\u001b[0m\u001b[1;33m)\u001b[0m\u001b[1;33m:\u001b[0m\u001b[1;33m\u001b[0m\u001b[1;33m\u001b[0m\u001b[0m\n\u001b[1;32m---> 27\u001b[1;33m                 \u001b[1;32mreturn\u001b[0m \u001b[0mfunc\u001b[0m\u001b[1;33m(\u001b[0m\u001b[1;33m*\u001b[0m\u001b[0margs\u001b[0m\u001b[1;33m,\u001b[0m \u001b[1;33m**\u001b[0m\u001b[0mkwargs\u001b[0m\u001b[1;33m)\u001b[0m\u001b[1;33m\u001b[0m\u001b[1;33m\u001b[0m\u001b[0m\n\u001b[0m\u001b[0;32m     28\u001b[0m         \u001b[1;32mreturn\u001b[0m \u001b[0mcast\u001b[0m\u001b[1;33m(\u001b[0m\u001b[0mF\u001b[0m\u001b[1;33m,\u001b[0m \u001b[0mdecorate_context\u001b[0m\u001b[1;33m)\u001b[0m\u001b[1;33m\u001b[0m\u001b[1;33m\u001b[0m\u001b[0m\n\u001b[0;32m     29\u001b[0m \u001b[1;33m\u001b[0m\u001b[0m\n",
      "\u001b[1;32ma:\\github\\whisperx\\whisperx\\decoding.py\u001b[0m in \u001b[0;36mrun\u001b[1;34m(self, mel)\u001b[0m\n\u001b[0;32m    635\u001b[0m \u001b[1;33m\u001b[0m\u001b[0m\n\u001b[0;32m    636\u001b[0m         \u001b[1;31m# call the main sampling loop\u001b[0m\u001b[1;33m\u001b[0m\u001b[1;33m\u001b[0m\u001b[0m\n\u001b[1;32m--> 637\u001b[1;33m         \u001b[0mtokens\u001b[0m\u001b[1;33m,\u001b[0m \u001b[0msum_logprobs\u001b[0m\u001b[1;33m,\u001b[0m \u001b[0mno_speech_probs\u001b[0m \u001b[1;33m=\u001b[0m \u001b[0mself\u001b[0m\u001b[1;33m.\u001b[0m\u001b[0m_main_loop\u001b[0m\u001b[1;33m(\u001b[0m\u001b[0maudio_features\u001b[0m\u001b[1;33m,\u001b[0m \u001b[0mtokens\u001b[0m\u001b[1;33m)\u001b[0m\u001b[1;33m\u001b[0m\u001b[1;33m\u001b[0m\u001b[0m\n\u001b[0m\u001b[0;32m    638\u001b[0m \u001b[1;33m\u001b[0m\u001b[0m\n\u001b[0;32m    639\u001b[0m         \u001b[1;31m# reshape the tensors to have (n_audio, n_group) as the first two dimensions\u001b[0m\u001b[1;33m\u001b[0m\u001b[1;33m\u001b[0m\u001b[0m\n",
      "\u001b[1;32ma:\\github\\whisperx\\whisperx\\decoding.py\u001b[0m in \u001b[0;36m_main_loop\u001b[1;34m(self, audio_features, tokens)\u001b[0m\n\u001b[0;32m    601\u001b[0m                 \u001b[1;31m# apply the logit filters, e.g. for suppressing or applying penalty to\u001b[0m\u001b[1;33m\u001b[0m\u001b[1;33m\u001b[0m\u001b[0m\n\u001b[0;32m    602\u001b[0m                 \u001b[1;32mfor\u001b[0m \u001b[0mlogit_filter\u001b[0m \u001b[1;32min\u001b[0m \u001b[0mself\u001b[0m\u001b[1;33m.\u001b[0m\u001b[0mlogit_filters\u001b[0m\u001b[1;33m:\u001b[0m\u001b[1;33m\u001b[0m\u001b[1;33m\u001b[0m\u001b[0m\n\u001b[1;32m--> 603\u001b[1;33m                     \u001b[0mlogit_filter\u001b[0m\u001b[1;33m.\u001b[0m\u001b[0mapply\u001b[0m\u001b[1;33m(\u001b[0m\u001b[0mlogits\u001b[0m\u001b[1;33m,\u001b[0m \u001b[0mtokens\u001b[0m\u001b[1;33m)\u001b[0m\u001b[1;33m\u001b[0m\u001b[1;33m\u001b[0m\u001b[0m\n\u001b[0m\u001b[0;32m    604\u001b[0m \u001b[1;33m\u001b[0m\u001b[0m\n\u001b[0;32m    605\u001b[0m                 \u001b[1;31m# expand the tokens tensor with the selected next tokens\u001b[0m\u001b[1;33m\u001b[0m\u001b[1;33m\u001b[0m\u001b[0m\n",
      "\u001b[1;31mKeyboardInterrupt\u001b[0m: "
     ]
    }
   ],
   "source": [
    "results = whisper_model.transcribe(speech_only_waveform.numpy())"
   ]
  }
 ],
 "metadata": {
  "kernelspec": {
   "display_name": "Python 3",
   "language": "python",
   "name": "python3"
  },
  "language_info": {
   "codemirror_mode": {
    "name": "ipython",
    "version": 3
   },
   "file_extension": ".py",
   "mimetype": "text/x-python",
   "name": "python",
   "nbconvert_exporter": "python",
   "pygments_lexer": "ipython3",
   "version": "3.10.8"
  },
  "orig_nbformat": 4,
  "vscode": {
   "interpreter": {
    "hash": "050044240cf91f37d85165fce9cd1b29ae697f4786d26880d31f6038c78120fd"
   }
  }
 },
 "nbformat": 4,
 "nbformat_minor": 2
}
