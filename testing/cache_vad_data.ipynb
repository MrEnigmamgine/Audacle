{
 "cells": [
  {
   "cell_type": "code",
   "execution_count": 1,
   "metadata": {},
   "outputs": [],
   "source": [
    "import os, re\n",
    "from pprint import pprint\n",
    "from concurrent.futures import ThreadPoolExecutor\n",
    "from IPython.display import Audio, display\n",
    "\n",
    "\n",
    "import torch\n",
    "import whisperx\n",
    "import my_utils"
   ]
  },
  {
   "cell_type": "code",
   "execution_count": 2,
   "metadata": {},
   "outputs": [],
   "source": [
    "SR = 16000"
   ]
  },
  {
   "cell_type": "code",
   "execution_count": 3,
   "metadata": {},
   "outputs": [
    {
     "name": "stdout",
     "output_type": "stream",
     "text": [
      "{'data_path': '../data/db_02-03-2023\\\\V8DcTChKFF_data',\n",
      " 'files': [{'filename': '1-CS12_4510.ogg', 'offset': 0.0},\n",
      "           {'filename': '2-Crux_4429.ogg', 'offset': 0.0},\n",
      "           {'filename': '3-JadePixie_7138.ogg', 'offset': 0.0},\n",
      "           {'filename': '4-IlMaximuslI_9218.ogg', 'offset': 0.0}],\n",
      " 'project_name': 'V8DcTChKFF_data',\n",
      " 'root_path': '../data/db_02-03-2023'}\n"
     ]
    }
   ],
   "source": [
    "audacity_dir = '../data/db_02-03-2023/'\n",
    "path = os.path.join(audacity_dir, my_utils.find_aup_file(audacity_dir))\n",
    "\n",
    "project = my_utils.parse_audacity_project(path)\n",
    "pprint(project)"
   ]
  },
  {
   "cell_type": "code",
   "execution_count": 5,
   "metadata": {},
   "outputs": [],
   "source": [
    "# waveforms = []\n",
    "# for file in project.get('files'):\n",
    "#     filename = file.get('filename')\n",
    "#     filepath = os.path.join(project.get('data_path'), filename)\n",
    "#     print(filepath)\n",
    "#     wav = whisper.load_audio(filepath)\n",
    "#     # vizualize_waveform(wav)\n",
    "#     waveforms.append((filename, wav))"
   ]
  },
  {
   "cell_type": "code",
   "execution_count": 4,
   "metadata": {},
   "outputs": [
    {
     "data": {
      "text/plain": [
       "[array([0.00344849, 0.00344849, 0.003479  , ..., 0.        , 0.        ,\n",
       "        0.        ], dtype=float32),\n",
       " array([0., 0., 0., ..., 0., 0., 0.], dtype=float32),\n",
       " array([0., 0., 0., ..., 0., 0., 0.], dtype=float32),\n",
       " array([0., 0., 0., ..., 0., 0., 0.], dtype=float32)]"
      ]
     },
     "execution_count": 4,
     "metadata": {},
     "output_type": "execute_result"
    }
   ],
   "source": [
    "filepaths = [os.path.join(project.get('data_path'), file.get('filename')) for file in project.get('files')]\n",
    "with ThreadPoolExecutor() as executor:\n",
    "    waveforms = executor.map(whisperx.load_audio, filepaths)\n",
    "waveforms = list(waveforms)\n",
    "waveforms"
   ]
  },
  {
   "cell_type": "code",
   "execution_count": 5,
   "metadata": {},
   "outputs": [],
   "source": [
    "filenames = [file.get('filename') for file in project['files']]"
   ]
  },
  {
   "cell_type": "code",
   "execution_count": 6,
   "metadata": {},
   "outputs": [],
   "source": [
    "silero_dir = '../models/silero-vad'\n",
    "silero_vad, utils =    torch.hub.load(repo_or_dir=silero_dir,\n",
    "                               source='local',\n",
    "                               model='silero_vad',\n",
    "                               force_reload=True,\n",
    "                               onnx=False)\n",
    "\n",
    "(get_speech_timestamps,\n",
    " save_audio,\n",
    " read_audio,\n",
    " VADIterator,\n",
    " collect_chunks) = utils"
   ]
  },
  {
   "cell_type": "code",
   "execution_count": 7,
   "metadata": {},
   "outputs": [],
   "source": [
    "def process_vad(audio):\n",
    "    vad_segments = get_speech_timestamps(audio, silero_vad)\n",
    "    return vad_segments\n"
   ]
  },
  {
   "cell_type": "code",
   "execution_count": 9,
   "metadata": {},
   "outputs": [],
   "source": [
    "vad_segs_0 = process_vad(waveforms[0])"
   ]
  },
  {
   "cell_type": "code",
   "execution_count": 12,
   "metadata": {},
   "outputs": [],
   "source": [
    "vad_segs_1 = process_vad(waveforms[1])"
   ]
  },
  {
   "cell_type": "code",
   "execution_count": 13,
   "metadata": {},
   "outputs": [],
   "source": [
    "vad_segs_2 = process_vad(waveforms[2])"
   ]
  },
  {
   "cell_type": "code",
   "execution_count": 14,
   "metadata": {},
   "outputs": [],
   "source": [
    "vad_segs_3 = process_vad(waveforms[3])"
   ]
  },
  {
   "cell_type": "code",
   "execution_count": 15,
   "metadata": {},
   "outputs": [],
   "source": [
    "vad_segs = [vad_segs_0,vad_segs_1,vad_segs_2,vad_segs_3]"
   ]
  },
  {
   "cell_type": "code",
   "execution_count": 30,
   "metadata": {},
   "outputs": [],
   "source": [
    "import json\n",
    "\n",
    "path = project.get('data_path')\n",
    "\n",
    "for file, vad in zip(filenames, vad_segs):\n",
    "    data = {'audio_file': file, 'segments': vad}\n",
    "    with open(os.path.join('./cache/', f\"{file}.json\",), 'w') as f:\n",
    "        json.dump(data, f)\n"
   ]
  }
 ],
 "metadata": {
  "kernelspec": {
   "display_name": "Python 3",
   "language": "python",
   "name": "python3"
  },
  "language_info": {
   "codemirror_mode": {
    "name": "ipython",
    "version": 3
   },
   "file_extension": ".py",
   "mimetype": "text/x-python",
   "name": "python",
   "nbconvert_exporter": "python",
   "pygments_lexer": "ipython3",
   "version": "3.10.8"
  },
  "orig_nbformat": 4,
  "vscode": {
   "interpreter": {
    "hash": "050044240cf91f37d85165fce9cd1b29ae697f4786d26880d31f6038c78120fd"
   }
  }
 },
 "nbformat": 4,
 "nbformat_minor": 2
}
