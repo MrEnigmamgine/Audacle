{
 "cells": [
  {
   "cell_type": "code",
   "execution_count": 1,
   "metadata": {},
   "outputs": [
    {
     "data": {
      "text/plain": [
       "['tiny.en',\n",
       " 'tiny',\n",
       " 'base.en',\n",
       " 'base',\n",
       " 'small.en',\n",
       " 'small',\n",
       " 'medium.en',\n",
       " 'medium',\n",
       " 'large-v1',\n",
       " 'large-v2',\n",
       " 'large']"
      ]
     },
     "execution_count": 1,
     "metadata": {},
     "output_type": "execute_result"
    }
   ],
   "source": [
    "import whisper\n",
    "\n",
    "whisper.available_models()"
   ]
  },
  {
   "attachments": {},
   "cell_type": "markdown",
   "metadata": {},
   "source": [
    "## Comparing models"
   ]
  },
  {
   "attachments": {},
   "cell_type": "markdown",
   "metadata": {},
   "source": [
    "Limiting my comparison to only the english language models for now.  Processing time is important to me and the audio I'll be working with is entirely in english."
   ]
  },
  {
   "cell_type": "code",
   "execution_count": 3,
   "metadata": {},
   "outputs": [],
   "source": [
    "short_ogg = '../data/db short intro.ogg'\n",
    "model_dir = '../models/whisper'"
   ]
  },
  {
   "cell_type": "code",
   "execution_count": 3,
   "metadata": {},
   "outputs": [],
   "source": [
    "tiny = whisper.load_model('tiny.en', download_root= model_dir)"
   ]
  },
  {
   "cell_type": "code",
   "execution_count": 8,
   "metadata": {},
   "outputs": [],
   "source": [
    "base = whisper.load_model('base.en', download_root= model_dir)"
   ]
  },
  {
   "cell_type": "code",
   "execution_count": 12,
   "metadata": {},
   "outputs": [],
   "source": [
    "small = whisper.load_model('small.en', download_root= model_dir)"
   ]
  },
  {
   "cell_type": "code",
   "execution_count": 4,
   "metadata": {},
   "outputs": [],
   "source": [
    "medium = whisper.load_model('medium.en', download_root= model_dir)"
   ]
  },
  {
   "attachments": {},
   "cell_type": "markdown",
   "metadata": {},
   "source": [
    "I think I'm running into memory issues with loading the medium model.  I might not have enough vram or something.  I get `CUDA Error: Unkown Error`"
   ]
  },
  {
   "cell_type": "code",
   "execution_count": 6,
   "metadata": {},
   "outputs": [],
   "source": [
    "result_tiny = tiny.transcribe(short_ogg)"
   ]
  },
  {
   "cell_type": "code",
   "execution_count": 9,
   "metadata": {},
   "outputs": [],
   "source": [
    "result_base = base.transcribe(short_ogg)"
   ]
  },
  {
   "cell_type": "code",
   "execution_count": 13,
   "metadata": {},
   "outputs": [],
   "source": [
    "result_small = small.transcribe(short_ogg)"
   ]
  },
  {
   "cell_type": "code",
   "execution_count": 5,
   "metadata": {},
   "outputs": [],
   "source": [
    "result_medium = medium.transcribe(short_ogg)"
   ]
  },
  {
   "cell_type": "code",
   "execution_count": 10,
   "metadata": {},
   "outputs": [
    {
     "data": {
      "text/plain": [
       "\" Oh, I got he's loud again. Hello Craig I he was down the values loud again. Yeah. Well, that's because you broke your ears Hello Hello Hello my friend hi Well, we got a session of D&D coming up Last time it's kind of interesting We all somehow lived Yeah, is a pretty pretty amazing thing We got very lucky I'm currently and I guess unintentionally very well prepared Yeah unintentionally very well prepared you're right We bought our potions we got our supplies We had my Lee and called the ritual and then we went to a place where everything was bad Yeah, we got to watch a dream like sequence where Then a habitat of atoms past did like this dark ritual thing involved human sacrifice and Then you know opened a portal to the fire element stuff and And it basically just kind of fucked up reality in this place But also it kind of felt like a lot of the fucked upness was because there was an inevitable There he was destroying and recreating things and everything it was recreating was just a little bit off It seems I'm shitting quarantine My my interpretation was that The only reason anything made sense of all was because of the inevitable Hmm that's interesting, okay. Yeah, I didn't think about it that way. I And so our two gifts traveled through Anem Time was non-linear and so events happened before and after Events and we were jumping in real time It was every 10 minutes and We just kept jumping from location location from thing we did to do to done At one point Asa asviet's body just sort of floating and That was bad Had a couple instances of kind of going insane and just sort of Having uh, just the worst body horror descriptions Yeah As yeah, how to sixth-sense moment while As unit was snacking on your fingers at times Yeah And then it led up to a narrator sort of just uh You know Stanley's parable Stanley's I can't remember Stanley's parable. Yeah, I was right. I was so convinced I was wrong Um, that's heads you words the Stanley parable No, okay. I was on to then What did you say that was not the Stanley parable because I heard I heard I said Stanley's parable. Oh I know how could I do such a thing How about the Stanley parable ultra deluxe Uh, I should go back to play with some point. Yeah, Sam should play through it because I don't believe he has I definitely happened But I got a little bit of the experience of the animas we went from Point to point to point the narrator Asviet slowly found out wasn't that helpful and was kind of just trapped with us And apparently we could go find the narrator and just like mess him up if we Said her mind to it, but we were we had our eyes on the prize Even though we took too long to confuse between the jumps and had a lot of jumps I think the narrator was hopeful It's just that we ignored some of his advice at times Very contrary into Mm-hmm\""
      ]
     },
     "execution_count": 10,
     "metadata": {},
     "output_type": "execute_result"
    }
   ],
   "source": [
    "result_tiny['text']"
   ]
  },
  {
   "cell_type": "code",
   "execution_count": 11,
   "metadata": {},
   "outputs": [
    {
     "data": {
      "text/plain": [
       "\" Oh my god, he's loud again. Hello, Craig. Turn him down. That he was down. The value is loud again. All right. Well, that's because you broke your ears. Hello. Hello. Oh, hello, Frank. Hi. Well, welcome. We got a session of D&D coming up. Last time it's kind of interesting. We all somehow lived. Yeah, it is a pretty pretty amazing thing. We got very lucky. I'm currently and I guess unintentionally very well prepared. Yeah, unintentionally very well prepared. You're right. We bought our potions. We got our supplies. We had Miley and called the ritual and then we went to a place where everything was bad. I'm not. Yeah. But we got to watch a dreamlike sequence where the inhabitants of the animals past did like this dark ritual thing. Involved human sacrifice and then, you know, opened a portal to the fire element stuff. And it basically just kind of felt the reality in this place. But also it kind of felt like a lot of the fucked upness was because there was an inevitable there who was destroying and recreating things and everything was recreating was just a little bit off. It seems some shit in quarantine. My interpretation was that the only reason anything made sense at all is because of the inevitable. That's interesting. Okay. Yeah, I didn't think about it that way. Yeah, I didn't think about it that way. And so our two gifts traveled through and time was nonlinear and so events happened before and after events and we were jumping in real time. It was every 10 minutes and we just kept jumping from location location from thing we did to do to done. At one point saw as his body just sort of floating. And that was bad. I had a couple instances of kind of going insane and just sort of having just the worst body horror descriptions. Yeah. As you had a six cents moment while as you know, I was snacking on your fingers at times. Yeah. And then it led up to a narrator sort of just, you know, what, Stanley's parable. I can't remember. Stanley's parable. Yeah. I was right. I was so convinced I was wrong. This has you words. The Stanley parable. Oh, okay. I was on to then. What did you say that was not the Stanley parable? Because I heard I heard I said, Stan Lee's parable. I know how could I do such a thing? How about the Stanley parable ultra deluxe? I should go back to play this at a point. Yeah, Sam should play through it because I don't believe he has. I definitely haven't. I'm not sure. But I got a little bit of experience in the anim as we went from point to point to point. The narrator, as we slowly found out, wasn't that helpful and was kind of just trapped with us. And apparently we could go find the narrator and just like mess him up if we set our minds to it. And then we went on the prize, even though we took too long to confuse between the jumps and had a lot of jumps. I think the narrator was helpful. It's just that we ignored some of his advice at times. Very contrary, too.\""
      ]
     },
     "execution_count": 11,
     "metadata": {},
     "output_type": "execute_result"
    }
   ],
   "source": [
    "result_base['text']"
   ]
  },
  {
   "cell_type": "code",
   "execution_count": 14,
   "metadata": {},
   "outputs": [
    {
     "data": {
      "text/plain": [
       "\" Oh my god, he's loud again. Hello Craig. Turn him down. He was down. He's loud again. Well, that's because you broke your ears. Hello. Hello. Hello. Hello my Frank. Hi. Welcome. We got a session at D&D coming up. Last time, it's kinda interesting. Mmhmm. We all somehow lived. We lived. We lived. Yeah, it was a pretty, pretty amazing thing. Uh, we got very lucky. Haha, apparently. And I guess unintentionally very well prepared. Yeah, unintentionally very well prepared, you're right. We bought our potions, we got our supplies, we had Miley and called the ritual and then we went to a place where everything was bad. I'm not bad at it, but most anything. So, we got to watch a dreamlike sequence where the inhabitants of Adam's past did like this dark ritual thing, involved human sacrifice and then opened a portal to the Far Realm and stuff. And it basically just kind of fucked up reality in this place. But also it kind of felt like a lot of the fucked up-ness was because there was an inevitable there who was destroying and recreating things and everything it was recreating was just a little bit off. It seems some shit in quarantine. My, uh, my interpretation was that the only reason anything made sense at all was because of the inevitable. That's interesting, okay. Yeah, I didn't think about it that way, either. And so our two gifts traveled through anim. Time was non-linear and so events happened before and after events and we were jumping in real time, what was it, every ten minutes? And we just kept jumping from location to location, from thing we did to do to done. At one point, I saw Ezria's body just sort of floating. That was bad. I had a couple instances of kind of going insane and just sort of having the worst body horror descriptions. Yeah, Ezria had a sixth sense moment while Ezrile was snacking on her fingers at times. And then it led up to a narrator, sort of just, you know, Stanley's Parable? Stanley's? Shit, I can't remember. Stanley's Parable, yeah. I was right. I was so convinced I was wrong. That's headsy words, the Stanley Parable. Oh, okay. I was on cue then. What did you say? Was not the Stanley Parable? Because I heard Stanley Parable. I said Stanley's Parable. Oh. I know, how could I do such a thing? How about the Stanley Parable Ultra Deluxe? I should go back to play that at some point. Yeah, Sam should play it through it because I don't believe he has. I definitely haven't. But I got a little bit of the experience of anim as we went from point to point to point. The narrator, as we slowly found out, wasn't that helpful and was kind of just trapped with us. And apparently we could go find the narrator and just like mess him up if we set our minds to it. But we had our eyes on the prize, even though we took too long to confuse between the jumps and had a lot of jumps. I think the narrator was helpful. It's just that we ignored some of his advice at times. Very contrary, too.\""
      ]
     },
     "execution_count": 14,
     "metadata": {},
     "output_type": "execute_result"
    }
   ],
   "source": [
    "result_small['text']"
   ]
  },
  {
   "cell_type": "code",
   "execution_count": 6,
   "metadata": {},
   "outputs": [
    {
     "data": {
      "text/plain": [
       "\" Hello. Oh my god, he's loud again. Hello, Craig. Turn him down. He was down. Now he's loud again. There. Well, that's because you broke your ears. Hello. Hello. Hello, my friend. Oh, thanks. Hi. Welcome. We got a session of D&D coming up. Last time was kind of interesting. Mm-hmm. We all somehow lived. We lived. We lived. Yeah. Oh. It was a pretty, pretty amazing thing. We got very lucky, apparently. And I guess unintentionally very well prepared. Yeah, unintentionally very well prepared. You're right. Mm-hmm. We bought our potions. We got our supplies. We had Miley and called the ritual. And then we went to a place where everything was bad. Well, not never. Yeah. But most everything. We got to watch a dreamlike sequence where the inhabitants of Anem's past did, like, this dark ritual thing. It involved human sacrifice and then, you know, opened a portal to the far realm and stuff. And it basically just kind of fucked up reality in this place. But also, it kind of felt like a lot of the fucked up-ness was because there was an inevitable there who was destroying and recreating things. And everything it was recreating was just a little bit off. It seemed some shit in quarantine. My interpretation was that the only reason anything made sense at all was because of the inevitable. Mm. That's interesting. OK. Yeah. I didn't think about it that way, either. And so our two gifts traveled through Anem. Time was non-linear. And so events happened before and after events. And we were jumping in real time. What was it, every 10 minutes? And we just kept jumping from location to location, from thing we did to do to done. At one point, I saw Ezria's body just sort of floating. And that was bad. I had a couple instances of kind of going insane and just sort of having the worst body horror descriptions. Yeah. Ezria had a sixth sense moment while Azeroth was snacking on her fingers at times. Yeah. And then it led up to a narrator, sort of just, you know, what, Stanley's parable? Stanley's? I can't remember. Stanley's parable, yeah. I was right. I was so convinced I was wrong. That's as you were. It's the Stanley parable. Oh, OK. I was wrong too, then. What did you say? That was not the Stanley parable? Because I heard Stanley's parable. I said Stanley's parable. Oh. I know. How could I do such a thing? How about the Stanley parable Ultra Deluxe? I should go back to play that at some point. Yeah, Sam should play through it, because I don't believe he has. I definitely haven't. But I got a little bit of experience with Anim as we went from point to point to point. The narrator, as we slowly found out, wasn't that helpful and was kind of just trapped with us. And apparently we could go find the narrator and just mess him up if we set our minds to it. But we had our eyes on the prize, even though we took too long, too confused between the jumps, and had a lot of jumps. I think the narrator was helpful. It's just that we ignored some of his advice at times. Very contrary, too. Hmm.\""
      ]
     },
     "execution_count": 6,
     "metadata": {},
     "output_type": "execute_result"
    }
   ],
   "source": [
    "result_medium['text']"
   ]
  }
 ],
 "metadata": {
  "kernelspec": {
   "display_name": "base",
   "language": "python",
   "name": "python3"
  },
  "language_info": {
   "codemirror_mode": {
    "name": "ipython",
    "version": 3
   },
   "file_extension": ".py",
   "mimetype": "text/x-python",
   "name": "python",
   "nbconvert_exporter": "python",
   "pygments_lexer": "ipython3",
   "version": "3.10.8"
  },
  "orig_nbformat": 4,
  "vscode": {
   "interpreter": {
    "hash": "d4d1e4263499bec80672ea0156c357c1ee493ec2b1c70f0acce89fc37c4a6abe"
   }
  }
 },
 "nbformat": 4,
 "nbformat_minor": 2
}
