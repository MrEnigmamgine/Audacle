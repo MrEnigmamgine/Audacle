{
  "cells": [
    {
      "cell_type": "markdown",
      "metadata": {
        "id": "EABqkrjYerSx"
      },
      "source": [
        "# Colab output wrapper"
      ]
    },
    {
      "cell_type": "code",
      "execution_count": 1,
      "metadata": {
        "colab": {
          "base_uri": "https://localhost:8080/",
          "height": 17
        },
        "id": "z3HW7x111o9w",
        "outputId": "04c13547-941a-48ae-9f7d-ea740779ebf3"
      },
      "outputs": [],
      "source": [
        "# wrap the output in colab cells\n",
        "from IPython.display import HTML, display\n",
        "\n",
        "def set_css():\n",
        "  display(HTML('''\n",
        "  <style>\n",
        "    pre {\n",
        "        white-space: pre-wrap;\n",
        "    }\n",
        "  </style>\n",
        "  '''))\n",
        "# get_ipython().events.register('pre_run_cell', set_css)"
      ]
    },
    {
      "cell_type": "markdown",
      "metadata": {
        "id": "fcU3meX9e0b5"
      },
      "source": [
        "# Install Transformers"
      ]
    },
    {
      "cell_type": "code",
      "execution_count": 26,
      "metadata": {
        "colab": {
          "base_uri": "https://localhost:8080/",
          "height": 425
        },
        "id": "JUgW5Gy10DxC",
        "outputId": "22fe1d2e-97d1-4b35-e8fd-d96d043d189c"
      },
      "outputs": [
        {
          "data": {
            "text/html": [
              "\n",
              "  <style>\n",
              "    pre {\n",
              "        white-space: pre-wrap;\n",
              "    }\n",
              "  </style>\n",
              "  "
            ],
            "text/plain": [
              "<IPython.core.display.HTML object>"
            ]
          },
          "metadata": {},
          "output_type": "display_data"
        },
        {
          "data": {
            "text/html": [
              "\n",
              "  <style>\n",
              "    pre {\n",
              "        white-space: pre-wrap;\n",
              "    }\n",
              "  </style>\n",
              "  "
            ],
            "text/plain": [
              "<IPython.core.display.HTML object>"
            ]
          },
          "metadata": {},
          "output_type": "display_data"
        },
        {
          "name": "stdout",
          "output_type": "stream",
          "text": [
            "Requirement already satisfied: transformers[sentencepiece] in /usr/local/lib/python3.7/dist-packages (4.10.3)\n",
            "Requirement already satisfied: pyyaml>=5.1 in /usr/local/lib/python3.7/dist-packages (from transformers[sentencepiece]) (5.4.1)\n",
            "Requirement already satisfied: huggingface-hub>=0.0.12 in /usr/local/lib/python3.7/dist-packages (from transformers[sentencepiece]) (0.0.17)\n",
            "Requirement already satisfied: numpy>=1.17 in /usr/local/lib/python3.7/dist-packages (from transformers[sentencepiece]) (1.19.5)\n",
            "Requirement already satisfied: regex!=2019.12.17 in /usr/local/lib/python3.7/dist-packages (from transformers[sentencepiece]) (2019.12.20)\n",
            "Requirement already satisfied: requests in /usr/local/lib/python3.7/dist-packages (from transformers[sentencepiece]) (2.23.0)\n",
            "Requirement already satisfied: importlib-metadata in /usr/local/lib/python3.7/dist-packages (from transformers[sentencepiece]) (4.8.1)\n",
            "Requirement already satisfied: tqdm>=4.27 in /usr/local/lib/python3.7/dist-packages (from transformers[sentencepiece]) (4.62.2)\n",
            "Requirement already satisfied: sacremoses in /usr/local/lib/python3.7/dist-packages (from transformers[sentencepiece]) (0.0.46)\n",
            "Requirement already satisfied: packaging in /usr/local/lib/python3.7/dist-packages (from transformers[sentencepiece]) (21.0)\n",
            "Requirement already satisfied: filelock in /usr/local/lib/python3.7/dist-packages (from transformers[sentencepiece]) (3.0.12)\n",
            "Requirement already satisfied: tokenizers<0.11,>=0.10.1 in /usr/local/lib/python3.7/dist-packages (from transformers[sentencepiece]) (0.10.3)\n",
            "Requirement already satisfied: protobuf in /usr/local/lib/python3.7/dist-packages (from transformers[sentencepiece]) (3.17.3)\n",
            "Requirement already satisfied: sentencepiece==0.1.91 in /usr/local/lib/python3.7/dist-packages (from transformers[sentencepiece]) (0.1.91)\n",
            "Requirement already satisfied: typing-extensions in /usr/local/lib/python3.7/dist-packages (from huggingface-hub>=0.0.12->transformers[sentencepiece]) (3.7.4.3)\n",
            "Requirement already satisfied: pyparsing>=2.0.2 in /usr/local/lib/python3.7/dist-packages (from packaging->transformers[sentencepiece]) (2.4.7)\n",
            "Requirement already satisfied: zipp>=0.5 in /usr/local/lib/python3.7/dist-packages (from importlib-metadata->transformers[sentencepiece]) (3.5.0)\n",
            "Requirement already satisfied: six>=1.9 in /usr/local/lib/python3.7/dist-packages (from protobuf->transformers[sentencepiece]) (1.15.0)\n",
            "Requirement already satisfied: chardet<4,>=3.0.2 in /usr/local/lib/python3.7/dist-packages (from requests->transformers[sentencepiece]) (3.0.4)\n",
            "Requirement already satisfied: idna<3,>=2.5 in /usr/local/lib/python3.7/dist-packages (from requests->transformers[sentencepiece]) (2.10)\n",
            "Requirement already satisfied: certifi>=2017.4.17 in /usr/local/lib/python3.7/dist-packages (from requests->transformers[sentencepiece]) (2021.5.30)\n",
            "Requirement already satisfied: urllib3!=1.25.0,!=1.25.1,<1.26,>=1.21.1 in /usr/local/lib/python3.7/dist-packages (from requests->transformers[sentencepiece]) (1.24.3)\n",
            "Requirement already satisfied: joblib in /usr/local/lib/python3.7/dist-packages (from sacremoses->transformers[sentencepiece]) (1.0.1)\n",
            "Requirement already satisfied: click in /usr/local/lib/python3.7/dist-packages (from sacremoses->transformers[sentencepiece]) (7.1.2)\n"
          ]
        }
      ],
      "source": [
        "# install transformers with sentencepiece\n",
        "# !pip install transformers[sentencepiece]"
      ]
    },
    {
      "cell_type": "markdown",
      "metadata": {
        "id": "2jeHwHDYe_5i"
      },
      "source": [
        "# Read input file from Google Drive"
      ]
    },
    {
      "cell_type": "code",
      "execution_count": 4,
      "metadata": {
        "colab": {
          "base_uri": "https://localhost:8080/",
          "height": 17
        },
        "id": "l9b_kRpd0MaA",
        "outputId": "34b4c5ac-4e43-45f2-9a41-112aa3debfb2"
      },
      "outputs": [],
      "source": [
        "filepath = '../data/db_02-03-2023/output.txt'\n",
        "\n",
        "with open(filepath, 'r') as f:\n",
        "    FileContent = f.read()"
      ]
    },
    {
      "cell_type": "code",
      "execution_count": 5,
      "metadata": {
        "colab": {
          "base_uri": "https://localhost:8080/",
          "height": 1000
        },
        "id": "YQZdCUmB0YeE",
        "outputId": "d06fc04d-332e-4dd6-bf1d-6f0914248ed8"
      },
      "outputs": [
        {
          "data": {
            "text/plain": [
              "\"\\n\\nCS12_4510:\\n Now recording!\\n\\nJadePixie_7138:\\n Oh no, he didn't say the thing!\\n\\nCrux_4429:\\n I took away his permissions to say things.\\n\\nJadePixie_7138:\\n But I like to hear him say, now recording.  It brought me comfort and encouragement.\\n\\nCS12_4510:\\n You know Josh, you could have just right clicked him and done a server mute, but this works too! Anyway, welcome.\\n\\nJadePixie_7138:\\n What if Craig can't hear me?\\n\\nCS12_4510:\\n How would he be able to tell me? \\n\\nJadePixie_7138:\\n Craig, if you can't hear me, you gotta say something. \\n\\nCS12_4510:\\n Oh, well it sounds like he can hear you.\\n\\nJadePixie_7138:\\n Uh, okay. \\n\\nIlMaximuslI_9218:\\n I believe you. Hello friends.\\n\\nJadePixie_7138:\\n I\\n\\nCrux_4429:\\n Great.  Hello.\\n\\nIlMaximuslI_9218:\\n What are we doing for down below?\\n\\nCS12_4510:\\n Alllll below.\\n\\nJadePixie_7138:\\n have recapping, I guess, because we've got multiple quests that we can go on. We have just been informed that war is coming to Kirk's base and that a bunch of Sha'a Ka'al people are disappearing down on Rhaegis.   Myla found a city in a bottle and somewhere inside the city in the bottle there is a powerful item of sorts that can protect us from undead.  And also we've been gone from, we've been, you know, gone from existence for the past slightly over a year.\\n\\nIlMaximuslI_9218:\\n Was it 400 and something days? 14 months?\\n\\nJadePixie_7138:\\n And Ezreal's mind is just getting saw into infinity.  Those memories cannot be deleted as of right now. So Ezreal has a virus and we have to run antivirus software at some point.\\n\\nIlMaximuslI_9218:\\n Ezreal is just that really old computer that like, you know, every few months, \\n\\nJadePixie_7138:\\n Oh no.\\n\\nIlMaximuslI_9218:\\n there is there's something going on in the software that you're just like, yeah, we're gonna have to do something about this. We're gonna have to clear some things. I don't know how this happened. How did you delete Windows?\\n\\nCrux_4429:\\n Ready to the omnisiah?\\n\\nCS12_4510:\\n That's a good, that's a good line. I love it.\\n\\nJadePixie_7138:\\n Yeah.  learned that let's see Yart is the new supreme commander and like this is the gift wrap for Matt Matt I believe and we've got some of people we're trying to hope they be free again by being able to go out of the bathroom and yeah\\n\\nIlMaximuslI_9218:\\n But if they go, fuck ton of psychic damage.\\n\\nJadePixie_7138:\\n it's like it damage we gotta do something about all that psychic damage you got\\n\\nCrux_4429:\\n What do you mean by psychic damage there, Sam?\\n\\nIlMaximuslI_9218:\\n I believe that was the term you said, like if they were to leave, they would just take a- I don't know if you used the word fuck, but a lot of psychic damage. It wouldn't be that they age rapidly, it's just that their brain would probably explode. I\\n\\nCS12_4510:\\n Yeah, their brain would unmake, I think that's what Josh said too, specifically, a fuckton of psychic damage.\\n\\nCrux_4429:\\n Yeah. \\n\\nIlMaximuslI_9218:\\n know psychic damage was used in the phrase. I did listen to the recording, so I'm fairly confident. I'm like my usual kinda confident.\\n\\nCS12_4510:\\n Yes. Yeah.\\n\\nIlMaximuslI_9218:\\n Yes.\\n\\nCS12_4510:\\n The way they could hanky.\\n\\nIlMaximuslI_9218:\\n But we got problems to ponder. to see, but we had a beautiful scene of Zynyrith and her children, seeing them far more grown up. I mean, in the last 14 months they've really started hitting puberty hard.\\n\\nCS12_4510:\\n Well, and\\n\\nIlMaximuslI_9218:\\n The way of the Githyanki.\\n\\nCS12_4510:\\n they could survive, but more so they could hank you. It\\n\\nCrux_4429:\\n And also, that's a rye.\\n\\nCS12_4510:\\n was less so, compared to the githyanki.\\n\\nIlMaximuslI_9218:\\n And superseding all of that stuff that we are concerned about, all of the political intrigue, all of the charming and heartwarming reunions. We got to meet Miley's husband and we all went, whoa, damn. Recorded live,\\n\\nJadePixie_7138:\\n what\\n\\nIlMaximuslI_9218:\\n forever to be known. I just want to bring attention to that, you know? Thank you.\\n\\nCrux_4429:\\n These recordings aren't live, by the way.\\n\\nCS12_4510:\\n It was recorded live, though.\\n\\nJadePixie_7138:\\n What does that mean? Oh, right. \\n\\nCrux_4429:\\n It's true. We're not scripted. \\n\\nIlMaximuslI_9218:\\n We're free spirits! Everything that happens is spontaneous, uh, future viewers. Probably me.\\n\\nCS12_4510:\\n Until we start editing these things. In which case, not live!\\n\\nCrux_4429:\\n Anyway.\\n\\nCS12_4510:\\n Alright. Well, hello everybody! Welcome back! Last we left off, there were some Smeeple learning the masculine one was holding a bag full of dead snake. We met Ailiyelidusti and found out that Maile is Maile-yelidusti.  We saw Ymir in a classroom sitting with a bunch of other kids, including Yankee, who has a beard-ish, and his horns are too big for him. And Chaya was doing flight training on a giant eagle. As we left off, we're just about to meet up, but I'm not sure if we're actually gonna go into conversation that is totally up to you guys.\\n\\nIlMaximuslI_9218:\\n I do think that is a, uh, Xun'rith call there.\\n\\nJadePixie_7138:\\n Hmm. Uhh, you know, I guess not.  I mean, I don't really have anything, personally. \\n\\nCS12_4510:\\n Here, let me give you a little bit of a rundown of what's happening with Chaya. Chaya is taking more to the practical activities and the mental activities. He introduces you to his great eagle friend who he rides around on and  you can honestly tell Vakumi that he is thinking about saying friend and then to you decides to say this is my, uh, this is, this is my, my mount.  We fly together. It's really cool. Um, their name is Tom Sky-Sainu. Um, she can't, she, he's trying to,   if you want, if you want to talk to him, you can talk to him. He's a very smart bird\\n\\nJadePixie_7138:\\n Um, yeah, I'll try to telepathically say something to Tom.\\n\\nCS12_4510:\\n as an intelligence of like 12. So yeah, for sure.\\n\\nJadePixie_7138:\\n Holy shit, that's the smartest bird in existence.\\n\\nCS12_4510:\\n Really not. \\n\\nJadePixie_7138:\\n That's the smartest bird.\\n\\nCS12_4510:\\n It is the smartest bird, but giant eagles are damn smart.\\n\\nJadePixie_7138:\\n Uh, I'll stay to it.   Are you getting along with my son? Hey,\\n\\nCS12_4510:\\n Are you this wonderful, wonderful boy's mother? You should feel great pride in how he is, as little of it as you had to do with how he turned out. You  \\n\\nCrux_4429:\\n Oh, this bird's throwing shade. \\n\\nJadePixie_7138:\\n what is that supposed to mean? I'm gone for a year and I-\\n\\nCS12_4510:\\n were not only gone for a year. Do not lie to me.\\n\\nJadePixie_7138:\\n Then how long has it been?\\n\\nCS12_4510:\\n I don't know. I do not interrogate your spawn because he is my friend.\\n\\nJadePixie_7138:\\n Yeah, it has a name, do you know it?\\n\\nCS12_4510:\\n Hiya. \\n\\nJadePixie_7138:\\n Good.  Taya is more fitting than spawn. \\n\\nCS12_4510:\\n Yes,  of course.  His mother.\\n\\nJadePixie_7138:\\n I just glare at this giant eagle that I'm having a silent conversation with.\\n\\nCS12_4510:\\n You hear Chaya say like things in secret because of your advanced telepathy, where it says, uh, like, yeah, be nice, be nice. She's really, she will, she will probably cut you in half if you say something mean, so be really nice.  She's very angry, but she can be really nice if she's not angry.\\n\\nIlMaximuslI_9218:\\n Oof.\\n\\nJadePixie_7138:\\n It's good to see the two of you have formed a bond.  \\n\\nCS12_4510:\\n Yes, he's the most magnificent pupil. I'm excited and at the same time loathe to graduate him. Takes this guy as if they were his own. Shall we return? He starts like walking away and Chaya says, No, no, no, no, no, no, no, no. And then conversation continues. You catch up a little.\\n\\nJadePixie_7138:\\n Yeah, she is basically asking Chaya to tell her stories of how being gay in the INU country's been like,\\n\\nCS12_4510:\\n Being in the Ignihotri has been really great. There's so much room to fly here.  He gets a little nervousness on himself. As you can see, he's remembering a memory that he doesn't like. And you can get a sense that a sense of vertigo falls over him. He says, Well yeah, um, and,\\n\\nJadePixie_7138:\\n I'll press him on it, I'll ask him like, what's wrong?\\n\\nCS12_4510:\\n Well you don't even need to worry about flying, falling, because if you fall, there's not like a ground to hit. Your palm will just catch you. Because he's very good at that. Well you also have harnesses. \\n\\nJadePixie_7138:\\n She was worried for a moment that he was like, having this bad trauma memory from a long time ago, but it was mostly related to his like, schooling here, so she's just worried about that. about that and she's more relieved. \\n\\nCS12_4510:\\n Chaya has, I may remind you, feathers of many colors, white stems bound into little brass, little hair clips that bind into the  braids of his thin hair with many colors of feathers there. He'll talk to you about where these feathers are from, how they're from, And then he names off some names that you don't know. And he says they are the, they are the, uh, the, the, the, the bird kids. Um, they're like really important. Apparently\\n\\nJadePixie_7138:\\n I'll try to get Chaya to tell me all I know about\\n\\nCS12_4510:\\n they're so\\n\\nJadePixie_7138:\\n them because I don't know anything about them.\\n\\nCS12_4510:\\n gosh.\\n\\nCrux_4429:\\n We're talking about the\\n\\nJadePixie_7138:\\n Perkins.\\n\\nCrux_4429:\\n Teenage Mutant Ninja Bird Boys.  \\n\\nJadePixie_7138:\\n Oh my god. What?\\n\\nIlMaximuslI_9218:\\n It's actually happening.\\n\\nCrux_4429:\\n Oh.  So these are the people that were killed by Yarolai.    They, they, uh, in their funeral pyre,  left behind Phoenix eggs. Um, and so now they're like Phoenix, Aracocra. Um, they are coming up on like two years old. So they're teenagers. \\n\\nJadePixie_7138:\\n Phoenix, Eric, Ocra. Do they just like age really fast and then reincarnate or something? Oh,\\n\\nCrux_4429:\\n Aracocra reached maturity by the age of three.\\n\\nJadePixie_7138:\\n I didn't know that.\\n\\nCrux_4429:\\n Yup. So they're about a year away from maturity. Um, I'm guessing that this is like the youth flight training camp. \\n\\nCS12_4510:\\n Yeah. And they definitely fly as well.\\n\\nCrux_4429:\\n Yeah. Oh, I don't really have much more to say about them. Perhaps I should  build a roster and get art for them or something.\\n\\nJadePixie_7138:\\n No, that's, I mean, whichever, whatever you are feeling inspired to do.\\n\\nCS12_4510:\\n The only other thing I would say is notable, uh, that I feel like you could have brought up is they're colorful.\\n\\nCrux_4429:\\n Oh, I thought that would be inside of the Phoenix, uh, Arachocra thing, but yeah. Very...\\n\\nCS12_4510:\\n Why?\\n\\nCrux_4429:\\n because, you know, they're phoenixes. Phoenixes are colorful.\\n\\nCS12_4510:\\n They are. I didn't mean to interrupt you.\\n\\nCrux_4429:\\n That was the end of my thought.\\n\\nCS12_4510:\\n No it wasn't, you were talking and then I interrupted you about how they were colorful.\\n\\nCrux_4429:\\n Oh, well that thought is gone.\\n\\nCS12_4510:\\n Okay.\\n\\nCrux_4429:\\n Begone thought. \\n\\nIlMaximuslI_9218:\\n Don't spite them.\\n\\nCS12_4510:\\n No more thinking. Yeah,\\n\\nIlMaximuslI_9218:\\n It's too cruel punishment.\\n\\nJadePixie_7138:\\n Yeah,  she comments, um, I doubt that they're actually same person but it  does have a more meaningful end to see that there was some good that came out of their lives that were cut short.\\n\\nCS12_4510:\\n apparently they're like, gonna be really important because they're like, gonna live forever, so that's cool.\\n\\nJadePixie_7138:\\n Living Forever also has a burden attached to it.\\n\\nCS12_4510:\\n While I don't want people to die, that's the final punctuation that I'm gonna put on that scene. If\\n\\nJadePixie_7138:\\n Yeah, me too. What about Yoneir? How is she doing?\\n\\nCS12_4510:\\n you go back to check on Ymir, she is shy, a  little cowering in her self-quality because her own self-consciousness about her appearance due to the time that she spent  with Deck, with you, with everybody.  Her dad, for sure, has led her to believe and look for people   caring about her appearance.   And even though she looks like much better, that's somehow made the issue worse because she doesn't look normal. She just looks closer to it. So now she's looking for more subtle things, which means that she's also kind of making things up.  She's doing well. She is kind of shunning her talent with psychic powers because of her own self-worth issues. Or self-acceptance issues. That's better.  She is not being bullied, but kind of feels like she's being bullied. Um, because people aren't as accepting to her in order to let her know that she actually, they actually do like her. Like she's being socially, she's\\n\\nJadePixie_7138:\\n Oh. Oh.\\n\\nCS12_4510:\\n socially self isolating.  Um, and the only person that is not in that kind of camp is Chaya and Yankee. And Chaya is a cool enough kid where like he's basically forming up to be be part of JV,  that Ymir is now feeling distant from Chaya, and so she's becoming really good friends with Yankee, and she really likes spending time with Yankee. \\n\\nJadePixie_7138:\\n I try to get Yoneir to open up around me and I'll say, hey, it's me, your mom, you can  talk to me about stuff\\n\\nCS12_4510:\\n Yeah, you wanna make a parenting check here?\\n\\nJadePixie_7138:\\n and have a conversation. Yeah,\\n\\nCS12_4510:\\n Hmm,\\n\\nJadePixie_7138:\\n sure.\\n\\nCS12_4510:\\n exciting. Well, your extended absence gives you disadvantage on this, sorry.  Well, it didn't make it any worse, but it didn't make it any better. She is resistant to opening up, even to you,  which is not something that you expected. Your flaw, your fatal flaw going into this was imagining that this experience would be different for you, that she wouldn't feel self-conscious with you, that you would be able to talk to her. That's not the case.  So she kind of, you make your daughter cry. in a very rough spot emotionally, um, hormonally, tire thing. Um, and she just kinda diffuses that entire scene by just like existing and refusing to communicate further.\\n\\nJadePixie_7138:\\n Yeah,  that is painful to Zynith, I think she's willing to show that vulnerability with her daughter, but she also at the same time gives Yodhi some space.\\n\\nCS12_4510:\\n Yeah. You reckon that she'd be having a really rough time, well, without Yankee, but she's also like latching onto Yankee cause he's also different. \\n\\nJadePixie_7138:\\n Also try talking up with Yankie more, being stuff like, hey, you don't remember me probably, but\\n\\nCS12_4510:\\n No, he absolutely does not.\\n\\nJadePixie_7138:\\n I'm your new Aunt Chaya's mom and stuff like that.\\n\\nCS12_4510:\\n Oh means something to him. Um, so, you know, my dad, that\\n\\nJadePixie_7138:\\n Yeah, I do.\\n\\nCS12_4510:\\n makes him sad. You can tell, um, thinking about his dad.\\n\\nJadePixie_7138:\\n Why? What's wrong? Do you miss him?\\n\\nIlMaximuslI_9218:\\n Just straight for it.\\n\\nCS12_4510:\\n One second. Did he just ask, did he just ask Yankee, um,\\n\\nIlMaximuslI_9218:\\n Just... Shudge. Ooh.\\n\\nCS12_4510:\\n whose mother is dead and his father is like the object of a smear campaign and too dangerous to be around him and like a whole bunch of things. What's wrong? Do you miss him? I don't even know how to respond to that, but, uh, he does. And you know, it's not like a complete rejection of the ideal, but he, he has these really interesting eyes where they're like, uh, black sclera, like gold, yellow, iris and deep black purple, where it's more like, it looks like they're just a gold ring in a sphere of blackness.\\n\\nJadePixie_7138:\\n Wow.\\n\\nCS12_4510:\\n Um, and he's got this, uh, stringy kind of, uh, muddy brown hair, uh, kind of curly, um, and these long curling horns. And like, he's just awkward. He's in a very awkward stage of his life. Um, and he'd become aware of how much like kids are awkward as hell to talk to.\\n\\nJadePixie_7138:\\n Has he met his dad before? Yeah,\\n\\nCS12_4510:\\n Yeah. He's met his dad.\\n\\nJadePixie_7138:\\n okay.\\n\\nCS12_4510:\\n He spent borderline more time with his dad than you have with your kids. \\n\\nJadePixie_7138:\\n uhh, \\n\\nCS12_4510:\\n Because the chair spends actual quality time with Yankee, and Ymir, and Chaya. While they were visiting on MatMat, and they would visit on MatMat for literally four or six weeks at a time. Chaya growing into like a, a socially like pool kid? Totally to do with Zajir. Um, Ymir, uh, you'll find out is like, Ymir and Yankee are like friends because, uh, Zajir has like pushed them together to be a friend to each other. \\n\\nJadePixie_7138:\\n hmm.\\n\\nCS12_4510:\\n Um, overall, what do you say that so suspiciously? They were three fucking, there were four people on an entire planet all by themselves. And you're like, how dare they have a slightly better than\\n\\nIlMaximuslI_9218:\\n Kittenship.\\n\\nCS12_4510:\\n good relationship?\\n\\nJadePixie_7138:\\n No, I was just getting like a little bit  conspiratorial because I was thinking like\\n\\nCS12_4510:\\n Well, you do know that Zitshir IS a conspiracy guy? Yeah, \\n\\nIlMaximuslI_9218:\\n The conspiracy guy. Really.\\n\\nCS12_4510:\\n he's one of the most conspiracy guys you know. He's super-fuck clever, super-fuckin' charismatic. The worst part is, he makes you like what manipulations he does.\\n\\nIlMaximuslI_9218:\\n It's true.\\n\\nJadePixie_7138:\\n yeah, so that's what I'm thinking about. I\\n\\nCS12_4510:\\n Yeah. Um,\\n\\nJadePixie_7138:\\n want- I want Yankie to like me. Yeah, I\\n\\nCS12_4510:\\n you want Yankee to like you?\\n\\nJadePixie_7138:\\n do. \\n\\nCS12_4510:\\n Make a... make a performance check.\\n\\nIlMaximuslI_9218:\\n A really cool 14th level feature. It's\\n\\nJadePixie_7138:\\n I make a performance check,\\n\\nCS12_4510:\\n Yep.\\n\\nJadePixie_7138:\\n like I do a persuasion check.\\n\\nCS12_4510:\\n Oh, you know what? That's fair. Well, I mean, okay, let's be honest. Make a performance check that determines the DC of the persuasion check. Pretty much no matter what, you're gonna do good because you're an expert in persuasion, but like,\\n\\nJadePixie_7138:\\n Okay,\\n\\nCS12_4510:\\n he's a kid. Persuasion's not super. He's like literally two.  He's like three. \\n\\nJadePixie_7138:\\n yeah, okay.\\n\\nCS12_4510:\\n I mean, 27 on persuasion. 24 on persuasion is really good. Um, 13 on performance means that the DC was like... I mean, he's not your best friend, you know? He doesn't really bond to you, um, after just like a little bit of time. Depends on how much time you spend doing this, actually. Uh, but at least initially, uh, he likes you. You get a smile out of him and you think that he would like to talk to you again. But that it's not a sure thing that he's like chummy with you yet.\\n\\nJadePixie_7138:\\n Oh, okay. Well, that's That's to be accepted I suppose.\\n\\nIlMaximuslI_9218:\\n a step.\\n\\nCS12_4510:\\n It's a good step. \\n\\nIlMaximuslI_9218:\\n Mm-hmm.\\n\\nCS12_4510:\\n You see he's 27 by the way. So.\\n\\nJadePixie_7138:\\n The DC's 27?\\n\\nCS12_4510:\\n On the persuasion check. So you went a little\\n\\nJadePixie_7138:\\n Well, uh, what are you guys up to?\\n\\nIlMaximuslI_9218:\\n through Ezria?\\n\\nJadePixie_7138:\\n Yeah, and Miley.\\n\\nIlMaximuslI_9218:\\n Currently, uh, going through all the messed up shit in her head. Yes.\\n\\nCS12_4510:\\n meditating.\\n\\nIlMaximuslI_9218:\\n It's going,\\n\\nCS12_4510:\\n Tick tick, tick, tick.\\n\\nIlMaximuslI_9218:\\n I think.\\n\\nCS12_4510:\\n Yep. And there's Miley and then there's Smeeple.\\n\\nIlMaximuslI_9218:\\n Meeple?\\n\\nCS12_4510:\\n Yep. Smeeple. Smoke people.\\n\\nIlMaximuslI_9218:\\n Oh, uh, what?\\n\\nJadePixie_7138:\\n Yeah, Smeeple. The smokeman.\\n\\nIlMaximuslI_9218:\\n Oh. I, yes. Yes, this Meeple. I think Ezria's in\\n\\nCS12_4510:\\n Yes. Yeah. The, the entire point of this journey? \\n\\nIlMaximuslI_9218:\\n the same room as them when she's meditating. Uh,\\n\\nJadePixie_7138:\\n What do they do to pass the time?\\n\\nIlMaximuslI_9218:\\n if there's- yeah, I'm curious too.\\n\\nJadePixie_7138:\\n Josh, what do they do to pass the time? I\\n\\nCrux_4429:\\n Ah, shit, I'm muted.\\n\\nIlMaximuslI_9218:\\n Ahh.\\n\\nCS12_4510:\\n Sure are.\\n\\nCrux_4429:\\n Here, I thought y'all was just ignoring me. I was getting a little sad.\\n\\nCS12_4510:\\n No. Josh, we would never ignore you. \\n\\nCrux_4429:\\n Oh, you should sometimes, to be honest.\\n\\nCS12_4510:\\n Yeah, but we will never.\\n\\nIlMaximuslI_9218:\\n That will be our downfall.\\n\\nCrux_4429:\\n Um, how much, uh, how much time are they passing?\\n\\nIlMaximuslI_9218:\\n I think definitely the initial, like, trying to heal Ezria stage. The\\n\\nJadePixie_7138:\\n mean, imagine what they're doing over the course of a day. What are they up to?\\n\\nCrux_4429:\\n Okay, okay. Well,  you already saw them in the school, so they're trying to learn more about this new world that they find themselves in. One of them would like to return to the Astral Sea in order to dispose of this Far Realm  bomb that they've been carrying around.  In about two days, they're going to complain that they're hungry.  I'm wondering who they approach about that.\\n\\nJadePixie_7138:\\n We're hungry.\\n\\nCS12_4510:\\n As yours didn't make sense. \\n\\nJadePixie_7138:\\n It's time to eat your flesh.\\n\\nIlMaximuslI_9218:\\n worst part is I think you're talking from experience.   That's what gets me anyway. \\n\\nCrux_4429:\\n Well, Ezri is meditating, so they'll bug Vakumi.\\n\\nIlMaximuslI_9218:\\n Oh, okay.\\n\\nCS12_4510:\\n Just a reminder, when you guys leave, you need to come back in disguise, because Miley doesn't want you guys around, publicly. So Miley doesn't want you around publicly, so sticking around is up to you.  \\n\\nIlMaximuslI_9218:\\n Ezria is... I don't think she leaves her room really.\\n\\nJadePixie_7138:\\n You're describing hunger. Do you remember it? Yeah,  \\n\\nCrux_4429:\\n So they approach you, Vakumi, together,  and they say,  A moment of your time? \\n\\nJadePixie_7138:\\n what's up?\\n\\nCrux_4429:\\n We require sustenance. \\n\\nJadePixie_7138:\\n uh, what do you eat?\\n\\nCrux_4429:\\n Current.\\n\\nJadePixie_7138:\\n what? you eat what?\\n\\nCrux_4429:\\n You would describe this as lightning, in small amounts?\\n\\nJadePixie_7138:\\n lightning bugs,\\n\\nCrux_4429:\\n No. \\n\\nJadePixie_7138:\\n okay\\n\\nCrux_4429:\\n Flux. What you would know as\\n\\nJadePixie_7138:\\n um,\\n\\nCrux_4429:\\n lightning. You are known to have magical power.\\n\\nJadePixie_7138:\\n i can't create a light-\\n\\nCS12_4510:\\n Miley's pressing X to doubt.\\n\\nCrux_4429:\\n Right? \\n\\nJadePixie_7138:\\n oh wait, i can! i've got lightning lure! my long forgotten, mostly useless cantrip that has never worked in this campaign but one day it will uh, i don't know, i guess i use my cantrip and say afterwards, uh, does this look tasty at all? \\n\\nCS12_4510:\\n One byproduct of lightning lure is you last to something and the tether remains. \\n\\nCrux_4429:\\n Alright. Are you doing 48 damage with this?\\n\\nCS12_4510:\\n I don't think she's attacking them.\\n\\nJadePixie_7138:\\n yeah I'm not attacking you guys, I'm just attacking, I don't know, the door or something.\\n\\nCS12_4510:\\n nice statue.  \\n\\nJadePixie_7138:\\n I'm not gonna destroy Miley's statue, I'm gonna destroy her door. \\n\\nIlMaximuslI_9218:\\n F to the doors.\\n\\nCS12_4510:\\n Maybe Hot Tree seems like it would have mostly, like, curtain doors. But you could definitely have a solid door.\\n\\nIlMaximuslI_9218:\\n F to the curtain.\\n\\nJadePixie_7138:\\n Get to the curtain. \\n\\nCrux_4429:\\n With a little bit of careful core planning and cooperation,  they'll use their magic by, or use your magic by like putting themselves in contact with it and drinking it slowly. So it takes several castings of this cantrip or like, you know, you hold it and  yeah, these people eat electricity.  \\n\\nIlMaximuslI_9218:\\n Hmm. Hmm. Good  to know. Don't become lightning.\\n\\nJadePixie_7138:\\n Raph  has, yeah, Zun Raph has this like kind of weirded out expression, watching them consume this, but she doesn't say anything. She understands that they're far wrong influenced, so, and not like they can do anything about it \\n\\nCrux_4429:\\n So while they're charging the golden lightning that kind of pulses within their bodies, you know, gets a little bit more intense. So you can actually tell exactly how hungry they are by how bright their lightning is.\\n\\nIlMaximuslI_9218:\\n Hmm. They have a little gauge in their eyes.  Lets you know what battery percent they're at.\\n\\nJadePixie_7138:\\n well,  yeah, were you gonna say something? \\n\\nCrux_4429:\\n They both kind of in unison say, this one thanks you.\\n\\nJadePixie_7138:\\n you're welcome\\n\\nCrux_4429:\\n They inquire about  removing or  returning this to the to the astral sea as he holds up the bag of Ezria's belt.\\n\\nJadePixie_7138:\\n uh, she's been med- been meditating uh, I'm gonna go check\\n\\nIlMaximuslI_9218:\\n Uh, yeah, real quick. How is Ezria doing with all that meditation? Is that just up to me? Is there a check? Uh...\\n\\nCS12_4510:\\n Mostly up to you.\\n\\nIlMaximuslI_9218:\\n Okay.\\n\\nCS12_4510:\\n You can say that there's likely gonna be a check or not. I mean, it's an extremely mentally damaging experience. You just came back from a really far-reeled-touched place, came in and out of existence, since Rada abstracted pure law, ran away from a fight that you had no chance of winning. \\n\\nJadePixie_7138:\\n you stared into infinity and saw things\\n\\nCS12_4510:\\n Yeah, you saw the time knife.\\n\\nIlMaximuslI_9218:\\n Yeah, yeah, we've all seen it.\\n\\nJadePixie_7138:\\n haha\\n\\nIlMaximuslI_9218:\\n Yeah I would like a check because it would, I feel like it's necessary.\\n\\nCS12_4510:\\n Right. Crystal. Check. Meditation check, I suppose.\\n\\nIlMaximuslI_9218:\\n I am good at those.  \\n\\nCS12_4510:\\n You are able to, if you so wish, compartmentalize and recognize which parts of you are  raking and splintered and require repair and you could isolate them.\\n\\nIlMaximuslI_9218:\\n It doesn't quite feel right.\\n\\nCS12_4510:\\n Well congratulations, that's a much better success because you said that.\\n\\nIlMaximuslI_9218:\\n Good to know. So yeah I think she's definitely feeling all of the insanities that she went through. Remembrance of the flesh and what it is. It is a thing. And that experience. And I think that's right now what bothers her the most in this moment. I do see that Miley put down a heel.\\n\\nCS12_4510:\\n Mmhmm.\\n\\nIlMaximuslI_9218:\\n Um,\\n\\nCrux_4429:\\n I was\\n\\nCS12_4510:\\n Yeah, and blindness, deafness, any diseases affecting the target?\\n\\nIlMaximuslI_9218:\\n okay.\\n\\nCS12_4510:\\n There's positive energy washes over you.\\n\\nIlMaximuslI_9218:\\n Alright.\\n\\nCrux_4429:\\n going to prepare that the next day. \\n\\nIlMaximuslI_9218:\\n And so yeah, when you walk in,  it won't even be very long. There'll be like a couple of breaths before Ezri's eyes open.  And they are a bit weary. But she smiles when she sees you walk in.\\n\\nJadePixie_7138:\\n I'm over, sit down next to you, have, uh, my hand lifted up to your forearm  or, yeah, um, how's the meditation going?\\n\\nIlMaximuslI_9218:\\n I'm  sourcing through.  Experiencing. Processing, I think. Going\\n\\nCS12_4510:\\n Yeah, you're doing zetsu all over again.\\n\\nIlMaximuslI_9218:\\n back to the basics, as it were. Feeling a little better, but it's still a lot. \\n\\nJadePixie_7138:\\n we want to talk about it\\n\\nIlMaximuslI_9218:\\n I suppose I do a bit.  It's just hard to know where to start, really. \\n\\nJadePixie_7138:\\n okay, then tell me how you felt before we went there and tell me how you're feeling now. \\n\\nIlMaximuslI_9218:\\n It was like I had... And she looks like she is remembering something from a very long time ago. Like you're asking her to talk about shock lore, or you're asking her to talk about her childhood type of long ago. She thinks, well, before Anam, I believe I was very concerned about my life, and my success, and your life. Going in I was confident that we'd succeed. I was confident that you would get out. I was confident. Regardless of what happened to me, I'd find a way. And you believed in me. And so I thought I was prepared. It was- and that feels so long ago. Like it's hard to make  those feelings  feel very strong in comparison.\\n\\nJadePixie_7138:\\n We were gone for a year and it sounds like you perceived time differently than I did. Your emotions and your feelings on everything would change over that period of time.\\n\\nIlMaximuslI_9218:\\n Yeah.  It was awful.  The world itself  screamed as sense failed, as things began to morph. Earth and flesh and water were all the same. They were things that multiplied and changed and-  You can see like she's kind of like scratching her arm a bit.\\n\\nJadePixie_7138:\\n We've been back for less than two days. I think meditation might actually be the raw call here. You need to get used to being in the now being in the world and feeling how time is moving, how people are moving, how the world around you is moving.  Let's go out there and get some stuff done. It might be better for you that way.\\n\\nIlMaximuslI_9218:\\n I can't really be seen in public right now here.\\n\\nJadePixie_7138:\\n I'm gonna leave or go somewhere else.\\n\\nIlMaximuslI_9218:\\n What about your kids? You just got back after so long,\\n\\nJadePixie_7138:\\n Miley needs this too. I'm so does Gray.\\n\\nIlMaximuslI_9218:\\n crew. But, I  don't know.  I've been beginning to see it.  In between my breaths, I can see a way to the Astral Sea. \\n\\nJadePixie_7138:\\n Like a portal?\\n\\nIlMaximuslI_9218:\\n Like I put my chest to her chest. Like I can my essence to the Astral Sea while I remain. Similar to what I used to do with my nun. when I wasn't molded to  what my Hatsu would be, a lifeline, as I could go outside of my body. \\n\\nJadePixie_7138:\\n You should be careful doing something like that.  My people take great pleasure in cutting down any silver threads we see along our journeys.\\n\\nIlMaximuslI_9218:\\n Indeed.  But that takes their silver swords though, no? And those aren't so easy to have for most Gidianki.\\n\\nJadePixie_7138:\\n True enough.\\n\\nIlMaximuslI_9218:\\n I'll be careful. I do agree, um, we do have a thing here that shouldn't be here, and movement is necessary. I just, we do need to get, I do need to get out of here.  And you can see she's kind of scratching her arm a bit more. \\n\\nJadePixie_7138:\\n We can- I can come back here later.  The next day we spend the night in this room, we can catch up with Gray and relay the news.\\n\\nIlMaximuslI_9218:\\n Indeed.  Let's get going then.\\n\\nJadePixie_7138:\\n I'll go find, uh, they don't have a name, but those spawn of Gray. I'll go find them.\\n\\nCrux_4429:\\n Grayspawn. \\n\\nCS12_4510:\\n Rayborn!\\n\\nJadePixie_7138:\\n I'll go find the Gray spawn and bring him back here so we can all plane shift into\\n\\nCrux_4429:\\n Okay. \\n\\nJadePixie_7138:\\n his throne.\\n\\nCS12_4510:\\n Yeah, yeah, yeah.\\n\\nJadePixie_7138:\\n I will also, like, let Miley know where we're going. And I'll let\\n\\nCrux_4429:\\n Yeah. \\n\\nJadePixie_7138:\\n my kids know where I'm going.\\n\\nCS12_4510:\\n Well, how con- generous of you. That's\\n\\nJadePixie_7138:\\n Emily,  at all. Oh wait, sorry, you were gonna say something as Miley?\\n\\nCrux_4429:\\n Um, just Miley will be sure to cast heal. Um, she tells us we're gonna come back and remember the disguise, because she still wants to cast more heals on you.\\n\\nIlMaximuslI_9218:\\n Of course.\\n\\nCrux_4429:\\n Wishes your safe journey. \\n\\nCS12_4510:\\n a question for you. Yeah. Here's a question for you, Ezreal. Is disguise a lie? It \\n\\nCrux_4429:\\n Only if you don't believe your disguise.\\n\\nCS12_4510:\\n sounds like he really needed any of the self at that point.\\n\\nIlMaximuslI_9218:\\n Well, I have to think, don't you think?\\n\\nJadePixie_7138:\\n Yeah, what is up? Back in the- back in Nam and Raghal. What's going on?\\n\\nCS12_4510:\\n Whack-a-whack-a-whack! Are the Yeladusti, uh, comes back to Miley and is just like, Okay, good. I hope they're still here, because I finally got that gift for the great prophet that I was. \\n\\nCrux_4429:\\n He had things to do. I\\n\\nJadePixie_7138:\\n I don't know.\\n\\nCS12_4510:\\n You're such an important figure!  Well, I don't know where Grey is, actually. I suppose that's your call.\\n\\nCrux_4429:\\n imagine that Paul has a lot of curiosities he'd like to slate.\\n\\nCS12_4510:\\n Yes, he would. Rayla has  been borderline incessant. But I don't think you would be annoyed. So, I don't know. I'm\\n\\nCrux_4429:\\n Um, what is she incessant about? Trying to\\n\\nCS12_4510:\\n talking to you, trying to figure out who you are, if you're her at all.\\n\\nCrux_4429:\\n convince...\\n\\nCS12_4510:\\n Trying to figure out how much of anything you are of her.\\n\\nJadePixie_7138:\\n Imagine, like, she's interrogating you, kind of.\\n\\nCS12_4510:\\n Trying to catch up with an old pal who's yourself kind of thing.\\n\\nCrux_4429:\\n I think Rayla will have a very hard time trying to recognize herself in Grey, right?\\n\\nCS12_4510:\\n I know, but she really wants to. I think Gray is weirdly, completely aware of why, because of her existence as the same entity, but  is somehow at the same time completely different in so many other ways.\\n\\nCrux_4429:\\n Mm-hmm. \\n\\nCS12_4510:\\n Anyway,\\n\\nCrux_4429:\\n Yeah, I think Grey is mostly indifferent to Rayla's wants, though would suggest communion of minds to quell her curiosities. Communion of consciousness to quell curiosity,\\n\\nCS12_4510:\\n what does...  And what, pray tell, is that?\\n\\nCrux_4429:\\n basically, invite you into the hive  So, probably the Tower, because that seems to be calls like main lab\\n\\nCS12_4510:\\n Call's main lab is his main lab, but Call does idle in the tower a lot, because that's where you can supervise the big baby in the sky.\\n\\nCrux_4429:\\n yeah big baby response to gray \\n\\nCS12_4510:\\n Big baby response... More gray response to big baby.\\n\\nCrux_4429:\\n yeah tell me about  \\n\\nCS12_4510:\\n Well, how long does it take you to enter the tower?\\n\\nCrux_4429:\\n right\\n\\nCS12_4510:\\n I know there's that song there   that you called out last session.\\n\\nCrux_4429:\\n well i think i think gray idols outside the tower just listening to it communing with it you know in a weird sort of way i\\n\\nCS12_4510:\\n Yeah, I\\n\\nCrux_4429:\\n think it would it would take somebody to instruct gray to move through for them to actually move through  wait until\\n\\nCS12_4510:\\n think Grey,  in her existence, would be able to communicate with the chaos, with the fragments,  by just listening.\\n\\nCrux_4429:\\n right  \\n\\nCS12_4510:\\n They would want to hold you, and  you get the impression that you would be brought up into the sky and if you could be drowned, probably drowned in the brine pool while you just existed up there for a while as it tries to mentally  look at you with as much resolution as possible, which means physical contact and an immense amount of focus that would probably kill anybody else.  Might even kill you, Bens.  You're just so unaware of your physicality and its limits.\\n\\nCrux_4429:\\n right i think i think gray doesn't feel that sort of intimacy with this entity at the moment, maybe in time, but for now will reject physical contact. \\n\\nCS12_4510:\\n And you reject entering the tower. \\n\\nCrux_4429:\\n So when you guys will come across Gray, Gray is sitting on the ground, knees tucked up to the chest, arms wrapped around the knees, facing the tower, just kind of looking up at its zenith.  The subtle hints of prismatic colors that you saw in the temple,   like seriously subtle, not even there subtle, maybe it's just a trick of the light in your imagination, but perfectly still otherwise.   The two shadow people  will move forward and  kind of kneel next to Grey, one of them next\\n\\nCS12_4510:\\n Who Grey or with Grey?\\n\\nCrux_4429:\\n to Grey.  I think they stay on the same side, so it's not like one on either side, but you know, it's kind of like almost as though they're like kneeling in front of a sovereign.  A couple of seconds pass and one of them places a leather bag next to Gray.  Gray reaches out and touches it and telepathically talks to the two behind.   The two get Yankee behind her and says,   this gift will be very useful. \\n\\nJadePixie_7138:\\n What gift are you talking about? I didn't have any hand in   whatever they just gave you.  \\n\\nCrux_4429:\\n You'll recognize it as Azria's snake bag.\\n\\nJadePixie_7138:\\n Oh, okay.\\n\\nIlMaximuslI_9218:\\n This is what he meant by disposing the far-worm influence? What are you planning to do with that? Why is it a good gift?\\n\\nCrux_4429:\\n My... I... oh no, it doesn't say that. Our ability to influence  is derived from this light.  This very well may be the most concentrated  source of it in this realm.\\n\\nIlMaximuslI_9218:\\n What is that light? In the simplest terms that could be used. \\n\\nCrux_4429:\\n Uh, well Josh is gonna make some shit up and say this is... It\\n\\nIlMaximuslI_9218:\\n What did I bring?\\n\\nCS12_4510:\\n Well, the question itself is flawed.  What is it,\\n\\nCrux_4429:\\n is...\\n\\nCS12_4510:\\n boy? It is the unmaking. It is the...   It is the lack of definition.\\n\\nCrux_4429:\\n yeah. It is nothing. \\n\\nCS12_4510:\\n It is not what you think.\\n\\nIlMaximuslI_9218:\\n What\\n\\nCS12_4510:\\n Not what I know.\\n\\nCrux_4429:\\n Everything. \\n\\nJadePixie_7138:\\n It makes sense, doesn't it, as you? Uh,\\n\\nCrux_4429:\\n It does not. \\n\\nJadePixie_7138:\\n no it does. Your sustenance that you would have, uh, where you spent the last millenia for, wouldn't be sustenance here. It wouldn't exist here at all. So it makes sense. This is precious to you and useful, but as it stands I doubt you'll be getting your belt back, Ezria.\\n\\nIlMaximuslI_9218:\\n can it do? The thought? Horrifies her. You see, she looks at the bag,\\n\\nJadePixie_7138:\\n What's wrong,\\n\\nIlMaximuslI_9218:\\n and even though breath isn't needed, she begins to breathe heavier. \\n\\nJadePixie_7138:\\n uh, what's wrong Ezria?\\n\\nIlMaximuslI_9218:\\n It's still a part of me.\\n\\nJadePixie_7138:\\n Oh, uh, I don't remember how Ezria got that belt. It was in her throne?\\n\\nCS12_4510:\\n Bought it from Mordengannon.\\n\\nJadePixie_7138:\\n She got it from Wurmken?\\n\\nCS12_4510:\\n She bought it.\\n\\nJadePixie_7138:\\n She bought it from Wurmken. Okay, um, okay. Then Zaria says, uh, it's a belt, Ezria.\\n\\nIlMaximuslI_9218:\\n That's not all it is. It hasn't been just that for a very long time.\\n\\nJadePixie_7138:\\n No, what do you mean?\\n\\nIlMaximuslI_9218:\\n It's just as much of me as my skin as my body. \\n\\nJadePixie_7138:\\n You're saying it's made out of kra-\\n\\nIlMaximuslI_9218:\\n Yes.\\n\\nCS12_4510:\\n Gee, I need to make a wisdom save.\\n\\nIlMaximuslI_9218:\\n It's 26 to fail!\\n\\nCS12_4510:\\n kind of failure, you manage to contain the\\n\\nIlMaximuslI_9218:\\n Okay.\\n\\nCS12_4510:\\n effect.\\n\\nIlMaximuslI_9218:\\n V affects\\n\\nCS12_4510:\\n As you begin to burn  on the inside of yourself,\\n\\nIlMaximuslI_9218:\\n me. She focuses in on the flame and tries to spool it out, trying to just channel where it goes so that it can be seen outside, sort of coming up from her stomach, I think. Just a sort of up the stomach and then to- not through the heart, but through where the scar on her chest is.\\n\\nCS12_4510:\\n there is a flare of burning energy that burns a hole through Ezra's clothes. There's a white, brilliant searing light, crackles and pops that gets out to the surface\\n\\nCrux_4429:\\n Grey will grab the bag and stand.  \\n\\nIlMaximuslI_9218:\\n I don't want that. Emotions to the bag.  To be of me. Do with it as you would, as long as it's safe.\\n\\nCS12_4510:\\n make a charisma save   start seeing from a different angle as you as an eye comes into existence on your right temple\\n\\nCrux_4429:\\n Grey,\\n\\nJadePixie_7138:\\n Do I see that?\\n\\nCrux_4429:\\n her right temple,\\n\\nCS12_4510:\\n well\\n\\nCrux_4429:\\n you're to her left.\\n\\nIlMaximuslI_9218:\\n I think she'll like start to put her hand over her head, and  I think she buckles a little bit.\\n\\nJadePixie_7138:\\n I, like, wrap my arm around you, try to support you. Hey.\\n\\nIlMaximuslI_9218:\\n Things are starting to get weird.\\n\\nCrux_4429:\\n Grey will stride forward, reaching into the bag. As she approaches you, she pulls out the snake crumpled, lifeless thing burned with brilliance.\\n\\nCS12_4510:\\n yeah, it's nothing but a belt a belt made of high it's not even scale but it does It does have many dangling images. Like you can't quite decide where it is. It's stretching in a variety of directions.\\n\\nCrux_4429:\\n As she holds it in her bare hand, she'll will the light to flow into her.\\n\\nCS12_4510:\\n Radiant changes. The prismatic effect of the felt fades. It is wrong, still. When it comes back into being, it's got a kink in it that it didn't have before, a bias towards a direction when it used to be perfectly straight, but it stops shifting and it stops twisting as fuchsia, percoys,  chartreuse, light pulses and is drawn down, grades, veins.  and a speck of flesh on her.\\n\\nJadePixie_7138:\\n So the belt has just been absorbed, or the belt-\\n\\nCS12_4510:\\n Oh, the belt looks normal. I mean, it looks... It looks like it's not breaking, but it looks like it's bent. \\n\\nJadePixie_7138:\\n Does it look like it's no longer magical?\\n\\nCS12_4510:\\n That's not something that you could visually tell.\\n\\nJadePixie_7138:\\n Oh, okay. Uh, is the spool of energy that Ezria pulled out, like, visible, still around?\\n\\nCS12_4510:\\n Except as, yeah, what happened with it.\\n\\nIlMaximuslI_9218:\\n I\\n\\nCS12_4510:\\n It's Karak! It exists.\\n\\nIlMaximuslI_9218:\\n think one palm has that spool, the other hand covering her new eye.\\n\\nJadePixie_7138:\\n I will...\\n\\nIlMaximuslI_9218:\\n Go ahead.\\n\\nJadePixie_7138:\\n I guess I will just, uh... As you said, to get it away from her, I just, uh, tack it with a spool.\\n\\nIlMaximuslI_9218:\\n Oh, she was talking about the belt.\\n\\nJadePixie_7138:\\n Oh, okay, nevermind. Uh... Well, I still get the spool,  but I use my talking system.  And I'll, like, wind up the spool to, uh, like, make a little ball of energy thread with it. And I'll just be floating in midair. \\n\\nIlMaximuslI_9218:\\n happening all these things all of a sudden do you know gray\\n\\nCrux_4429:\\n We  believe some light resides in you as well. \\n\\nIlMaximuslI_9218:\\n points up the spool is like white pop right it isn't any of the that\\n\\nCS12_4510:\\n Well,\\n\\nIlMaximuslI_9218:\\n oh\\n\\nCS12_4510:\\n there you go. \\n\\nIlMaximuslI_9218:\\n that is not the same colors that the light was in me at this point she removes her hand and the eye looks at you gray\\n\\nCS12_4510:\\n It shimmers with a beautiful and terrible iridescence. As it grows a second pupil.\\n\\nIlMaximuslI_9218:\\n you take this light  \\n\\nCrux_4429:\\n Gray closes the distance even further and  holds up a hand halfway towards your head and  asks, would you accept my touch? \\n\\nJadePixie_7138:\\n Hey, don't hurt her.   like whatever you're doing, whatever it is, just consider how it might impact her\\n\\nIlMaximuslI_9218:\\n except I think at this point this point that the pupils begin to dilate a little bit flax of things in the black expanses of those two pupils. I\\n\\nCrux_4429:\\n Gray is going to  place their hand over your third eye and is going to try to shape the far-realm light that is in Ezria,  passing it through herself,  and either try to remove the eye or try to reposition it to her forehead. \\n\\nCS12_4510:\\n Grey, you become a new emotion, surprised at when you touch just how much  there is. This is not a trifling amount, this is an amount that should have unspooled her  and turned her into nothing. She should be dead. Well, not dead. She should be unmade. It should be passing through her and over her, changing what would be considered the boundary between body and soul, making that barrier nothing. Instead, she's  believing so strongly in what she is. But it's like a magnet. There's this cloud of energy that wants to get in the positive electrical charges. There's a powerful gradient of that energy surrounding her as it is, in all seriousness, just trying to rush in  like the core of a star that is being pressed,  as is  to make herself more and more hardened, burn brighter and brighter in order to equal out that compressing pressure.  What's really impressive is that it's just above her skin.\\n\\nJadePixie_7138:\\n I lean,\\n\\nCS12_4510:\\n It's contained,  but it's very violent. Yeah.\\n\\nCrux_4429:\\n The second hand reaches up and presses against Ezria's cheek, and a laugh escapes from Gray, almost of joy. Mouth hangs agape as Gray's eyeless eyes stare into Ezria. In Ezria, with this physical contact, there's a connection being made, almost as though the two of you are not different. I\\n\\nJadePixie_7138:\\n I lean like around the other side of Ezreal to get a glimpse of what like kind of wound Ezreal is hiding from her\\n\\nIlMaximuslI_9218:\\n think the two- the two- the eye spins and looks directly at you.\\n\\nJadePixie_7138:\\n oh shit,\\n\\nCrux_4429:\\n think it's also covered by a crystalline hand,\\n\\nJadePixie_7138:\\n oh I\\n\\nCrux_4429:\\n though that might not stop it from looking at you.\\n\\nCS12_4510:\\n What\\n\\nCrux_4429:\\n We can see truly, after all.\\n\\nIlMaximuslI_9218:\\n And x-rays.\\n\\nJadePixie_7138:\\n can't, no I can't \\n\\nIlMaximuslI_9218:\\n The eye can. What\\n\\nJadePixie_7138:\\n oh\\n\\nCrux_4429:\\n We, uh,  after she goes, so she goes,  we cannot take this from you. This is all you are.\\n\\nIlMaximuslI_9218:\\n do you mean? Was me before? Of\\n\\nCrux_4429:\\n Do you know yourself? know\\n\\nIlMaximuslI_9218:\\n course I do.\\n\\nCrux_4429:\\n who you are.\\n\\nJadePixie_7138:\\n great, I don't see how this is productive\\n\\nIlMaximuslI_9218:\\n What's next? I know who I am.\\n\\nJadePixie_7138:\\n what's next is you let me use my Hatsu on you to convince Ezreal\\n\\nIlMaximuslI_9218:\\n What's happening?\\n\\nCrux_4429:\\n Gray holds on. I don't think Gray wants to let go.  Gray says, You are burning.\\n\\nIlMaximuslI_9218:\\n My soul?\\n\\nCrux_4429:\\n You\\n\\nIlMaximuslI_9218:\\n My soul's always been burning. No.\\n\\nCrux_4429:\\n like the suns that you create. Your core burns   brightly. And with the times passing, the pressure amounts.  \\n\\nJadePixie_7138:\\n this has been going on for long enough. Let me use your- let me use my Hatsu.\\n\\nIlMaximuslI_9218:\\n I- At this   point she tries to like take a step away from Grey. Tries to break the- the hold.\\n\\nCrux_4429:\\n The connection between you two abruptly severed.  Gray takes like a faltering half step forward to chase you. And then her joyous face falls into disappointment. \\n\\nJadePixie_7138:\\n I take a step forward as if to intercept between the two of you. Back off, Gray.\\n\\nCrux_4429:\\n Her hands fall to her sides.    She bends down to pick up the belt  that she had dropped.\\n\\nIlMaximuslI_9218:\\n I'm still It's all I am, and it's fast, I know that. He looks to yous and me, angry at the same time. \\n\\nCrux_4429:\\n Oh, good a point.\\n\\nIlMaximuslI_9218:\\n Yes!\\n\\nCrux_4429:\\n This truly, I had forgotten what it was to be surprised. We thank you for this gift. We can tell you little of what to expect.   Know this, Ezreal.  You must either... You are holding yourself together. This pressure would unmake anyone else I have encountered. You must continue to hold yourself together to harden your shell, or the pressure will unmake you. \\n\\nIlMaximuslI_9218:\\n Then I'm going to need all of you, Gray, to believe in me.  Then it will be so. And with those words, truth rings out. And I'm going to spend a point.\\n\\nCrux_4429:\\n This point is to make it true that you're pinning your existence on Gray's capacity to believe? \\n\\nIlMaximuslI_9218:\\n It's a gamble. Gray's surprised right now, so perhaps more oddities will come of it. The eyes, brows raise. He\\n\\nCrux_4429:\\n Hehehehehehehehe   Uh, I think Gray is confused at your words. What's Zynareth doing? Asri is looking directly at Zynareth, just giving me the side eye.\\n\\nJadePixie_7138:\\n Like, uh, making eye contact with, uh, the eye that has emerged from her shoulder, uh,  picks a step towards his ear. Hasn't this gone on long enough? I can remove this. We both remember who you are and everything else is inconsequential.\\n\\nIlMaximuslI_9218:\\n like very gently raises an arm up to be like, wait, halt. And you see there is a resolute confidence in Ezria, more like the Ezria you went into Anom with than the one that came out. I don't know if I can separate these things, Zynn earth. I don't think it's in me anymore.\\n\\nJadePixie_7138:\\n And what's all this talk about pressure and keeping yourself together? If it's not in you anymore, then that shouldn't matter,\\n\\nIlMaximuslI_9218:\\n All I ever do, Zynn earth. I am chaos, Matum. I am the stuff of Limbo. Every fiber my being hits, made of things that are of all things. Of leading plasma, and of subtle dirt. This is a new layer to that, I think. And she will sit down, facing towards you directly sooner.\\n\\nJadePixie_7138:\\n right? I am, uh, looking at the eye that I'm- that is new to me. Look to it, then look to make eye contact with you as if to try to, uh, gauge your expression. \\n\\nIlMaximuslI_9218:\\n There seems to be a sense of, come sit with me. Welcoming.\\n\\nJadePixie_7138:\\n What are you looking at me like that for? I  sit\\n\\nIlMaximuslI_9218:\\n As she takes both her hands out in front of her to reach out towards you.\\n\\nJadePixie_7138:\\n and I reach out to you- towards yours.\\n\\nIlMaximuslI_9218:\\n You go in my head. You'll be subject to the things in my head. I know you're strong. I hate I know you're strong. If you go in there,  it should first be to see. Know myself. This, she points to the eye.  This is going to be another layer to myself.  is the only one that knows what's going on here and they don't know much except that it is me.    I'd be willing to go through a little bit of it with you right here and now. \\n\\nJadePixie_7138:\\n You're willing to go through a what?\\n\\nIlMaximuslI_9218:\\n A little bit of what's in my head right here and now.\\n\\nJadePixie_7138:\\n Is that a question? Okay.\\n\\nIlMaximuslI_9218:\\n No, it's a statement.  Removal of whatever this is. I don't know what that'll do to me. I'm sorry for being so scared of what I didn't understand that I didn't trust you to help me. And she like takes a breath like Like, it's a point of her character, a point of her, of her, that she is becoming more and more aware of as a flaw that she does often.\\n\\nJadePixie_7138:\\n What is the flaw?\\n\\nIlMaximuslI_9218:\\n That she will do anything to go and help someone who reaches their hand out, who wants help, who needs it. But when it often comes to her, she is so scared of the consequences of what happens to people who help her, she often rejects it. And I think, you know, Zynyrth knows Ezuray pretty well, and so in this moment, you remember How she felt about Sisoma, both how she failed to help her, and how her fear of the consequences her the way she did all of that. She was so scared of what would happen if she let Sisoma into her life, all of her life, not just the parts of crux space, but deeper still. You think of Galaxias, how she was so afraid of the Hondor, how that shaped her decisions. And then, of you right now, you're trying to help her, and she realizes that, but she keeps rejecting it because she's scared of what will happen to you if you help. It's not fair given that she never has the same concern for herself when she goes to help others. And so this is her accepting you. This thing that's happening to her, this thing that she is now, she wants it to be known. First, taken, second. And there's a clarity in that decision that sort of helps reset Ezria.\\n\\nJadePixie_7138:\\n Uh, alright, Ezria. Just like how we've been approaching things with Gray, I want to make sure that we're doing everything as safely as possible. \\n\\nIlMaximuslI_9218:\\n And I see that the tokens have shifted towards, uh, we're sort of like in, uh, Aragore and Any Greyborns also sitting down? Are they just sort of standing looking at us?\\n\\nCrux_4429:\\n I think while you guys are talking, Gray will lay the belt flat next to you, shift and sit down to your side, and then the two Greyborn will sit down next to her and we kind of form a little bit of a powwow circle as they kind of just watch you spilling each other's heart out. I think as you're watching, though,    will be born.\\n\\nIlMaximuslI_9218:\\n Another one born? \\n\\nCrux_4429:\\n Yeah. She takes the moment while you guys are speaking to create another Greybarn,\\n\\nJadePixie_7138:\\n So this is something that she's actively doing. I\\n\\nCrux_4429:\\n simply watching you actively concentrating on creating more. \\n\\nJadePixie_7138:\\n don't even know where to begin. Looking for answers on this. I-\\n\\nIlMaximuslI_9218:\\n Are we ready?  \\n\\nJadePixie_7138:\\n Sorry, what did you say?\\n\\nIlMaximuslI_9218:\\n Sorry? As she was just gonna say, are we ready to\\n\\nJadePixie_7138:\\n Ready for what?\\n\\nIlMaximuslI_9218:\\n see the next step?\\n\\nJadePixie_7138:\\n I'm ready, yeah.\\n\\nIlMaximuslI_9218:\\n And Ezreal will begin to go into a deep meditation, readying her mind to what Zun-rith does next, what Grey does next, for what hands reach out to her.\\n\\nCrux_4429:\\n I think Grey just opens up a little bit of an aura and uses the help action on Zuneros   to give her advantage on whatever check she's about to make next.\\n\\nCS12_4510:\\n are you meditating on, Ezreal? \\n\\nIlMaximuslI_9218:\\n Change, whichever this is, that is her. Trying to do as she always does. See where it's going. seeing is the one thing that she's very good at doing. Whether it's the self, or whether it's the world. It's in her own biases, it's in her own way, it's what she is. And so she's just opening up an awareness to all things. Earlier, when you talked about  piecing and locking away the things that happened to her, the things that made her feel awful, that didn't feel right. And so much in the same way that that's the direction her mind went, when that was an option for her, when that was something that she could have done to help herself, what she felt like would help herself in that moment, and instead going the other way. That is the direction she is going. Instead of rejecting whatever's happening to her, seeing where the change goes, seeing the self, what it is, whatever that is.\\n\\nCS12_4510:\\n It is the self.\\n\\nJadePixie_7138:\\n I go over and sit next to Ezia and I'll, um, like, put a hand on her upper arm and I'll just try to gently shut the arm eye closed and I'll just kind of, uh, sit there next to her as she meditates.\\n\\nCS12_4510:\\n What is the self, Ezreal? Is it the past? Is it the future?\\n\\nIlMaximuslI_9218:\\n Funny that you think there's a difference,\\n\\nCS12_4510:\\n Is there an end to this hell?\\n\\nIlMaximuslI_9218:\\n if you impose one. But when you're in a meditation, and you look at the self, it is faster than anything you can really picture. If there is an end, there isn't something that she could know. Not truly, anyway. There is an end to the identity, she knows that. When you look within, it is fast. And she's not been around long enough to know  there is an end, or where it is.\\n\\nCS12_4510:\\n I have no idea how to describe what your mind is like.\\n\\nIlMaximuslI_9218:\\n I'm thinking that's a compliment. Well \\n\\nCrux_4429:\\n Ah, shit. I just remembered something that I wanted Grey to say before he went into the mind dive.\\n\\nIlMaximuslI_9218:\\n then say your piece.\\n\\nCrux_4429:\\n Gray would caution Zynareth  with what you're about to attempt. Tread lightly, Asria is like a walking sun that threatens to supernova. \\n\\nJadePixie_7138:\\n Can't do anything without Ezia first gaining some answers. Go away for her.\\n\\nIlMaximuslI_9218:\\n Ezria's mind.\\n\\nCS12_4510:\\n Are the links between the stars and the desert becoming more rigid? More elastic? Are they becoming more monochrome? More prismatic? \\n\\nIlMaximuslI_9218:\\n It's like being submerged underwater, completely and utterly. It is a pressure. It is a space she knows very well. But that's only one layer to it. And so if this were, you know, an interesting indie film or something, there would be just her sitting on the bottom of an ocean, sure let's call it an ocean, where every drop of water hangs on her shoulders. But the camera of her mind, of this scene, sort of tries to move around her like it's in orbit, and she emerges from that water. It's below her now, and it begins to shift. The dark water below begins to fester, change. It moves  in the way that you see those videos of taking, you know, years of time and putting it down to like 60 seconds. There's just ever constant change that feels old, that feels like what's happening before your eyes isn't real, because how can anything move so fast when at the same time it is such great amounts of time? The earth seems to move, the water seems to move in ways that it couldn't possibly move. It just doesn't make sense. The stars begin to alight, casting its light over all the water. What was water, it's changing now. There is no breaking. There is no fracturing. There is just movement. It's different, but to those who aren't ready, those would be one and the same. But while it's hard to follow, hard to process, there is a calm about it. About seeing the waves move the way it does. You see the world, all of it, move the way it does. The camera, as it's moving around, taking this all in. There isn't an Ezria to be found, like there was just moments ago. As the mind is ready for this light to condense, whatever that means. And I think during all this, Ezria is holding Zunra's hand, and then it's just a squeeze.\\n\\nJadePixie_7138:\\n Yeah, she's been, um, holding you throughout this time and she squeezes back and responds and is just looking into Ezreal's expression, just trying to get any sort of like indication from her as uh, Zunae looks concerned and is um, slightly confused about what's been going on or at least what- what seems to be uh,  the issue with Ezreal\\n\\nIlMaximuslI_9218:\\n The eye in her right temple moves, front and center\\n\\nJadePixie_7138:\\n oh, I thought that eye was on your arm I\\n\\nIlMaximuslI_9218:\\n of her head.\\n\\nJadePixie_7138:\\n don't know\\n\\nIlMaximuslI_9218:\\n That's the third location mentioned now, this is getting troublesome.\\n\\nCrux_4429:\\n Yep, got temple, shoulder, arm, you know, but is there really a difference?\\n\\nJadePixie_7138:\\n why- wow, wow, that's so cursed uh, great job on that, the Spar Realm intensity RP, Josh \\n\\nIlMaximuslI_9218:\\n Great job, Dana! Cause I think, I think you've said all the new locations.\\n\\nJadePixie_7138:\\n No I have no!  \\n\\nCS12_4510:\\n Yes you have!   \\n\\nCrux_4429:\\n Oh that was the cutest I have ever heard.\\n\\nJadePixie_7138:\\n Oh shit.\\n\\nIlMaximuslI_9218:\\n All the more funny because we have poof. But Ezria seems to be completely calm even as there are more eyes appearing now.\\n\\nJadePixie_7138:\\n Oh, Zunereth  tenses? Um, Azirath?  \\n\\nIlMaximuslI_9218:\\n The eyes to you. Her normal eyes, in the location that most creatures have them of her type, are closed. But the arm eye is looking at you and you feel Ezria's intent, not something foreign. And she's still squeezing your hand. And then the eyes close.\\n\\nJadePixie_7138:\\n I will telepathically say as you can probably feel me tensing a bit, um, you have your answer. \\n\\nIlMaximuslI_9218:\\n I'm ready. Are you\\n\\nJadePixie_7138:\\n Is Azirath referring to Zunereth using her Hatsu or is she referring to something else?\\n\\nCS12_4510:\\n He's referring to you sharing a pro bono.\\n\\nJadePixie_7138:\\n Oh what? I don't know what that means!\\n\\nCS12_4510:\\n Hmm? It's... It's mostly a joke.\\n\\nJadePixie_7138:\\n Okay. Does Zunereth know what Azirath means? Buy that. Buy I'm ready are you yeah\\n\\nIlMaximuslI_9218:\\n back?\\n\\nCS12_4510:\\n A few things. Could be, are you ready to let me go? Are you ready to cut my head off because I'm clearly becoming a monster?  Could be, are you ready to embrace this new monster lifestyle with me? Could be, are you ready to figure out what's going on?\\n\\nIlMaximuslI_9218:\\n Do you want send answer or do you think cuz?\\n\\nCS12_4510:\\n I think Sam should answer, yeah.\\n\\nIlMaximuslI_9218:\\n Yeah yeah.\\n\\nCS12_4510:\\n That's up to Dana.\\n\\nJadePixie_7138:\\n please I\\n\\nIlMaximuslI_9218:\\n Uh, the intent is to bind out together the mind dive.  \\n\\nJadePixie_7138:\\n think she just squeezes tighter I've been ready and then don't like have a chocolates over to gray and then my dive into is yeah\\n\\nCrux_4429:\\n All right, Gray focuses her attention in your direction, bolstering you with the memories of of countless identities\\n\\nJadePixie_7138:\\n oh\\n\\nCrux_4429:\\n for a brief flash of inspiration. That last about a turn, you have  been helped.\\n\\nJadePixie_7138:\\n it's a what\\n\\nCrux_4429:\\n She uses the help action.\\n\\nCS12_4510:\\n You've been helped. \\n\\nJadePixie_7138:\\n oh  okay  on the inside I suppose I will be like I suppose I will since there's a lot of water I assume from your description inside as Ezia's fine?\\n\\nCS12_4510:\\n There's no water. But it feels like you're drowning.\\n\\nJadePixie_7138:\\n Oh, okay. That's weird. Um,\\n\\nIlMaximuslI_9218:\\n But it's not unpleasant.\\n\\nJadePixie_7138:\\n yeah,\\n\\nIlMaximuslI_9218:\\n Instead of it being a suffocation, a choking of what you are, an end.  Like the usual drowning. It is more like every fiber of your being will under this pressure will fill with this water? With this stuff. It is more like an embrace. \\n\\nJadePixie_7138:\\n okay. Well then, um, Cenarith, um, keeps a very strong concentration for this, since, uh, Ezia has a strong sense of self, and, um, she wants to keep her own identity separate and, like, fully formed, but at the same time, um, like, she welcomes the presence of her in the sort of sense, like, a, hey, it seems like a hug. I suppose?  But all I mean in the most unintelligible way is that Zynneth concentrates deeper sense of self while also taking  comfort in Ezio's presence  and she will think out  just thoughts that will ripple through this place.  Can you feel that I've entered here?\\n\\nIlMaximuslI_9218:\\n The embrace tight. Like those hugs that you get when after like a few minutes like you hug tighter because you don't want to let go. Because this moment is so important. Affirmation. \\n\\nCS12_4510:\\n Yes, it's appropriate that the pressure continues to grow.\\n\\nIlMaximuslI_9218:\\n Love. That as\\n\\nJadePixie_7138:\\n It has been a long time since I've been here.\\n\\nCS12_4510:\\n Last time you were here, it was day. Now there is a coldness about, if there was a temperature, as there is a night sky. The stars that make up a mind are plentiful. Stars that make up as you extend to the sky form constellations. You eventually stop trying to count. You don't know if they're getting small and fractured or great and numerous. You don't know if there's many hundreds of thousands or if this is a supertask where each one is just a subdivision, the same amount, the perspective here is impossible.\\n\\nJadePixie_7138:\\n Well, I'm not going to focus in on the details here, actually. I'm going to take  a momentary reprieve from this scenery to  focus in on what I remember of Ezreal's mind when I was last here. And I will have understood that a lot has happened and Ezreal, like people change and as you as a changing person but i'm mostly just going to compare what i remember to what i see now but trying to account for like what what i've seen like how i've seen as you change as a person and like like what would be a reasonable gift and what wouldn't be like what would be like obviously separate.\\n\\nCS12_4510:\\n Last, when you were here, this was a very curtled crunch of a mind that was absurdly sturdy, self-balancing, equidistant. Now you're seeing what amounts to tree mid-growth during a time lapse where there are quivers to the leaves. The stars and the cords between them are stretching upwards into the sky, and you see as they connect with the greater constellations that they're drifting upwards. Paper lanterns. \\n\\nJadePixie_7138:\\n I will check out, I'll check out these growths to just like take a look and see if um I can get any more insight onto um whether or not they are connected to having gone to Anom or if they're unrelated and if they aren't then I'm going to follow up with those lanterns and see if they have any connection to anim.\\n\\nCS12_4510:\\n You're finding that everything is retroactively shifting. The firm and sturdy base that existed is being recontextualized as you look at it. Everything here is being touched by anim, existence, life, death, love, the future, of Surthaman, all in the new light of the perspective that there are the possibility to end, the possibility to continue living past one's expiration date, it's next to become something unchanging forever, like Surthaman, to become something that changes always, like Karak, these choices, these ideas,  you're becoming aware of as just change and perspective on the questions themselves. And looking back upon these memories reflects her own ignorance of these issues, believing that she was stable ever when her desire was to change. Believing that solidity was a virtue, meaning Zirtha-mon growing, learned that he is an entirely stagnant being, and how almost shameful it is. Impressive, but almost shameful. \\n\\nJadePixie_7138:\\n Well, so what do you mean by like you were saying that looking at all this gives me the impression that Izu was wrong?\\n\\nCS12_4510:\\n Now, looking at all this, he's giving you the perspective that Ezria has lost  the limitations of perspective that allow her to view things in anything but gray. The biases that are necessary, code of ethics and then continued existence are fading.\\n\\nJadePixie_7138:\\n Okay, um, call attention to it too as you're focusing on this part of her mind. Hey, um, this part of you, what do you think of it? Um, it has to do with your ethics and morals. Uh, it looks like it's changing very rapidly. Uh, is this you having just new opinions or is there something more to it?\\n\\nIlMaximuslI_9218:\\n well. You feel the stuff around you. At this point the pressure is still there. But you find your arms, your limbs, your body feel much lighter. Like the pressure is still building.  piling on top of you. You are being more and more aware of every molecule that sits on your shoulders. But at the same time, there is no sluggishness of moving through water, and a feeling of, there's more to it. Let's keep looking.\\n\\nJadePixie_7138:\\n Okay, I look down. What do I see?\\n\\nIlMaximuslI_9218:\\n You see the stars, and you're falling towards them. As it's more than just the fact that Ezria's changing her mind on things. It's more like all things that there are, are Ezria. All the various codes of ethics, beliefs, all of the opinions, biases people have, the good ones, the bad ones, but you're going a direction. And so there's this sense of focus through all of the many that flow through her, that flow through you. Senses of love, and rage, senses of betrayal, of kinship, of new eyes, seeing a thing for the very first time, the awe of it, of the mundane. It seems that Ezria, in this moment, is feeling everything. It's not her changing her mind. It's everyone's minds charging through her. Her?   Him?\\n\\nCS12_4510:\\n You're witnessing the death of the self.\\n\\nJadePixie_7138:\\n Uh, what?\\n\\nCS12_4510:\\n You're witnessing the death of the self.\\n\\nJadePixie_7138:\\n Zunorith starts to, like, feel uneasy and panicked.\\n\\nIlMaximuslI_9218:\\n Them? Are these feelings what Zynareth is, or are they just simply passing through her?\\n\\nJadePixie_7138:\\n Aww.  Well, they're resonating from inside her, I guess, because,\\n\\nIlMaximuslI_9218:\\n Would they remain if she held onto them, or would they go if she let them simply run its course?\\n\\nJadePixie_7138:\\n uh, they would still be there.\\n\\nIlMaximuslI_9218:\\n You begin to feel very heavy,\\n\\nJadePixie_7138:\\n Uh,\\n\\nIlMaximuslI_9218:\\n almost statuesque. Kinda like Grey.\\n\\nCrux_4429:\\n Oh, thank you.\\n\\nJadePixie_7138:\\n Azura, I- I just want you to say something to me. I just need to hear your voice, even if it's just a thought, just a natural thought of yours.\\n\\nIlMaximuslI_9218:\\n Roll me a persuasion check.\\n\\nCS12_4510:\\n He's pretty good at these. You need to set DC and you need to, well, you don't need to say it out loud, but you need to set a DC to yourself. You need to\\n\\nJadePixie_7138:\\n Okay, I'll let you say your ID's first.\\n\\nCS12_4510:\\n think about what, then you need to think about what these things mean.\\n\\nJadePixie_7138:\\n Hey, what about now?\\n\\nIlMaximuslI_9218:\\n Alright, okay.\\n\\nJadePixie_7138:\\n Do I get a homage from Grace?  Health action?\\n\\nIlMaximuslI_9218:\\n Oh, that's right.\\n\\nCS12_4510:\\n Sure do. \\n\\nJadePixie_7138:\\n Okay, 27.\\n\\nIlMaximuslI_9218:\\n You hear, it's almost like the anticipation of Ezria's voice is what speaks through you, to you. Like you're waiting for an answer, Ezria's voice, you know what Ezria's voice sounds like, you know what it feels like to have her head and yours communicate. And you are waiting for what seems to be hundreds of heartbeats in a mere moment. But it's in that anticipation that you get exactly what you were expecting.  speaking, saying I am here, and that embrace wraps around you. You still feel very heavy, very, uh, stiff, but \\n\\nJadePixie_7138:\\n Edria, there's just, there's something not right here, and I don't know, it doesn't,  it just doesn't look right to me. Um, so either there's a reason for why your mind is the way it is right now or I  just can't lose you, okay?\\n\\nIlMaximuslI_9218:\\n what does the Earth want to see? What\\n\\nJadePixie_7138:\\n Ezea, even though she's sitting right next to her.\\n\\nIlMaximuslI_9218:\\n does that look like? What does Ezria look like?\\n\\nJadePixie_7138:\\n Yes, yeah, that's sitting next to her. She is exactly me.\\n\\nIlMaximuslI_9218:\\n With all the eyes,\\n\\nCS12_4510:\\n not\\n\\nIlMaximuslI_9218:\\n on her arm, on her temple, on her shoulder,  multiple pupils on them,\\n\\nCS12_4510:\\n the eyes growing in her lungs, the eyes yet to be.\\n\\nIlMaximuslI_9218:\\n that is what you see in this mindscape. Eyes looking at you warmly, but in that way where there is a  somber confidence, a scarred bravery. I am here. \\n\\nJadePixie_7138:\\n Uh, I don't know what's going on. Um, am I talking to you? And is this just me talking to myself? I don't understand\\n\\nCS12_4510:\\n The eye opens.\\n\\nJadePixie_7138:\\n whose eye opens.\\n\\nIlMaximuslI_9218:\\n Another one on Ezri.\\n\\nCS12_4510:\\n The Nether of Esrias.\\n\\nIlMaximuslI_9218:\\n This one's got no pupil, all Iris.\\n\\nJadePixie_7138:\\n Ezea, I think I have to use my Hatsu on you. I just need you to state the words, I just need to know that you're fine with me affecting your mind in this way, I just need to hear it from you. \\n\\nIlMaximuslI_9218:\\n Oliver looks at you at this point. An intense focus from each eye. That's what it feels like anyway. Like there's a beam coming from each one that you can't see, that you can't feel except in the way that there's a chill around you. Or maybe it's hairs standing on the top at their full length. Hmm.\\n\\nJadePixie_7138:\\n Yeah, um...\\n\\nIlMaximuslI_9218:\\n Does Zynareth like, she'll say this first, do you accept your vision of me? All the eyes look, do you accept my changes? A step closer to you. And it's at this moment she seems incredibly, vastly far away, and yet is just mere inches from me. Like both are true at the same time. Like there are two different zenariths with the same brain,\\n\\nJadePixie_7138:\\n Ummm...\\n\\nIlMaximuslI_9218:\\n but there is love in her voice. There is comfort, even with the weariness that some eyes exude,\\n\\nCS12_4510:\\n There, I\\n\\nIlMaximuslI_9218:\\n that some eyes have seen. Ooh,\\n\\nCS12_4510:\\n would be a bad GM if I didn't point out the connections to feelings rebounding, reflecting. the love that one of your own vision and creation feels towards oneself and the relationship to your patron, Zynareth,\\n\\nJadePixie_7138:\\n Yeah...\\n\\nCS12_4510:\\n and that perspective\\n\\nJadePixie_7138:\\n Oh my god... No...\\n\\nIlMaximuslI_9218:\\n I don't know what this feeds\\n\\nCrux_4429:\\n Wish I was paying closer attention to what Bryce was saying.\\n\\nJadePixie_7138:\\n Um... I think that Zirith is mostly just, um, drugging off, like, being asked if she accepts this version of Ezria, because she's mostly just feeling it as if it's something that's kind of getting to her head um did you get the message i sent you on me 20?\\n\\nIlMaximuslI_9218:\\n oh shit sorry\\n\\nJadePixie_7138:\\n i just sent it though it's not a problem\\n\\nIlMaximuslI_9218:\\n oh okay sure sure I'll have to know exactly what return Hatsu means\\n\\nCS12_4510:\\n restored a previous point.\\n\\nJadePixie_7138:\\n it's like a like the restore function on your computer i suppose i'm\\n\\nIlMaximuslI_9218:\\n calling back to comparing as a as a broken whole computer I like it\\n\\nJadePixie_7138:\\n sorry i'm sorry \\n\\nCS12_4510:\\n He's a broken old computer that's    either becoming self-aware or\\n\\nJadePixie_7138:\\n Zynith is panicking right now. I\\n\\nCS12_4510:\\n as you have every right to be. And to... Zynareth give me a... what kind of wisdom skills do you have, Zynareth? I'll\\n\\nJadePixie_7138:\\n have insight. Um, I have perception.\\n\\nCS12_4510:\\n take an insight, two of them.\\n\\nJadePixie_7138:\\n Okay.\\n\\nCS12_4510:\\n You... you're terribly... uncomfortable in this entire situation. This is... you become aware of what the worst thing is. It's that the far realm isn't evil, that it, its effects aren't so easily defined as changes.  Sometimes they're defined as revelations. Sometimes they're defined as warping. Makes things different,  but people change all the time anyway. The worst thing is the   impossibility to determine a truth from a fiction where the Far Realm's light is involved. Is this the natural pace of these things? Is this happening because the Far Realm is burning Aesria? The complete and lack of distinction between futures is horrible.  It is an amalgamy. It is an amalgam of truth. It is an amalgam of good. It's an amalgam of what is Ezria. Ezria is there for sure, but Ezria is also not the only thing there. Not everything there is Ezria, but is it before?  This is simultaneously more Ezria than Ezria has ever been. Ezria is growing, changing, still her. \\n\\nJadePixie_7138:\\n Yeah. But the thing about you comparing her to her patron is what's really messing with Zynith right now.\\n\\nCS12_4510:\\n I know, I was gonna add some perspective on that, but you rolled a 14 on one of them.\\n\\nJadePixie_7138:\\n Uh,\\n\\nCS12_4510:\\n No, I mean, there's no answer to that, that's what I've just said.\\n\\nJadePixie_7138:\\n yeah,\\n\\nCS12_4510:\\n But I was going to continue to talk about it.\\n\\nJadePixie_7138:\\n I think, uh, she's hung up on that. And I think that she sees it as I should, I don't want this to just be my version of you. It'd be you.\\n\\nIlMaximuslI_9218:\\n to be all of me\\n\\nJadePixie_7138:\\n Yes. \\n\\nIlMaximuslI_9218:\\n all the eyes look at you there's a consideration and she like opens her mouth to say something\\n\\nCS12_4510:\\n The eye on her tongue looks at you. It's a hesitation. There's a lot of eyes here.\\n\\nIlMaximuslI_9218:\\n if you accept love me not just the version you not just the vision of me version only exists in your head if I take all of me I will be different. Still completely me. Just not what you know in its entirety.  It will be like  waking up from a dream and trying to remember that person.  On the tip of your tongue,\\n\\nJadePixie_7138:\\n no one's going to take my memories of her away from me. I- I can't tell. Can't  tell if this- who this is talking to me. If it's you. If it's- I\\n\\nIlMaximuslI_9218:\\n it's me.  It gets closer to you, but only with your permission.\\n\\nJadePixie_7138:\\n don't know that. I don't know what's going on. I came here for answers. I\\n\\nIlMaximuslI_9218:\\n And you're like very gently, very slowly to make sure that every inch is given permission.\\n\\nJadePixie_7138:\\n accept it.\\n\\nIlMaximuslI_9218:\\n I'm still here when you wake up and you think of that person.  The difference between who you dreamed of and who you see. But on a different scale, because it's what you see to what is, to what will be. I'll still be me, different but me. But there's still truths in that. I still don't lie. I'm still here for you. I still love you.  And with all three of those affirmations of those truths, they speak in ring in the way that Ezria is uniquely gifted in doing in her nen. You can still have doubts about if what's going on, whatever weirdness is happening, but you know this is Ezria's ability. This is this Ezria's truth.\\n\\nCS12_4510:\\n Love. It's true. I only think you ever doubted that what your patron felt when speaking with you was actual affection. Actual adoration. Actual motherhood.\\n\\nIlMaximuslI_9218:\\n So  as I am, as I'm about to be, or as you cast on me, will love you. I can't do anything else. It\\n\\nJadePixie_7138:\\n I need a moment. And I exit the mind dive. \\n\\nCS12_4510:\\n Asriya, Asriya had moles before. But those moles now, those liver spots, they have areas of a deeper black on the inside of them.\\n\\nJadePixie_7138:\\n Does Ezra look like she's still meditating? I\\n\\nIlMaximuslI_9218:\\n does. And there's that same weary smile, that same admission that loving you is all she can do, And that smile she had after that, where there was concern for you, but there was truth in what she was saying. There was vulnerability. I\\n\\nJadePixie_7138:\\n look over to Grey. \\n\\nCrux_4429:\\n There are significantly more. Well, actually, was this an instant mind dive or is there some time passing?\\n\\nJadePixie_7138:\\n Um,\\n\\nCS12_4510:\\n What's the difference? \\n\\nJadePixie_7138:\\n yeah, I guess it doesn't really matter. It's usually like only seconds. but um for you I think it's very mild  \\n\\nCrux_4429:\\n All righty.  Another Greyborn has been in the process of being born, as you look to her.\\n\\nIlMaximuslI_9218:\\n like to think it's been like well into the first minute, since the mind dive.\\n\\nJadePixie_7138:\\n I'll walk over what's happening to her  I need to know about the nature of what affected her in anim in no unclear terms\\n\\nCrux_4429:\\n This is not known to us. \\n\\nJadePixie_7138:\\n you have to know you were there for millennia you're the only person who could know\\n\\nCrux_4429:\\n When  she touched this one,  there was a connection.  From what I experienced and from what we have experienced of her, all we know for certain, she is on a journey. This realm that we have found ourselves in is uniquely exciting,  because precisely we  do not know  where the road will lead. I\\n\\nIlMaximuslI_9218:\\n Josh, you get a fucking point.\\n\\nCrux_4429:\\n don't think that's quite worthy, but okay.\\n\\nIlMaximuslI_9218:\\n I think so. But too bad.\\n\\nJadePixie_7138:\\n right\\n\\nCrux_4429:\\n That you're... to set your mind at ease is not within our power.  That belt that she set down next to you. Have you done anything with it?\\n\\nJadePixie_7138:\\n oh uh oh\\n\\nCrux_4429:\\n No, not you,  Ezra. \\n\\nIlMaximuslI_9218:\\n I don't think the belt's there anymore.\\n\\nCrux_4429:\\n Okay.\\n\\nIlMaximuslI_9218:\\n You probably saw it, uh, join with the flame above the bead of white hot, maybe still, uh, that she took from her chest before the eye even appeared.\\n\\nCrux_4429:\\n Grey goes...  oh, go ahead.\\n\\nIlMaximuslI_9218:\\n And I was just gonna say, uh, cause the idea was finally like actually making thought, Uh, that the flame begins to shift in those prismatic hues. Whatever this is, is affected. Chaos matter is changing around its very nature.\\n\\nCrux_4429:\\n Grey will   get up and follows on Earth and sit down next to you two once again. I don't\\n\\nJadePixie_7138:\\n so does it look like she has like several eyes outside of the mindscape too\\n\\nCS12_4510:\\n Oh yeah.\\n\\nIlMaximuslI_9218:\\n Oh yeah.\\n\\nCS12_4510:\\n She probably doesn't look quite as covered in hives as the eyes do.  She's probably not  bubbling those eyes out of her.\\n\\nIlMaximuslI_9218:\\n I think it's pretty\\n\\nCS12_4510:\\n Hmm. Have the eyes begun to... Disattach from you because there's no longer room for them to be?\\n\\nIlMaximuslI_9218:\\n symmetrical. Mm. They become like spheres, uh, orbiting around her as they need to move. She remains like that. Eyes aren't opening yet.\\n\\nCS12_4510:\\n Isn't this clearly a monster? Swarm of monsters, maybe even?\\n\\nCrux_4429:\\n know where you would find the clarity in that.\\n\\nCS12_4510:\\n Clarity. What clarity? \\n\\nCrux_4429:\\n You asked if... you asked if isn't this clearly a monster? I was I don't see any clarity there.\\n\\nJadePixie_7138:\\n I think Zunnirth is thinking about how Ezio was influenced by Anom, that she seemed to be not in good spirits since returning from Anom and that what, what use is there in having this Hatsu if she's not able to protect someone from those outward influences. And I think Zunnirth is in this mindset of, no, I need to use my Hatsu Because Ezio was clearly distressed and we were outside of Anom and I had to have, he's thinking about how she has to have a confidence in her own ability that it will work. And that there's a reason that Ezio and her had a connection at all. And that can be, you know, having that accurate reflection of her spontaneity, I suppose. The only thing is, is that she just needs to make sure which of the part, which of the part of Ezio is the one that reminds her of her patron. Because if it, if that's coming from wanting to use her Hatsu, then that could change things. That could change how she feels. Oh, no, if there's an answer to that or not.\\n\\nIlMaximuslI_9218:\\n Well, I certainly don't have one.\\n\\nJadePixie_7138:\\n Vice, is there an answer to that? What the fuck? Why is Zert the one there? \\n\\nIlMaximuslI_9218:\\n Oh.\\n\\nJadePixie_7138:\\n Why is Zert the one there?\\n\\nCS12_4510:\\n Oh, cause somebody needs to talk a little bit.\\n\\nJadePixie_7138:\\n Is Zert the one actually for real there?\\n\\nCS12_4510:\\n I was wondering if you would see him\\n\\nIlMaximuslI_9218:\\n Oh\\n\\nCS12_4510:\\n because, you know, he wasn't going to announce himself.\\n\\nJadePixie_7138:\\n Well, I'm like sitting down to like try to reconnect with Ezria and I see Zirthmon there and I pull Ezria away from him protectively as if expecting him to strike.  \\n\\nCS12_4510:\\n He's already looking where you recoil away from, and he's just looking at you, Zithrath. You specifically. He's ignoring Ezria.\\n\\nJadePixie_7138:\\n What do you want? No.\\n\\nCS12_4510:\\n Are you all-knowing? Do\\n\\nJadePixie_7138:\\n No.\\n\\nCS12_4510:\\n you believe yourself to know all of Ezria?  Then how could you make a right choice?\\n\\nJadePixie_7138:\\n What are you suggesting? That my son isn't truly my son? Is that what you're saying right now? Because I wouldn't use anything on her that I didn't use on my son.\\n\\nCS12_4510:\\n I'm saying that nothing can be known in completeness. Ezria does not know herself in completeness. Rey knows only what she doesn't know. I am a perfect example  of how, no matter how inward one looks, no matter how much one sees the flaws in what they've done, no matter what can be seen and what can be known, there is never and end  there is never a completion. Let's narrow that scope. Do you know if\\n\\nJadePixie_7138:\\n What\\n\\nCS12_4510:\\n Ezria,\\n\\nJadePixie_7138:\\n is the point? what is the point in you saying this to me if you're trying to convince me i'm not using my Hatsu\\n\\nCS12_4510:\\n he arrives closer to you? He didn't move. He's just standing closer to you, kind of in your personal space a little bit.\\n\\nJadePixie_7138:\\n yeah i i just look defiantly into his eyes\\n\\nCS12_4510:\\n Does Ezria trust you?\\n\\nJadePixie_7138:\\n yes\\n\\nCS12_4510:\\n Do we change because we love people?\\n\\nJadePixie_7138:\\n yes\\n\\nCS12_4510:\\n Is Ezria happy to change?\\n\\nJadePixie_7138:\\n she is \\n\\nCS12_4510:\\n Then she is happy for you to hold the brush.\\n\\nJadePixie_7138:\\n four to what\\n\\nCS12_4510:\\n She  steps back\\n\\nJadePixie_7138:\\n she like smiles a bit and just looks a little bit uh surprised to hear him say that  and i i hold Ezreal into an embrace as I will use my Hatsu on it and I'll mind dive.\\n\\nCS12_4510:\\n as your mind folds away into the place between the space. because Eartha Man speaks only in accepting that we are powerless. Can we accept the power do have?\\n\\nJadePixie_7138:\\n I don't know what that means.\\n\\nCS12_4510:\\n It means exactly what you just felt. And, uh, he interacts with Gray, but mostly because Gray is not privy to observation of whatever happens here. What happens here? Zunereth,\\n\\nJadePixie_7138:\\n Um, she mind dives and she speaks her intentions to Ezio and she says it's not about accepting, it's not about this refusal, it's not about refusal to accept um your changing nature. It's thinking, thinking about um how you were just moments ago and considering whether or not someone else was influencing that even if even if i'm wrong i know that it'll still be you because you'll just keep changing anyway she says because uh thank you sir the moon i don't \\n\\nIlMaximuslI_9218:\\n boy. I think there's a little more confidence this time when she, like, goes to, like, uh, cup your cheek.\\n\\nCS12_4510:\\n the eyes look at you.\\n\\nJadePixie_7138:\\n know huh sorry what were you gonna say\\n\\nIlMaximuslI_9218:\\n I was just going to ask, uh, does she succeed?\\n\\nJadePixie_7138:\\n um who succeeds\\n\\nIlMaximuslI_9218:\\n to like go up and hold you.\\n\\nJadePixie_7138:\\n oh yeah of course\\n\\nIlMaximuslI_9218:\\n Smiling as warm as she always does. Like sunshine on your face on a pleasant day. I will always live in your eyes whether you see me for what I would be or what I was. \\n\\nJadePixie_7138:\\n oh what was the first part of that sentence\\n\\nIlMaximuslI_9218:\\n I live in your eyes.  And there is just absolute love coming from all of her eyes and she accepts what you do with no worry about what happens next. Not a single doubt, not a single regret. Complete trust in you.   And you use your Hatsu?\\n\\nCrux_4429:\\n She paints you a new one. \\n\\nIlMaximuslI_9218:\\n Mmm. \\n\\nJadePixie_7138:\\n you might be a full asia inside and out\\n\\nCS12_4510:\\n You say to the mass of spinning eyes, I\\n\\nJadePixie_7138:\\n well i do and i\\n\\nCS12_4510:\\n know I'm\\n\\nJadePixie_7138:\\n and\\n\\nCS12_4510:\\n not being, since I'm not being instance here, you're just like, that is touching because of the nature. \\n\\nJadePixie_7138:\\n my love for you feels stalker  even through\\n\\nIlMaximuslI_9218:\\n How do\\n\\nJadePixie_7138:\\n what we've been through and  I feel stalker.\\n\\nIlMaximuslI_9218:\\n you... What Ezria do you open your eyes to before Anem? Or something in between? How do you paint? I'm guessing she just has like the regular, you know, two eyes.\\n\\nJadePixie_7138:\\n Yeah,\\n\\nIlMaximuslI_9218:\\n Put those back down.\\n\\nJadePixie_7138:\\n it'll be a very rigorous  sensation of vibrations and the painting that results from it is the painting of Ezria as she was before we went to Annum.\\n\\nCS12_4510:\\n Beautiful night of stars.\\n\\nJadePixie_7138:\\n She'll have made sure that your memories are there perhaps if she can find the whatever thing that you saw in Anom. If not, then she may just have you forget Anom. I don't know. I guess I should be the one to know, I suppose, since it's my Hatsu. \\n\\nIlMaximuslI_9218:\\n Indeed.\\n\\nCS12_4510:\\n Errr.\\n\\nIlMaximuslI_9218:\\n Complete trust. \\n\\nJadePixie_7138:\\n Um, yeah. You are physically the same as you were before Anom. You have most of your memories of And um, but there are some things that are not kept and it's um, I think that she's probably just going to I suppose or just restore. Look, I don't know. I don't want to say what Ezra does or doesn't Remember? I'm only just like well, it was something with her mind that did this. So\\n\\nIlMaximuslI_9218:\\n The parts that gave her such potent showing, far realm influence. Hmmm.\\n\\nJadePixie_7138:\\n yeah, um, okay I think I think what Zunath can remove is like that you know how you have that mental imagery of like a memory or a dream or something? she remembers she probably that part probably doesn't get recreated i suppose i\\n\\nIlMaximuslI_9218:\\n I\\n\\nJadePixie_7138:\\n don't know, bryce am i messing this up? is this not what you had in mind when i used anchaya?\\n\\nCS12_4510:\\n Um,\\n\\nJadePixie_7138:\\n please tell me if i'm just being like no you're out of bounds with your hot suit this opens all kinds of\\n\\nCS12_4510:\\n Edgia... Edgia's a special case. She's made of possibility. To be honest, there's nothing you really could do here.\\n\\nJadePixie_7138:\\n things. okay\\n\\nCrux_4429:\\n You can give her a nice disguise.\\n\\nJadePixie_7138:\\n no\\n\\nIlMaximuslI_9218:\\n don't know, is it time you mentioned that? Now you warm those ideas?\\n\\nJadePixie_7138:\\n okay okay thank you for like giving me the all clear yeah  um the the mental imagery of what she saw in anim that's just not there the emotional feeling of looking into infinity that's not there but the feeling of having gone to anim and like then like\\n\\nIlMaximuslI_9218:\\n Time she spent with you.\\n\\nJadePixie_7138:\\n during the time we spent the time we spent helping um  gray the time we spent knowing about the truth of animal that stuff's there\\n\\nIlMaximuslI_9218:\\n So all the moments about Anem where Zun-rith could see Ezria. or rather was capable of doing so.\\n\\nJadePixie_7138:\\n yes\\n\\nIlMaximuslI_9218:\\n Pity. And that is the Ezria that opens her eyes\\n\\nCS12_4510:\\n Yeah. There's all those eyes of flesh open, they, uh,  melt, really. Kind of like rain, but they dissolve, you know, all the eyes floating about, all the eyes blooming on your body. I think as you, uh, glows over into water and the water as it hits the ground turns into sand, there are little flares of sharktroof's turquoise energy. little auroras rippling outwards like a like the most terrifying fireworks show\\n\\nJadePixie_7138:\\n um this is like mentally happening or like physically\\n\\nIlMaximuslI_9218:\\n physically.\\n\\nCS12_4510:\\n physically happening\\n\\nJadePixie_7138:\\n happening\\n\\nIlMaximuslI_9218:\\n Very physical.\\n\\nCS12_4510:\\n as what happened didn't as Ezreal simply walks  out of the tower, kind of emerging from the crowd of Greyborn, because\\n\\nJadePixie_7138:\\n why is her name isvia\\n\\nCS12_4510:\\n it was at \\n\\nIlMaximuslI_9218:\\n Amazing.  Um, well that was a\\n\\nJadePixie_7138:\\n uh\\n\\nIlMaximuslI_9218:\\n weird talk. She kinda like just looks around like, uh, yeah, what's uh, what's,\\n\\nJadePixie_7138:\\n is there someone still there\\n\\nCS12_4510:\\n Zirthamond Yells. The only time you've heard him yell or speak in any sort of wide voice, not Edrea, but Zirthamond, no,\\n\\nJadePixie_7138:\\n not at edu because of gray did gray do something.\\n\\nCS12_4510:\\n no, no, Grey didn't do anything. Um, Zirthamond Yells. It's the first time you've ever heard anything like this. Zynareth. It's the first time you've heard anything like this, Isaiah.\\n\\nIlMaximuslI_9218:\\n yeah, what the?\\n\\nCS12_4510:\\n But, what he yells is, Show me ten.\\n\\nIlMaximuslI_9218:\\n And is put up.\\n\\nCS12_4510:\\n He wasn't there, obviously.\\n\\nIlMaximuslI_9218:\\n Eyes, uh, start to dart to her left side and she shuts, uh, she starts turning. Like, uh, getting ready for if there's another one that comes.\\n\\nCS12_4510:\\n He's only silent. I\\n\\nIlMaximuslI_9218:\\n Okay, so what's that about? Usually this is just test me like out of nowhere. been decades since he's even tried to hit me. Now's when I was training. Um,\\n\\nJadePixie_7138:\\n I'm\\n\\nIlMaximuslI_9218:\\n you okay, Zynareth? She like walks up like, um, how are you looking? I imagine relieved to see her.\\n\\nJadePixie_7138:\\n relieved, but also just like that fireiness of her is just a little bit dull, dulled because of just the emotional, uh, state that she'd been in of just like panicking to try and help you. So she's a bit like emotionally raw and she comes over to hug you like you just, um, but that That sort of hug that somebody has, like, as if, like, something terrible has happened.\\n\\nIlMaximuslI_9218:\\n Hey, hey, I'm here. Glad to be here. \\n\\nCrux_4429:\\n How wonderfully unexpected.\\n\\nIlMaximuslI_9218:\\n Oh, uh, Grey. Um, as she's like very much holding Zynareth like as tightly as she can. Just sort of peaks and sees Grey right there. And Ezreal will uh keep holding your hand after the embrace as we turn to Grey.\\n\\nJadePixie_7138:\\n Yeah, likewise. Um, what were you talking to Zirthimon about? Ah, crap. This is a mean question at last. You guys haven't gotten to know more about conversation yet.\\n\\nCS12_4510:\\n mean, conversation's fairly simple.\\n\\nJadePixie_7138:\\n Okay.\\n\\nCS12_4510:\\n What do you see?\\n\\nCrux_4429:\\n He imparted to me, or he imparted to us this realms ideas of observation. What is perceived?\\n\\nIlMaximuslI_9218:\\n Well, I guess it's uh... I guess he's very passionate about that or something because he tested me just through all of that I'm a little confused. Uh,\\n\\nCrux_4429:\\n Are you without memory?\\n\\nIlMaximuslI_9218:\\n no, no, um, nothing like that. Just um, something's a little different but\\n\\nJadePixie_7138:\\n I used my hot suit on you, Ezria.\\n\\nIlMaximuslI_9218:\\n oh, okay Trust you. Smiles warmly at you like no, I'm you will always have my support.\\n\\nJadePixie_7138:\\n Um, he may have just been testing to see that, uh, that your nun made it back alright.\\n\\nIlMaximuslI_9218:\\n Okay I guess it's cool that he tested me I mean I am like his first pupil in who knows how long learn things from him and then you know to be my own person.\\n\\nJadePixie_7138:\\n It shows that he still cares about your success. \\n\\nIlMaximuslI_9218:\\n Or perhaps it was just the Zerthenman thing to do. I appreciate it equally, anyway. Great! Uh, I guess the next thing we really need to work on is what is with all the chateaus, and what is our plan to, you know, get you out of here? We learned a few things from, uh, Miley, um, when she asked. And she will explain what was said last session,   how you would probably get real beat up in this certain way. \\n\\nCrux_4429:\\n The\\n\\nIlMaximuslI_9218:\\n Not physically.\\n\\nCrux_4429:\\n echoes that I sent,  or that we sent with you have informed me.  us. Damn it, Carter and I thought it would be to change  my, my, what's it called?\\n\\nCS12_4510:\\n Pronouns?\\n\\nCrux_4429:\\n Singular? Well, like,\\n\\nCS12_4510:\\n It is pronouns!\\n\\nCrux_4429:\\n plural tense? Singular or plural? Yeah.  The echoes that we've sent have informed us of what was learned.\\n\\nIlMaximuslI_9218:\\n So why are you making a bunch of echoes\\n\\nCrux_4429:\\n You had requested that we provide you with our\\n\\nIlMaximuslI_9218:\\n oh he did okay i suppose that's an understandable difference um i was completely fine with just having your um selves as uh just the singular body or you know the ones that you'd produce if they also shared the same thoughts um this is weird uh\\n\\nCrux_4429:\\n faces. She\\n\\nIlMaximuslI_9218:\\n all right yes um but i appreciate\\n\\nCrux_4429:\\n steps forward a little assertively. This one would like to touch you.\\n\\nIlMaximuslI_9218:\\n uh sure yes he like reaches her hand out like  all right\\n\\nCrux_4429:\\n This one questions your knowledge of the importance of the request.\\n\\nIlMaximuslI_9218:\\n she just like uh finish closes the distance\\n\\nCrux_4429:\\n You reach out and you touch Gray.\\n\\nIlMaximuslI_9218:\\n Mm-hmm. \\n\\nCrux_4429:\\n Okay. She wanted to melt her mind with you again to see what has changed to experience you again. I\\n\\nIlMaximuslI_9218:\\n Yeah, you don't see oh,\\n\\nCrux_4429:\\n imagine, this is more of a question for Bryce actually, I imagine that the story is still very much the same, just alleviated.\\n\\nCS12_4510:\\n Your soul is burning pits.  Body is  of you, in a way. See the identity that can be shaped, you see the identity that has been shaped, you see the shaping of being.\\n\\nCrux_4429:\\n So less sun priming to explode and  more a part of a, or a small part of a greater whole. \\n\\nCS12_4510:\\n You don't feel such powerful ribbons and rivulets of energy. There's very little flux here.  What is is of the self  potential, but very little flux.  That flux could be just somewhere else.\\n\\nCrux_4429:\\n And then from Ezio's perspective, making contact with Gray,  there's just a sense of connection, a very intimate sense of connection, where, and this is probably something that you're already kind of used to, where there's  the illusion of separation.\\n\\nIlMaximuslI_9218:\\n mmm\\n\\nCrux_4429:\\n So like, that illusion kind of erodes with physical contact and the sense of separation between us kind of falls away. And you get some insight into Grey, but it's chaotic. There's a lot within her.\\n\\nIlMaximuslI_9218:\\n indeed, but she's good at shaping around chaos\\n\\nCrux_4429:\\n But  you can certainly try if you want to  try to figure out what this one is apart from the whole.\\n\\nIlMaximuslI_9218:\\n What that be?\\n\\nCrux_4429:\\n Well, what do you do to try?\\n\\nIlMaximuslI_9218:\\n Um, I think as like there's all these kayak thoughts She just thinks of it as you know potential use or the potential with all the use together yourself and just sort of like, you know Mostly just moves around to yeah, see what gray is of and making sure to try and be like a bit safe about it\\n\\nCrux_4429:\\n As you concoct this plan, you simultaneously feel yourself dying away from it.  The idea of making a plan is very distasteful to Grey. And so she withdraws from your contact  \\n\\nIlMaximuslI_9218:\\n apologize \\n\\nCrux_4429:\\n and remarks, Unexpected, wonderfully unexpected,\\n\\nIlMaximuslI_9218:\\n Maybe I'll get better at reading you. I appreciate it\\n\\nJadePixie_7138:\\n what is unexpected? \\n\\nCrux_4429:\\n everything that has occurred within these minutes.\\n\\nCS12_4510:\\n Good.\\n\\nIlMaximuslI_9218:\\n Oh, yep, that is true. Ahh.\\n\\nJadePixie_7138:\\n um,  that's a good thing as far as I'm concerned\\n\\nIlMaximuslI_9218:\\n Ah, yes.  Well, um, \\n\\nCrux_4429:\\n Your optimism is welcome.\\n\\nIlMaximuslI_9218:\\n thank you. It's something I've managed to hold onto.\\n\\nJadePixie_7138:\\n more to the matter of hand here\\n\\nIlMaximuslI_9218:\\n Yes.\\n\\nJadePixie_7138:\\n oh, these people, are they... are they souls?  I have some insight into your nature, thanks to you mm, well, she goes by Lee now\\n\\nIlMaximuslI_9218:\\n Yes.\\n\\nCrux_4429:\\n That you can, you feel actually a psychic pressure kind of build as the network between them and her  fires with intensity and flurry. Actually, Zynarith, you have this nice little curse where you can overhear telepathic communications, huh?\\n\\nCS12_4510:\\n Yep,\\n\\nJadePixie_7138:\\n yeah, \\n\\nCrux_4429:\\n So they deliberate amongst themselves soul, concept of soul. What is known? Soul is essence. Essence is what is. What we are. We all are. Is the answer yes? The answer must be yes.  But what is certain?\\n\\nCS12_4510:\\n the intent of a question is important.  \\n\\nCrux_4429:\\n They deliberate about why you ask. They deliberate about what it means  to answer.\\n\\nJadePixie_7138:\\n uh, Zina just cuts in before you  are able to finish that thought and she says, uh, I know that you are made of many souls   not just Reylas, but people from Anumba,  or those who have been trapped there, uh, congealed to a form  that's my understanding of the situation.\\n\\nCrux_4429:\\n These newborns deliberate again, is this the truth? Is this the seed made of many? This does not sound truth. We are one.\\n\\nJadePixie_7138:\\n And, it might feel odd to say that, because you've spent so long as you are now, um, but there could be a consideration that, what with all these, uh, people here, they may be in need of souls, souls that could be detangled? \\n\\nCrux_4429:\\n There's a little wave of, what's the word, discomfort, anxiety, as  Ray asks for clarification about what you mean. People in need of souls? Do you intend to sacrifice,\\n\\nJadePixie_7138:\\n no,\\n\\nCrux_4429:\\n sell?\\n\\nJadePixie_7138:\\n not at all.\\n\\nIlMaximuslI_9218:\\n No. No! Nothing like that, ever.\\n\\nJadePixie_7138:\\n that sort of thing is out of the question no matter what. what i more refer to is disentangling of the many souls that make up yourself into, um, oh no, \\n\\nCrux_4429:\\n Now there's an anxiety of separation.  \\n\\nJadePixie_7138:\\n disentangling them from each other so that they can perhaps populate these, um, other aspects, these people here. Uh,\\n\\nIlMaximuslI_9218:\\n It'll still be you. There wouldn't be separation. Not in a way that matters, because it's an illusion.  Right?\\n\\nCrux_4429:\\n Your ideas disquiet us.\\n\\nJadePixie_7138:\\n yeah, I mean, you have- you haven't even been out of Anom for a few whole days, and you spent millennia there. I don't imagine it would be a popular idea at the moment. I'm only asking for you to just remember what I said. And anyway, um, Isaiah asked you earlier, uh,  what- what is the uh creation of these for is there a purpose is it something you just feel like doing\\n\\nCrux_4429:\\n That was answered.\\n\\nIlMaximuslI_9218:\\n Uh, yeah. It was because I asked for faith, belief in me, and started generating them to, um, increase the numbers of those who believe in me. \\n\\nJadePixie_7138:\\n i don't see actually like genuinely smiles at that\\n\\nCrux_4429:\\n We have decided.\\n\\nJadePixie_7138:\\n it was very notable of you and what have you decided\\n\\nCrux_4429:\\n We are one. Our unity is important to us. We are grateful. You and to you and  to ask this to suck. if you ask this of us, we will not comply. \\n\\nIlMaximuslI_9218:\\n Or do you have to? \\n\\nJadePixie_7138:\\n yeah um\\n\\nIlMaximuslI_9218:\\n Well then, there is the trouble of getting you out of the Astral Sea without imploding in your mind.\\n\\nCrux_4429:\\n These,\\n\\nIlMaximuslI_9218:\\n Uh, \\n\\nCrux_4429:\\n these individuals, we have tested and we know that they can travel with you.\\n\\nIlMaximuslI_9218:\\n indeed.\\n\\nJadePixie_7138:\\n that's true\\n\\nCrux_4429:\\n To  escape this plane, she calls it a plane instead of a realm this time, to escape this plane is a goal  that we will look forward, that we will work toward.  Until that day comes, I would like you to carry these  people away,  these individuals away, and when they return, they will bring to me what they have experienced, or bring back to us what they have experienced.     And as was the means of escaping Anil, we are confident this will   reveal the means to escape the\\n\\nJadePixie_7138:\\n well it's decided then that sounds   um sounds like a plan sounds like a I'm on board. \\n\\nIlMaximuslI_9218:\\n And Gray.\\n\\nCrux_4429:\\n Astral.   You feel a flurry of deliberation among the people of which she basically just gave an order to as they decide whether or not they're okay with this. And some of them are like, Well, I mean, it's not a time limit.\\n\\nIlMaximuslI_9218:\\n Hmm. \\n\\nCS12_4510:\\n Lurry. It's a good word for this.\\n\\nCrux_4429:\\n What were you about to say, Ezra?\\n\\nIlMaximuslI_9218:\\n Oh, um, while we are going to be in a war very soon here, it would be quite an effort, but perhaps that could be the timer? How long the war lasts?\\n\\nCrux_4429:\\n The timer for what?\\n\\nIlMaximuslI_9218:\\n Is them all returning, giving you what they know? Or would it be smaller timers, like once every 10 days, which is a cycle we'll tell you how it works?  \\n\\nCrux_4429:\\n They will decide.\\n\\nIlMaximuslI_9218:\\n fair enough  then i believe we are good to move forward then  and i will be able to visit gray so if you ever want to have a conversation just let me know \\n\\nCS12_4510:\\n We cannot have such traffic in, and we cannot have such traffic out. Thousands of individuals are not permitted to travel within, without, constantly, at their beck and call.\\n\\nJadePixie_7138:\\n Uhhhhh\\n\\nIlMaximuslI_9218:\\n i went to it all the time and i can do it myself now anyway i'm sure of it\\n\\nCS12_4510:\\n Yeah, not talking about you. \\n\\nIlMaximuslI_9218:\\n okay yeah she definitely sued whoops\\n\\nCrux_4429:\\n Is that Zarth'Amon trying to tell Gray off?\\n\\nCS12_4510:\\n No, it was call\\n\\nIlMaximuslI_9218:\\n let's call\\n\\nCS12_4510:\\n being like, what are you doing? You can't have channels constantly running in and running out. That's called get found out.     \\n\\nCrux_4429:\\n Then you would\\n\\nCS12_4510:\\n There are ways\\n\\nCrux_4429:\\n propose an alternative. \\n\\nCS12_4510:\\n to transmit information to this place that do not require the rejoining. I will show you the name and regard.\\n\\nIlMaximuslI_9218:\\n oh okay it is a lot it is useful\\n\\nCS12_4510:\\n It is as much as can be. \\n\\nCrux_4429:\\n I think Gray just drops the conversation entirely and walks away.\\n\\nIlMaximuslI_9218:\\n sorry to understand someone whose life is very different still i appreciate their health and then she like as we grabs zonneth's hand well um  how about to walk i just want to be in the moment with you she smiles\\n\\nJadePixie_7138:\\n She smiles back. It sounds perfect. \\n\\nCS12_4510:\\n That's our end of session to do to do. \\n\\nIlMaximuslI_9218:\\n that was our direction i was expecting at all uh\\n\\nCS12_4510:\\n No!\\n\\nIlMaximuslI_9218:\\n huh\\n\\nCS12_4510:\\n No bastard!  De-brailed everything I had planned.  Well, you didn't.\\n\\nCrux_4429:\\n All you\\n\\nCS12_4510:\\n We're still on that path, but you know, we got a flat tire.   \\n\\nCrux_4429:\\n to do is consider a far-realm infected object as the same as yourself. \\n\\nCS12_4510:\\n Couldn't just let her drink it.  \\n\\nJadePixie_7138:\\n I wasn't even... Yeah, well, yeah.\\n\\nCS12_4510:\\n All right. We solved the tumors. Zunereth, you've aged 10 years. \\n\\nJadePixie_7138:\\n I already marked it on my sheet. \\n\\nIlMaximuslI_9218:\\n no i mean at least that's like a little over uh what is it you age 118 16 oh yeah 116 so\\n\\nCS12_4510:\\n 16th.\\n\\nJadePixie_7138:\\n No, it's off my macbook.\\n\\nIlMaximuslI_9218:\\n it's like a  year and a half effectively for you\\n\\nCS12_4510:\\n Yeah, but it's actual 10 years.\\n\\nIlMaximuslI_9218:\\n oh i see\\n\\nCS12_4510:\\n No, it's actual 10 years because, I mean, she's only like that much older physically in like age and decrepitness, but she's lost 10 years of eventual lifespan, you know,  people died 10 years earlier, that is how it is. That doesn't really matter, you know, considering she's likely to not die of old age anyway. \\n\\nIlMaximuslI_9218:\\n oh no yeah\\n\\nCS12_4510:\\n That's, that's game guys.\\n\\nCrux_4429:\\n Thank you, Bryce. \\n\\nIlMaximuslI_9218:\\n thank you bryce thank you everyone that That got weird.  Loved it.\\n\\nJadePixie_7138:\\n Yeah, it did.\\n\\nCS12_4510:\\n Got weird, we can fast.\\n\\nJadePixie_7138:\\n And I was like, gosh, um, what a situation have we put in? Bryce, I think you know how to you know how to harm into me in this campaign \\n\\nCS12_4510:\\n Well, the purpose of horror like this is to create torment. And it's just the truth, as I spoke earlier in this session, that the, the, the, the evil of  cosmic horror is that it isn't evil.\\n\\nJadePixie_7138:\\n yeah\\n\\nCS12_4510:\\n You're just, your assumptions breaking down and being proven untrue, eroding every sense you thought you had, making you question everything and understand nothing, that is a problem, because it makes you understand how little you know. And it lets you know that the rules can change and that you don't actually know anything, that there's no right answer that you can make cause you don't fucking have any clue. I'm glad I was able to have Zirthamon just  yo up and just  \\n\\nJadePixie_7138:\\n thank you so much \\n\\nCS12_4510:\\n be like,\\n\\nJadePixie_7138:\\n for doing them\\n\\nCS12_4510:\\n dick philosophy in the dick, you know?\\n\\nJadePixie_7138:\\n it was wonderful it\\n\\nCrux_4429:\\n I really like the line, well, uh, Ezria changes all the time, right? So I'm sure she'd be happy for you to hold the brush.\\n\\nIlMaximuslI_9218:\\n Yeah, that was beautiful. \\n\\nJadePixie_7138:\\n was beautiful i'm all\\n\\nIlMaximuslI_9218:\\n And you know, Esri's here? Holdin' your hand.\\n\\nCS12_4510:\\n Also, \\n\\nJadePixie_7138:\\n curious what would have happened if i hadn't used tatsu though oh no\\n\\nCS12_4510:\\n as you would have been an eyeball monster,\\n\\nCrux_4429:\\n Maile would have been really happy with the disguise.  Not what I expected, but, um, you know, I think it works. \\n\\nCS12_4510:\\n as you would have had a, uh, an aura of, an aura of total nightmares, which is the longer that it's like she sees from the eyes of all creatures near her. Like she sees all eyes.\\n\\nCrux_4429:\\n Uh, she\\n\\nCS12_4510:\\n Um,\\n\\nCrux_4429:\\n would have joined with the hive mind.\\n\\nCS12_4510:\\n you know, problem is, is that like,\\n\\nIlMaximuslI_9218:\\n Mmm.\\n\\nCS12_4510:\\n she also, like those eyes become her.\\n\\nJadePixie_7138:\\n other people's eyes become her   oh\\n\\nCS12_4510:\\n They just like pop themselves out of their skulls somewhere to follow.\\n\\nJadePixie_7138:\\n so cursed\\n\\nCrux_4429:\\n Oh, I thought like people,\\n\\nCS12_4510:\\n Yeah.\\n\\nCrux_4429:\\n like as she looks through people's eyes, they become her and then she just self replicates and suddenly, uh, uh, Khaestus doesn't stand a fucking chance. How will you do against the might of 10,000 Ezrias?\\n\\nCS12_4510:\\n And that's my eyes. \\n\\nCrux_4429:\\n 10,000 eyes in the air.\\n\\nCS12_4510:\\n Eyes.\\n\\nJadePixie_7138:\\n okay  i feel like i've made a good choice then. \\n\\nCrux_4429:\\n Oh, what's\\n\\nIlMaximuslI_9218:\\n That was a real life DC-25. \\n\\nCrux_4429:\\n going on?\\n\\nJadePixie_7138:\\n What was a DC-25?\\n\\nIlMaximuslI_9218:\\n Just letting you making that choice. Like, which choice is correct?\\n\\nJadePixie_7138:\\n Yeah,   \\n\\nCS12_4510:\\n Um, I highly recommend that we let Second Hand Scribe go for the night. Devil.\\n\\nJadePixie_7138:\\n okay.\\n\\nCrux_4429:\\n Get out of here.\\n\\nIlMaximuslI_9218:\\n indeed\\n\\nCrux_4429:\\n Get out of here, Craig.  \\n\\nJadePixie_7138:\\n You've listened for long enough.\""
            ]
          },
          "execution_count": 5,
          "metadata": {},
          "output_type": "execute_result"
        }
      ],
      "source": [
        "# display file content\n",
        "FileContent "
      ]
    },
    {
      "cell_type": "code",
      "execution_count": 6,
      "metadata": {
        "colab": {
          "base_uri": "https://localhost:8080/",
          "height": 34
        },
        "id": "iJ3crA_B7dCu",
        "outputId": "749d70eb-e843-405a-e969-b1ca24033a36"
      },
      "outputs": [
        {
          "data": {
            "text/plain": [
              "106689"
            ]
          },
          "execution_count": 6,
          "metadata": {},
          "output_type": "execute_result"
        }
      ],
      "source": [
        "# total characters in the file\n",
        "len(FileContent) "
      ]
    },
    {
      "cell_type": "markdown",
      "metadata": {
        "id": "flBNsq8NfY0Y"
      },
      "source": [
        "# Load the Model and Tokenizer"
      ]
    },
    {
      "cell_type": "code",
      "execution_count": 7,
      "metadata": {
        "colab": {
          "base_uri": "https://localhost:8080/",
          "height": 17
        },
        "id": "By4ADnD40Zmt",
        "outputId": "91260147-98ed-4377-d94e-7a7eaf093bc6"
      },
      "outputs": [
        {
          "data": {
            "application/vnd.jupyter.widget-view+json": {
              "model_id": "cfc6453441a841cca98cc2f793cd3a4e",
              "version_major": 2,
              "version_minor": 0
            },
            "text/plain": [
              "Downloading:   0%|          | 0.00/26.0 [00:00<?, ?B/s]"
            ]
          },
          "metadata": {},
          "output_type": "display_data"
        },
        {
          "name": "stderr",
          "output_type": "stream",
          "text": [
            "c:\\Python\\3.10.8\\lib\\site-packages\\huggingface_hub\\file_download.py:127: UserWarning: `huggingface_hub` cache-system uses symlinks by default to efficiently store duplicated files but your machine does not support them in C:\\Users\\Crux\\.cache\\huggingface\\hub. Caching files will still work but in a degraded version that might require more space on your disk. This warning can be disabled by setting the `HF_HUB_DISABLE_SYMLINKS_WARNING` environment variable. For more details, see https://huggingface.co/docs/huggingface_hub/how-to-cache#limitations.\n",
            "To support symlinks on Windows, you either need to activate Developer Mode or to run Python as an administrator. In order to see activate developer mode, see this article: https://docs.microsoft.com/en-us/windows/apps/get-started/enable-your-device-for-development\n",
            "  warnings.warn(message)\n"
          ]
        },
        {
          "data": {
            "application/vnd.jupyter.widget-view+json": {
              "model_id": "8c0223b0269847fda3008e2aab838488",
              "version_major": 2,
              "version_minor": 0
            },
            "text/plain": [
              "Downloading:   0%|          | 0.00/1.80k [00:00<?, ?B/s]"
            ]
          },
          "metadata": {},
          "output_type": "display_data"
        },
        {
          "data": {
            "application/vnd.jupyter.widget-view+json": {
              "model_id": "2c116ea62f1044918014e8a2fe223d41",
              "version_major": 2,
              "version_minor": 0
            },
            "text/plain": [
              "Downloading:   0%|          | 0.00/899k [00:00<?, ?B/s]"
            ]
          },
          "metadata": {},
          "output_type": "display_data"
        },
        {
          "data": {
            "application/vnd.jupyter.widget-view+json": {
              "model_id": "9ab171f8caa34539a8f8b982c8b6ebb8",
              "version_major": 2,
              "version_minor": 0
            },
            "text/plain": [
              "Downloading:   0%|          | 0.00/456k [00:00<?, ?B/s]"
            ]
          },
          "metadata": {},
          "output_type": "display_data"
        },
        {
          "data": {
            "application/vnd.jupyter.widget-view+json": {
              "model_id": "bc0c704b65924e13a098f1dafd4ebda1",
              "version_major": 2,
              "version_minor": 0
            },
            "text/plain": [
              "Downloading:   0%|          | 0.00/1.22G [00:00<?, ?B/s]"
            ]
          },
          "metadata": {},
          "output_type": "display_data"
        }
      ],
      "source": [
        "# import and initialize the tokenizer and model from the checkpoint\n",
        "from transformers import AutoTokenizer, AutoModelForSeq2SeqLM\n",
        "\n",
        "checkpoint = \"sshleifer/distilbart-cnn-12-6\"\n",
        "\n",
        "tokenizer = AutoTokenizer.from_pretrained(checkpoint)\n",
        "model = AutoModelForSeq2SeqLM.from_pretrained(checkpoint)"
      ]
    },
    {
      "cell_type": "markdown",
      "metadata": {
        "id": "WKVut2I8ffeG"
      },
      "source": [
        "# Some model statistics"
      ]
    },
    {
      "cell_type": "code",
      "execution_count": 8,
      "metadata": {
        "colab": {
          "base_uri": "https://localhost:8080/",
          "height": 34
        },
        "id": "kfeTQ3u_0_nc",
        "outputId": "7641821c-905c-4042-c1a7-5aca2531dc2f"
      },
      "outputs": [
        {
          "data": {
            "text/plain": [
              "1024"
            ]
          },
          "execution_count": 8,
          "metadata": {},
          "output_type": "execute_result"
        }
      ],
      "source": [
        "# max tokens including the special tokens\n",
        "tokenizer.model_max_length "
      ]
    },
    {
      "cell_type": "code",
      "execution_count": 9,
      "metadata": {
        "colab": {
          "base_uri": "https://localhost:8080/",
          "height": 34
        },
        "id": "u_faVn_JS5NV",
        "outputId": "e88c8fa6-f154-4ab1-e450-7a59870d8430"
      },
      "outputs": [
        {
          "data": {
            "text/plain": [
              "1022"
            ]
          },
          "execution_count": 9,
          "metadata": {},
          "output_type": "execute_result"
        }
      ],
      "source": [
        "# max tokens excluding the special tokens\n",
        "tokenizer.max_len_single_sentence "
      ]
    },
    {
      "cell_type": "code",
      "execution_count": 10,
      "metadata": {
        "colab": {
          "base_uri": "https://localhost:8080/",
          "height": 34
        },
        "id": "jki18a4yNyCw",
        "outputId": "80fb8260-4cf4-41bc-e81c-14183e46e647"
      },
      "outputs": [
        {
          "data": {
            "text/plain": [
              "2"
            ]
          },
          "execution_count": 10,
          "metadata": {},
          "output_type": "execute_result"
        }
      ],
      "source": [
        "# number of special tokens\n",
        "tokenizer.num_special_tokens_to_add() "
      ]
    },
    {
      "cell_type": "markdown",
      "metadata": {
        "id": "kubwFM6MX7rR"
      },
      "source": [
        "# Convert file content to sentences"
      ]
    },
    {
      "cell_type": "code",
      "execution_count": 11,
      "metadata": {
        "colab": {
          "base_uri": "https://localhost:8080/",
          "height": 51
        },
        "id": "Y41E2n-BXjRr",
        "outputId": "2910c1ba-dcf1-4df2-fc1e-595f3442453a"
      },
      "outputs": [
        {
          "name": "stderr",
          "output_type": "stream",
          "text": [
            "[nltk_data] Downloading package punkt to\n",
            "[nltk_data]     C:\\Users\\Crux\\AppData\\Roaming\\nltk_data...\n",
            "[nltk_data]   Package punkt is already up-to-date!\n"
          ]
        }
      ],
      "source": [
        "# extract the sentences from the document\n",
        "import nltk\n",
        "nltk.download('punkt')\n",
        "sentences = nltk.tokenize.sent_tokenize(FileContent)"
      ]
    },
    {
      "cell_type": "code",
      "execution_count": 12,
      "metadata": {
        "colab": {
          "base_uri": "https://localhost:8080/",
          "height": 34
        },
        "id": "S7pHJ31xbJ6O",
        "outputId": "f2305363-e5cd-4b3a-9097-2743b3784040"
      },
      "outputs": [
        {
          "data": {
            "text/plain": [
              "148"
            ]
          },
          "execution_count": 12,
          "metadata": {},
          "output_type": "execute_result"
        }
      ],
      "source": [
        "# find the max tokens in the longest sentence\n",
        "max([len(tokenizer.tokenize(sentence)) for sentence in sentences])"
      ]
    },
    {
      "cell_type": "markdown",
      "metadata": {
        "id": "5amp-uoNezvV"
      },
      "source": [
        "# Create the chunks"
      ]
    },
    {
      "cell_type": "code",
      "execution_count": 13,
      "metadata": {
        "colab": {
          "base_uri": "https://localhost:8080/",
          "height": 34
        },
        "id": "SO-QPuAoY6BH",
        "outputId": "63b2c558-194f-4474-95a4-8d217aaefecb"
      },
      "outputs": [
        {
          "data": {
            "text/plain": [
              "31"
            ]
          },
          "execution_count": 13,
          "metadata": {},
          "output_type": "execute_result"
        }
      ],
      "source": [
        "# initialize\n",
        "length = 0\n",
        "chunk = \"\"\n",
        "chunks = []\n",
        "count = -1\n",
        "for sentence in sentences:\n",
        "  count += 1\n",
        "  combined_length = len(tokenizer.tokenize(sentence)) + length # add the no. of sentence tokens to the length counter\n",
        "\n",
        "  if combined_length  <= tokenizer.max_len_single_sentence: # if it doesn't exceed\n",
        "    chunk += sentence + \" \" # add the sentence to the chunk\n",
        "    length = combined_length # update the length counter\n",
        "\n",
        "    # if it is the last sentence\n",
        "    if count == len(sentences) - 1:\n",
        "      chunks.append(chunk.strip()) # save the chunk\n",
        "    \n",
        "  else: \n",
        "    chunks.append(chunk.strip()) # save the chunk\n",
        "    \n",
        "    # reset \n",
        "    length = 0 \n",
        "    chunk = \"\"\n",
        "\n",
        "    # take care of the overflow sentence\n",
        "    chunk += sentence + \" \"\n",
        "    length = len(tokenizer.tokenize(sentence))\n",
        "len(chunks)"
      ]
    },
    {
      "cell_type": "markdown",
      "metadata": {
        "id": "b3MjwOU4-vWZ"
      },
      "source": [
        "# Some checks"
      ]
    },
    {
      "cell_type": "code",
      "execution_count": 14,
      "metadata": {
        "colab": {
          "base_uri": "https://localhost:8080/",
          "height": 34
        },
        "id": "lANWYPQsa7mV",
        "outputId": "e6a8426e-9fb9-4ac6-871e-17e3c7742e12"
      },
      "outputs": [
        {
          "data": {
            "text/plain": [
              "[990,\n",
              " 996,\n",
              " 1012,\n",
              " 995,\n",
              " 995,\n",
              " 1010,\n",
              " 995,\n",
              " 1003,\n",
              " 997,\n",
              " 1018,\n",
              " 1005,\n",
              " 992,\n",
              " 1013,\n",
              " 998,\n",
              " 1000,\n",
              " 992,\n",
              " 1013,\n",
              " 983,\n",
              " 1001,\n",
              " 1005,\n",
              " 991,\n",
              " 1003,\n",
              " 1006,\n",
              " 1003,\n",
              " 980,\n",
              " 1012,\n",
              " 1013,\n",
              " 991,\n",
              " 1010,\n",
              " 1000,\n",
              " 976]"
            ]
          },
          "execution_count": 14,
          "metadata": {},
          "output_type": "execute_result"
        }
      ],
      "source": [
        "[len(tokenizer.tokenize(c)) for c in chunks]"
      ]
    },
    {
      "cell_type": "code",
      "execution_count": 57,
      "metadata": {
        "colab": {
          "base_uri": "https://localhost:8080/",
          "height": 34
        },
        "id": "0tQe2jJya_HV",
        "outputId": "9ce43d2e-76a1-4d2f-cc93-1edb0a4a7641"
      },
      "outputs": [
        {
          "data": {
            "text/html": [
              "\n",
              "  <style>\n",
              "    pre {\n",
              "        white-space: pre-wrap;\n",
              "    }\n",
              "  </style>\n",
              "  "
            ],
            "text/plain": [
              "<IPython.core.display.HTML object>"
            ]
          },
          "metadata": {},
          "output_type": "display_data"
        },
        {
          "data": {
            "text/html": [
              "\n",
              "  <style>\n",
              "    pre {\n",
              "        white-space: pre-wrap;\n",
              "    }\n",
              "  </style>\n",
              "  "
            ],
            "text/plain": [
              "<IPython.core.display.HTML object>"
            ]
          },
          "metadata": {},
          "output_type": "display_data"
        },
        {
          "data": {
            "text/plain": [
              "[1016, 986, 962, 1005, 1022, 990, 998, 1000, 1019, 578]"
            ]
          },
          "execution_count": 57,
          "metadata": {},
          "output_type": "execute_result"
        }
      ],
      "source": [
        "[len(tokenizer(c).input_ids) for c in chunks]"
      ]
    },
    {
      "cell_type": "markdown",
      "metadata": {
        "id": "el24gv0f-9DJ"
      },
      "source": [
        "## With special tokens added"
      ]
    },
    {
      "cell_type": "code",
      "execution_count": 50,
      "metadata": {
        "colab": {
          "base_uri": "https://localhost:8080/",
          "height": 34
        },
        "id": "Mq-tLbFtFYHR",
        "outputId": "c0306d10-4f97-4b59-9f96-e76e792c0327"
      },
      "outputs": [
        {
          "data": {
            "text/html": [
              "\n",
              "  <style>\n",
              "    pre {\n",
              "        white-space: pre-wrap;\n",
              "    }\n",
              "  </style>\n",
              "  "
            ],
            "text/plain": [
              "<IPython.core.display.HTML object>"
            ]
          },
          "metadata": {},
          "output_type": "display_data"
        },
        {
          "data": {
            "text/html": [
              "\n",
              "  <style>\n",
              "    pre {\n",
              "        white-space: pre-wrap;\n",
              "    }\n",
              "  </style>\n",
              "  "
            ],
            "text/plain": [
              "<IPython.core.display.HTML object>"
            ]
          },
          "metadata": {},
          "output_type": "display_data"
        },
        {
          "data": {
            "text/plain": [
              "9576"
            ]
          },
          "execution_count": 50,
          "metadata": {},
          "output_type": "execute_result"
        }
      ],
      "source": [
        "sum([len(tokenizer(c).input_ids) for c in chunks])"
      ]
    },
    {
      "cell_type": "code",
      "execution_count": 51,
      "metadata": {
        "colab": {
          "base_uri": "https://localhost:8080/",
          "height": 51
        },
        "id": "yokzuZmuGAQ_",
        "outputId": "a89486b0-8383-4195-ed95-4d5bf8663fb9"
      },
      "outputs": [
        {
          "data": {
            "text/html": [
              "\n",
              "  <style>\n",
              "    pre {\n",
              "        white-space: pre-wrap;\n",
              "    }\n",
              "  </style>\n",
              "  "
            ],
            "text/plain": [
              "<IPython.core.display.HTML object>"
            ]
          },
          "metadata": {},
          "output_type": "display_data"
        },
        {
          "data": {
            "text/html": [
              "\n",
              "  <style>\n",
              "    pre {\n",
              "        white-space: pre-wrap;\n",
              "    }\n",
              "  </style>\n",
              "  "
            ],
            "text/plain": [
              "<IPython.core.display.HTML object>"
            ]
          },
          "metadata": {},
          "output_type": "display_data"
        },
        {
          "name": "stderr",
          "output_type": "stream",
          "text": [
            "Token indices sequence length is longer than the specified maximum sequence length for this model (9561 > 1024). Running this sequence through the model will result in indexing errors\n"
          ]
        },
        {
          "data": {
            "text/plain": [
              "9561"
            ]
          },
          "execution_count": 51,
          "metadata": {},
          "output_type": "execute_result"
        }
      ],
      "source": [
        "len(tokenizer(FileContent).input_ids)"
      ]
    },
    {
      "cell_type": "markdown",
      "metadata": {
        "id": "qe0UKJZr-1Qt"
      },
      "source": [
        "## Without special tokens added"
      ]
    },
    {
      "cell_type": "code",
      "execution_count": 54,
      "metadata": {
        "colab": {
          "base_uri": "https://localhost:8080/",
          "height": 34
        },
        "id": "u1nynSGcFiSh",
        "outputId": "875cd7c4-9a5e-42b2-d166-bfac85c07188"
      },
      "outputs": [
        {
          "data": {
            "text/html": [
              "\n",
              "  <style>\n",
              "    pre {\n",
              "        white-space: pre-wrap;\n",
              "    }\n",
              "  </style>\n",
              "  "
            ],
            "text/plain": [
              "<IPython.core.display.HTML object>"
            ]
          },
          "metadata": {},
          "output_type": "display_data"
        },
        {
          "data": {
            "text/html": [
              "\n",
              "  <style>\n",
              "    pre {\n",
              "        white-space: pre-wrap;\n",
              "    }\n",
              "  </style>\n",
              "  "
            ],
            "text/plain": [
              "<IPython.core.display.HTML object>"
            ]
          },
          "metadata": {},
          "output_type": "display_data"
        },
        {
          "data": {
            "text/plain": [
              "9556"
            ]
          },
          "execution_count": 54,
          "metadata": {},
          "output_type": "execute_result"
        }
      ],
      "source": [
        "sum([len(tokenizer.tokenize(c)) for c in chunks])"
      ]
    },
    {
      "cell_type": "code",
      "execution_count": 55,
      "metadata": {
        "colab": {
          "base_uri": "https://localhost:8080/",
          "height": 34
        },
        "id": "JdnNz9D2GFAz",
        "outputId": "cde8df98-7ca1-40fa-894d-8c04312b2907"
      },
      "outputs": [
        {
          "data": {
            "text/html": [
              "\n",
              "  <style>\n",
              "    pre {\n",
              "        white-space: pre-wrap;\n",
              "    }\n",
              "  </style>\n",
              "  "
            ],
            "text/plain": [
              "<IPython.core.display.HTML object>"
            ]
          },
          "metadata": {},
          "output_type": "display_data"
        },
        {
          "data": {
            "text/html": [
              "\n",
              "  <style>\n",
              "    pre {\n",
              "        white-space: pre-wrap;\n",
              "    }\n",
              "  </style>\n",
              "  "
            ],
            "text/plain": [
              "<IPython.core.display.HTML object>"
            ]
          },
          "metadata": {},
          "output_type": "display_data"
        },
        {
          "data": {
            "text/plain": [
              "9559"
            ]
          },
          "execution_count": 55,
          "metadata": {},
          "output_type": "execute_result"
        }
      ],
      "source": [
        "len(tokenizer.tokenize(FileContent))"
      ]
    },
    {
      "cell_type": "markdown",
      "metadata": {
        "id": "ZPluCcpKgGTi"
      },
      "source": [
        "# Get the inputs"
      ]
    },
    {
      "cell_type": "code",
      "execution_count": 15,
      "metadata": {
        "colab": {
          "base_uri": "https://localhost:8080/",
          "height": 17
        },
        "id": "u98_-5RNhkEX",
        "outputId": "7d27f4c2-b22c-48ff-e14e-abc40f5ff54e"
      },
      "outputs": [],
      "source": [
        "# inputs to the model\n",
        "inputs = [tokenizer(chunk, return_tensors=\"pt\") for chunk in chunks]"
      ]
    },
    {
      "cell_type": "markdown",
      "metadata": {
        "id": "iKQKEdo8eakp"
      },
      "source": [
        "# Output"
      ]
    },
    {
      "cell_type": "code",
      "execution_count": 16,
      "metadata": {
        "colab": {
          "base_uri": "https://localhost:8080/",
          "height": 425
        },
        "id": "REi6Ua8ejZ71",
        "outputId": "9a24e0b4-decc-4c59-d726-40679fae693b"
      },
      "outputs": [
        {
          "name": "stderr",
          "output_type": "stream",
          "text": [
            "c:\\Python\\3.10.8\\lib\\site-packages\\transformers\\generation\\utils.py:1387: UserWarning: Neither `max_length` nor `max_new_tokens` has been set, `max_length` will default to 142 (`self.config.max_length`). Controlling `max_length` via the config is deprecated and `max_length` will be removed from the config in v5 of Transformers -- we recommend using `max_new_tokens` to control the maximum length of the generation.\n",
            "  warnings.warn(\n"
          ]
        },
        {
          "name": "stdout",
          "output_type": "stream",
          "text": [
            " JadePixie_7138: \"We've been gone from existence for the past slightly over a year. Ezreal's mind is just getting saw into infinity. Those memories cannot be deleted as of right now. So Ezreal has a virus and we have to run antivirus software at some point. We're gonna have to clear some things. I don't know how this happened. How did you delete Windows?\"\n",
            " \"Smeeple\" is back at the center of a new episode of the series. Chaya is doing flight training on a giant eagle. She introduces you to his great eagle friend who he rides around on and  you can honestly tell Vakumi that he is thinking about saying friend and then decides to say this is my, uh, this is, my, my mount. It's really cool. He's a very smart bird. It is the smartest bird, but giant eagles are damn smart.\n",
            " JadePixie: I just glare at this giant eagle that I'm having a silent conversation with. You hear Chaya say things in secret because of your advanced telepathy, where it says, uh, like, yeah, be nice. She's very angry, but she can be really nice if she's not angry. She's really, she will probably cut you in half if you say something mean. Jade: The only notable thing I would say is that you could have brought up the colorful birds up is that they're colorful.\n"
          ]
        },
        {
          "ename": "KeyboardInterrupt",
          "evalue": "",
          "output_type": "error",
          "traceback": [
            "\u001b[1;31m---------------------------------------------------------------------------\u001b[0m",
            "\u001b[1;31mKeyboardInterrupt\u001b[0m                         Traceback (most recent call last)",
            "\u001b[1;32m~\\AppData\\Local\\Temp\\ipykernel_12592\\2298384781.py\u001b[0m in \u001b[0;36m<cell line: 1>\u001b[1;34m()\u001b[0m\n\u001b[0;32m      1\u001b[0m \u001b[1;32mfor\u001b[0m \u001b[0minput\u001b[0m \u001b[1;32min\u001b[0m \u001b[0minputs\u001b[0m\u001b[1;33m:\u001b[0m\u001b[1;33m\u001b[0m\u001b[1;33m\u001b[0m\u001b[0m\n\u001b[1;32m----> 2\u001b[1;33m   \u001b[0moutput\u001b[0m \u001b[1;33m=\u001b[0m \u001b[0mmodel\u001b[0m\u001b[1;33m.\u001b[0m\u001b[0mgenerate\u001b[0m\u001b[1;33m(\u001b[0m\u001b[1;33m**\u001b[0m\u001b[0minput\u001b[0m\u001b[1;33m)\u001b[0m\u001b[1;33m\u001b[0m\u001b[1;33m\u001b[0m\u001b[0m\n\u001b[0m\u001b[0;32m      3\u001b[0m   \u001b[0mprint\u001b[0m\u001b[1;33m(\u001b[0m\u001b[0mtokenizer\u001b[0m\u001b[1;33m.\u001b[0m\u001b[0mdecode\u001b[0m\u001b[1;33m(\u001b[0m\u001b[1;33m*\u001b[0m\u001b[0moutput\u001b[0m\u001b[1;33m,\u001b[0m \u001b[0mskip_special_tokens\u001b[0m\u001b[1;33m=\u001b[0m\u001b[1;32mTrue\u001b[0m\u001b[1;33m)\u001b[0m\u001b[1;33m)\u001b[0m\u001b[1;33m\u001b[0m\u001b[1;33m\u001b[0m\u001b[0m\n",
            "\u001b[1;32mc:\\Python\\3.10.8\\lib\\site-packages\\torch\\autograd\\grad_mode.py\u001b[0m in \u001b[0;36mdecorate_context\u001b[1;34m(*args, **kwargs)\u001b[0m\n\u001b[0;32m     25\u001b[0m         \u001b[1;32mdef\u001b[0m \u001b[0mdecorate_context\u001b[0m\u001b[1;33m(\u001b[0m\u001b[1;33m*\u001b[0m\u001b[0margs\u001b[0m\u001b[1;33m,\u001b[0m \u001b[1;33m**\u001b[0m\u001b[0mkwargs\u001b[0m\u001b[1;33m)\u001b[0m\u001b[1;33m:\u001b[0m\u001b[1;33m\u001b[0m\u001b[1;33m\u001b[0m\u001b[0m\n\u001b[0;32m     26\u001b[0m             \u001b[1;32mwith\u001b[0m \u001b[0mself\u001b[0m\u001b[1;33m.\u001b[0m\u001b[0mclone\u001b[0m\u001b[1;33m(\u001b[0m\u001b[1;33m)\u001b[0m\u001b[1;33m:\u001b[0m\u001b[1;33m\u001b[0m\u001b[1;33m\u001b[0m\u001b[0m\n\u001b[1;32m---> 27\u001b[1;33m                 \u001b[1;32mreturn\u001b[0m \u001b[0mfunc\u001b[0m\u001b[1;33m(\u001b[0m\u001b[1;33m*\u001b[0m\u001b[0margs\u001b[0m\u001b[1;33m,\u001b[0m \u001b[1;33m**\u001b[0m\u001b[0mkwargs\u001b[0m\u001b[1;33m)\u001b[0m\u001b[1;33m\u001b[0m\u001b[1;33m\u001b[0m\u001b[0m\n\u001b[0m\u001b[0;32m     28\u001b[0m         \u001b[1;32mreturn\u001b[0m \u001b[0mcast\u001b[0m\u001b[1;33m(\u001b[0m\u001b[0mF\u001b[0m\u001b[1;33m,\u001b[0m \u001b[0mdecorate_context\u001b[0m\u001b[1;33m)\u001b[0m\u001b[1;33m\u001b[0m\u001b[1;33m\u001b[0m\u001b[0m\n\u001b[0;32m     29\u001b[0m \u001b[1;33m\u001b[0m\u001b[0m\n",
            "\u001b[1;32mc:\\Python\\3.10.8\\lib\\site-packages\\transformers\\generation\\utils.py\u001b[0m in \u001b[0;36mgenerate\u001b[1;34m(self, inputs, max_length, min_length, do_sample, early_stopping, num_beams, temperature, penalty_alpha, top_k, top_p, typical_p, repetition_penalty, bad_words_ids, force_words_ids, bos_token_id, pad_token_id, eos_token_id, length_penalty, no_repeat_ngram_size, encoder_no_repeat_ngram_size, num_return_sequences, max_time, max_new_tokens, decoder_start_token_id, use_cache, num_beam_groups, diversity_penalty, prefix_allowed_tokens_fn, logits_processor, renormalize_logits, stopping_criteria, constraints, output_attentions, output_hidden_states, output_scores, return_dict_in_generate, forced_bos_token_id, forced_eos_token_id, remove_invalid_values, synced_gpus, exponential_decay_length_penalty, suppress_tokens, begin_suppress_tokens, forced_decoder_ids, **model_kwargs)\u001b[0m\n\u001b[0;32m   1606\u001b[0m             )\n\u001b[0;32m   1607\u001b[0m             \u001b[1;31m# 12. run beam search\u001b[0m\u001b[1;33m\u001b[0m\u001b[1;33m\u001b[0m\u001b[0m\n\u001b[1;32m-> 1608\u001b[1;33m             return self.beam_search(\n\u001b[0m\u001b[0;32m   1609\u001b[0m                 \u001b[0minput_ids\u001b[0m\u001b[1;33m,\u001b[0m\u001b[1;33m\u001b[0m\u001b[1;33m\u001b[0m\u001b[0m\n\u001b[0;32m   1610\u001b[0m                 \u001b[0mbeam_scorer\u001b[0m\u001b[1;33m,\u001b[0m\u001b[1;33m\u001b[0m\u001b[1;33m\u001b[0m\u001b[0m\n",
            "\u001b[1;32mc:\\Python\\3.10.8\\lib\\site-packages\\transformers\\generation\\utils.py\u001b[0m in \u001b[0;36mbeam_search\u001b[1;34m(self, input_ids, beam_scorer, logits_processor, stopping_criteria, max_length, pad_token_id, eos_token_id, output_attentions, output_hidden_states, output_scores, return_dict_in_generate, synced_gpus, **model_kwargs)\u001b[0m\n\u001b[0;32m   2797\u001b[0m             \u001b[0mmodel_inputs\u001b[0m \u001b[1;33m=\u001b[0m \u001b[0mself\u001b[0m\u001b[1;33m.\u001b[0m\u001b[0mprepare_inputs_for_generation\u001b[0m\u001b[1;33m(\u001b[0m\u001b[0minput_ids\u001b[0m\u001b[1;33m,\u001b[0m \u001b[1;33m**\u001b[0m\u001b[0mmodel_kwargs\u001b[0m\u001b[1;33m)\u001b[0m\u001b[1;33m\u001b[0m\u001b[1;33m\u001b[0m\u001b[0m\n\u001b[0;32m   2798\u001b[0m \u001b[1;33m\u001b[0m\u001b[0m\n\u001b[1;32m-> 2799\u001b[1;33m             outputs = self(\n\u001b[0m\u001b[0;32m   2800\u001b[0m                 \u001b[1;33m**\u001b[0m\u001b[0mmodel_inputs\u001b[0m\u001b[1;33m,\u001b[0m\u001b[1;33m\u001b[0m\u001b[1;33m\u001b[0m\u001b[0m\n\u001b[0;32m   2801\u001b[0m                 \u001b[0mreturn_dict\u001b[0m\u001b[1;33m=\u001b[0m\u001b[1;32mTrue\u001b[0m\u001b[1;33m,\u001b[0m\u001b[1;33m\u001b[0m\u001b[1;33m\u001b[0m\u001b[0m\n",
            "\u001b[1;32mc:\\Python\\3.10.8\\lib\\site-packages\\torch\\nn\\modules\\module.py\u001b[0m in \u001b[0;36m_call_impl\u001b[1;34m(self, *input, **kwargs)\u001b[0m\n\u001b[0;32m   1192\u001b[0m         if not (self._backward_hooks or self._forward_hooks or self._forward_pre_hooks or _global_backward_hooks\n\u001b[0;32m   1193\u001b[0m                 or _global_forward_hooks or _global_forward_pre_hooks):\n\u001b[1;32m-> 1194\u001b[1;33m             \u001b[1;32mreturn\u001b[0m \u001b[0mforward_call\u001b[0m\u001b[1;33m(\u001b[0m\u001b[1;33m*\u001b[0m\u001b[0minput\u001b[0m\u001b[1;33m,\u001b[0m \u001b[1;33m**\u001b[0m\u001b[0mkwargs\u001b[0m\u001b[1;33m)\u001b[0m\u001b[1;33m\u001b[0m\u001b[1;33m\u001b[0m\u001b[0m\n\u001b[0m\u001b[0;32m   1195\u001b[0m         \u001b[1;31m# Do not call functions when jit is used\u001b[0m\u001b[1;33m\u001b[0m\u001b[1;33m\u001b[0m\u001b[0m\n\u001b[0;32m   1196\u001b[0m         \u001b[0mfull_backward_hooks\u001b[0m\u001b[1;33m,\u001b[0m \u001b[0mnon_full_backward_hooks\u001b[0m \u001b[1;33m=\u001b[0m \u001b[1;33m[\u001b[0m\u001b[1;33m]\u001b[0m\u001b[1;33m,\u001b[0m \u001b[1;33m[\u001b[0m\u001b[1;33m]\u001b[0m\u001b[1;33m\u001b[0m\u001b[1;33m\u001b[0m\u001b[0m\n",
            "\u001b[1;32mc:\\Python\\3.10.8\\lib\\site-packages\\transformers\\models\\bart\\modeling_bart.py\u001b[0m in \u001b[0;36mforward\u001b[1;34m(self, input_ids, attention_mask, decoder_input_ids, decoder_attention_mask, head_mask, decoder_head_mask, cross_attn_head_mask, encoder_outputs, past_key_values, inputs_embeds, decoder_inputs_embeds, labels, use_cache, output_attentions, output_hidden_states, return_dict)\u001b[0m\n\u001b[0;32m   1367\u001b[0m                 )\n\u001b[0;32m   1368\u001b[0m \u001b[1;33m\u001b[0m\u001b[0m\n\u001b[1;32m-> 1369\u001b[1;33m         outputs = self.model(\n\u001b[0m\u001b[0;32m   1370\u001b[0m             \u001b[0minput_ids\u001b[0m\u001b[1;33m,\u001b[0m\u001b[1;33m\u001b[0m\u001b[1;33m\u001b[0m\u001b[0m\n\u001b[0;32m   1371\u001b[0m             \u001b[0mattention_mask\u001b[0m\u001b[1;33m=\u001b[0m\u001b[0mattention_mask\u001b[0m\u001b[1;33m,\u001b[0m\u001b[1;33m\u001b[0m\u001b[1;33m\u001b[0m\u001b[0m\n",
            "\u001b[1;32mc:\\Python\\3.10.8\\lib\\site-packages\\torch\\nn\\modules\\module.py\u001b[0m in \u001b[0;36m_call_impl\u001b[1;34m(self, *input, **kwargs)\u001b[0m\n\u001b[0;32m   1192\u001b[0m         if not (self._backward_hooks or self._forward_hooks or self._forward_pre_hooks or _global_backward_hooks\n\u001b[0;32m   1193\u001b[0m                 or _global_forward_hooks or _global_forward_pre_hooks):\n\u001b[1;32m-> 1194\u001b[1;33m             \u001b[1;32mreturn\u001b[0m \u001b[0mforward_call\u001b[0m\u001b[1;33m(\u001b[0m\u001b[1;33m*\u001b[0m\u001b[0minput\u001b[0m\u001b[1;33m,\u001b[0m \u001b[1;33m**\u001b[0m\u001b[0mkwargs\u001b[0m\u001b[1;33m)\u001b[0m\u001b[1;33m\u001b[0m\u001b[1;33m\u001b[0m\u001b[0m\n\u001b[0m\u001b[0;32m   1195\u001b[0m         \u001b[1;31m# Do not call functions when jit is used\u001b[0m\u001b[1;33m\u001b[0m\u001b[1;33m\u001b[0m\u001b[0m\n\u001b[0;32m   1196\u001b[0m         \u001b[0mfull_backward_hooks\u001b[0m\u001b[1;33m,\u001b[0m \u001b[0mnon_full_backward_hooks\u001b[0m \u001b[1;33m=\u001b[0m \u001b[1;33m[\u001b[0m\u001b[1;33m]\u001b[0m\u001b[1;33m,\u001b[0m \u001b[1;33m[\u001b[0m\u001b[1;33m]\u001b[0m\u001b[1;33m\u001b[0m\u001b[1;33m\u001b[0m\u001b[0m\n",
            "\u001b[1;32mc:\\Python\\3.10.8\\lib\\site-packages\\transformers\\models\\bart\\modeling_bart.py\u001b[0m in \u001b[0;36mforward\u001b[1;34m(self, input_ids, attention_mask, decoder_input_ids, decoder_attention_mask, head_mask, decoder_head_mask, cross_attn_head_mask, encoder_outputs, past_key_values, inputs_embeds, decoder_inputs_embeds, use_cache, output_attentions, output_hidden_states, return_dict)\u001b[0m\n\u001b[0;32m   1249\u001b[0m \u001b[1;33m\u001b[0m\u001b[0m\n\u001b[0;32m   1250\u001b[0m         \u001b[1;31m# decoder outputs consists of (dec_features, past_key_value, dec_hidden, dec_attn)\u001b[0m\u001b[1;33m\u001b[0m\u001b[1;33m\u001b[0m\u001b[0m\n\u001b[1;32m-> 1251\u001b[1;33m         decoder_outputs = self.decoder(\n\u001b[0m\u001b[0;32m   1252\u001b[0m             \u001b[0minput_ids\u001b[0m\u001b[1;33m=\u001b[0m\u001b[0mdecoder_input_ids\u001b[0m\u001b[1;33m,\u001b[0m\u001b[1;33m\u001b[0m\u001b[1;33m\u001b[0m\u001b[0m\n\u001b[0;32m   1253\u001b[0m             \u001b[0mattention_mask\u001b[0m\u001b[1;33m=\u001b[0m\u001b[0mdecoder_attention_mask\u001b[0m\u001b[1;33m,\u001b[0m\u001b[1;33m\u001b[0m\u001b[1;33m\u001b[0m\u001b[0m\n",
            "\u001b[1;32mc:\\Python\\3.10.8\\lib\\site-packages\\torch\\nn\\modules\\module.py\u001b[0m in \u001b[0;36m_call_impl\u001b[1;34m(self, *input, **kwargs)\u001b[0m\n\u001b[0;32m   1192\u001b[0m         if not (self._backward_hooks or self._forward_hooks or self._forward_pre_hooks or _global_backward_hooks\n\u001b[0;32m   1193\u001b[0m                 or _global_forward_hooks or _global_forward_pre_hooks):\n\u001b[1;32m-> 1194\u001b[1;33m             \u001b[1;32mreturn\u001b[0m \u001b[0mforward_call\u001b[0m\u001b[1;33m(\u001b[0m\u001b[1;33m*\u001b[0m\u001b[0minput\u001b[0m\u001b[1;33m,\u001b[0m \u001b[1;33m**\u001b[0m\u001b[0mkwargs\u001b[0m\u001b[1;33m)\u001b[0m\u001b[1;33m\u001b[0m\u001b[1;33m\u001b[0m\u001b[0m\n\u001b[0m\u001b[0;32m   1195\u001b[0m         \u001b[1;31m# Do not call functions when jit is used\u001b[0m\u001b[1;33m\u001b[0m\u001b[1;33m\u001b[0m\u001b[0m\n\u001b[0;32m   1196\u001b[0m         \u001b[0mfull_backward_hooks\u001b[0m\u001b[1;33m,\u001b[0m \u001b[0mnon_full_backward_hooks\u001b[0m \u001b[1;33m=\u001b[0m \u001b[1;33m[\u001b[0m\u001b[1;33m]\u001b[0m\u001b[1;33m,\u001b[0m \u001b[1;33m[\u001b[0m\u001b[1;33m]\u001b[0m\u001b[1;33m\u001b[0m\u001b[1;33m\u001b[0m\u001b[0m\n",
            "\u001b[1;32mc:\\Python\\3.10.8\\lib\\site-packages\\transformers\\models\\bart\\modeling_bart.py\u001b[0m in \u001b[0;36mforward\u001b[1;34m(self, input_ids, attention_mask, encoder_hidden_states, encoder_attention_mask, head_mask, cross_attn_head_mask, past_key_values, inputs_embeds, use_cache, output_attentions, output_hidden_states, return_dict)\u001b[0m\n\u001b[0;32m   1105\u001b[0m             \u001b[1;32melse\u001b[0m\u001b[1;33m:\u001b[0m\u001b[1;33m\u001b[0m\u001b[1;33m\u001b[0m\u001b[0m\n\u001b[0;32m   1106\u001b[0m \u001b[1;33m\u001b[0m\u001b[0m\n\u001b[1;32m-> 1107\u001b[1;33m                 layer_outputs = decoder_layer(\n\u001b[0m\u001b[0;32m   1108\u001b[0m                     \u001b[0mhidden_states\u001b[0m\u001b[1;33m,\u001b[0m\u001b[1;33m\u001b[0m\u001b[1;33m\u001b[0m\u001b[0m\n\u001b[0;32m   1109\u001b[0m                     \u001b[0mattention_mask\u001b[0m\u001b[1;33m=\u001b[0m\u001b[0mattention_mask\u001b[0m\u001b[1;33m,\u001b[0m\u001b[1;33m\u001b[0m\u001b[1;33m\u001b[0m\u001b[0m\n",
            "\u001b[1;32mc:\\Python\\3.10.8\\lib\\site-packages\\torch\\nn\\modules\\module.py\u001b[0m in \u001b[0;36m_call_impl\u001b[1;34m(self, *input, **kwargs)\u001b[0m\n\u001b[0;32m   1192\u001b[0m         if not (self._backward_hooks or self._forward_hooks or self._forward_pre_hooks or _global_backward_hooks\n\u001b[0;32m   1193\u001b[0m                 or _global_forward_hooks or _global_forward_pre_hooks):\n\u001b[1;32m-> 1194\u001b[1;33m             \u001b[1;32mreturn\u001b[0m \u001b[0mforward_call\u001b[0m\u001b[1;33m(\u001b[0m\u001b[1;33m*\u001b[0m\u001b[0minput\u001b[0m\u001b[1;33m,\u001b[0m \u001b[1;33m**\u001b[0m\u001b[0mkwargs\u001b[0m\u001b[1;33m)\u001b[0m\u001b[1;33m\u001b[0m\u001b[1;33m\u001b[0m\u001b[0m\n\u001b[0m\u001b[0;32m   1195\u001b[0m         \u001b[1;31m# Do not call functions when jit is used\u001b[0m\u001b[1;33m\u001b[0m\u001b[1;33m\u001b[0m\u001b[0m\n\u001b[0;32m   1196\u001b[0m         \u001b[0mfull_backward_hooks\u001b[0m\u001b[1;33m,\u001b[0m \u001b[0mnon_full_backward_hooks\u001b[0m \u001b[1;33m=\u001b[0m \u001b[1;33m[\u001b[0m\u001b[1;33m]\u001b[0m\u001b[1;33m,\u001b[0m \u001b[1;33m[\u001b[0m\u001b[1;33m]\u001b[0m\u001b[1;33m\u001b[0m\u001b[1;33m\u001b[0m\u001b[0m\n",
            "\u001b[1;32mc:\\Python\\3.10.8\\lib\\site-packages\\transformers\\models\\bart\\modeling_bart.py\u001b[0m in \u001b[0;36mforward\u001b[1;34m(self, hidden_states, attention_mask, encoder_hidden_states, encoder_attention_mask, layer_head_mask, cross_attn_layer_head_mask, past_key_value, output_attentions, use_cache)\u001b[0m\n\u001b[0;32m    456\u001b[0m         \u001b[0mhidden_states\u001b[0m \u001b[1;33m=\u001b[0m \u001b[0mself\u001b[0m\u001b[1;33m.\u001b[0m\u001b[0mactivation_fn\u001b[0m\u001b[1;33m(\u001b[0m\u001b[0mself\u001b[0m\u001b[1;33m.\u001b[0m\u001b[0mfc1\u001b[0m\u001b[1;33m(\u001b[0m\u001b[0mhidden_states\u001b[0m\u001b[1;33m)\u001b[0m\u001b[1;33m)\u001b[0m\u001b[1;33m\u001b[0m\u001b[1;33m\u001b[0m\u001b[0m\n\u001b[0;32m    457\u001b[0m         \u001b[0mhidden_states\u001b[0m \u001b[1;33m=\u001b[0m \u001b[0mnn\u001b[0m\u001b[1;33m.\u001b[0m\u001b[0mfunctional\u001b[0m\u001b[1;33m.\u001b[0m\u001b[0mdropout\u001b[0m\u001b[1;33m(\u001b[0m\u001b[0mhidden_states\u001b[0m\u001b[1;33m,\u001b[0m \u001b[0mp\u001b[0m\u001b[1;33m=\u001b[0m\u001b[0mself\u001b[0m\u001b[1;33m.\u001b[0m\u001b[0mactivation_dropout\u001b[0m\u001b[1;33m,\u001b[0m \u001b[0mtraining\u001b[0m\u001b[1;33m=\u001b[0m\u001b[0mself\u001b[0m\u001b[1;33m.\u001b[0m\u001b[0mtraining\u001b[0m\u001b[1;33m)\u001b[0m\u001b[1;33m\u001b[0m\u001b[1;33m\u001b[0m\u001b[0m\n\u001b[1;32m--> 458\u001b[1;33m         \u001b[0mhidden_states\u001b[0m \u001b[1;33m=\u001b[0m \u001b[0mself\u001b[0m\u001b[1;33m.\u001b[0m\u001b[0mfc2\u001b[0m\u001b[1;33m(\u001b[0m\u001b[0mhidden_states\u001b[0m\u001b[1;33m)\u001b[0m\u001b[1;33m\u001b[0m\u001b[1;33m\u001b[0m\u001b[0m\n\u001b[0m\u001b[0;32m    459\u001b[0m         \u001b[0mhidden_states\u001b[0m \u001b[1;33m=\u001b[0m \u001b[0mnn\u001b[0m\u001b[1;33m.\u001b[0m\u001b[0mfunctional\u001b[0m\u001b[1;33m.\u001b[0m\u001b[0mdropout\u001b[0m\u001b[1;33m(\u001b[0m\u001b[0mhidden_states\u001b[0m\u001b[1;33m,\u001b[0m \u001b[0mp\u001b[0m\u001b[1;33m=\u001b[0m\u001b[0mself\u001b[0m\u001b[1;33m.\u001b[0m\u001b[0mdropout\u001b[0m\u001b[1;33m,\u001b[0m \u001b[0mtraining\u001b[0m\u001b[1;33m=\u001b[0m\u001b[0mself\u001b[0m\u001b[1;33m.\u001b[0m\u001b[0mtraining\u001b[0m\u001b[1;33m)\u001b[0m\u001b[1;33m\u001b[0m\u001b[1;33m\u001b[0m\u001b[0m\n\u001b[0;32m    460\u001b[0m         \u001b[0mhidden_states\u001b[0m \u001b[1;33m=\u001b[0m \u001b[0mresidual\u001b[0m \u001b[1;33m+\u001b[0m \u001b[0mhidden_states\u001b[0m\u001b[1;33m\u001b[0m\u001b[1;33m\u001b[0m\u001b[0m\n",
            "\u001b[1;32mc:\\Python\\3.10.8\\lib\\site-packages\\torch\\nn\\modules\\module.py\u001b[0m in \u001b[0;36m_call_impl\u001b[1;34m(self, *input, **kwargs)\u001b[0m\n\u001b[0;32m   1192\u001b[0m         if not (self._backward_hooks or self._forward_hooks or self._forward_pre_hooks or _global_backward_hooks\n\u001b[0;32m   1193\u001b[0m                 or _global_forward_hooks or _global_forward_pre_hooks):\n\u001b[1;32m-> 1194\u001b[1;33m             \u001b[1;32mreturn\u001b[0m \u001b[0mforward_call\u001b[0m\u001b[1;33m(\u001b[0m\u001b[1;33m*\u001b[0m\u001b[0minput\u001b[0m\u001b[1;33m,\u001b[0m \u001b[1;33m**\u001b[0m\u001b[0mkwargs\u001b[0m\u001b[1;33m)\u001b[0m\u001b[1;33m\u001b[0m\u001b[1;33m\u001b[0m\u001b[0m\n\u001b[0m\u001b[0;32m   1195\u001b[0m         \u001b[1;31m# Do not call functions when jit is used\u001b[0m\u001b[1;33m\u001b[0m\u001b[1;33m\u001b[0m\u001b[0m\n\u001b[0;32m   1196\u001b[0m         \u001b[0mfull_backward_hooks\u001b[0m\u001b[1;33m,\u001b[0m \u001b[0mnon_full_backward_hooks\u001b[0m \u001b[1;33m=\u001b[0m \u001b[1;33m[\u001b[0m\u001b[1;33m]\u001b[0m\u001b[1;33m,\u001b[0m \u001b[1;33m[\u001b[0m\u001b[1;33m]\u001b[0m\u001b[1;33m\u001b[0m\u001b[1;33m\u001b[0m\u001b[0m\n",
            "\u001b[1;32mc:\\Python\\3.10.8\\lib\\site-packages\\torch\\nn\\modules\\linear.py\u001b[0m in \u001b[0;36mforward\u001b[1;34m(self, input)\u001b[0m\n\u001b[0;32m    112\u001b[0m \u001b[1;33m\u001b[0m\u001b[0m\n\u001b[0;32m    113\u001b[0m     \u001b[1;32mdef\u001b[0m \u001b[0mforward\u001b[0m\u001b[1;33m(\u001b[0m\u001b[0mself\u001b[0m\u001b[1;33m,\u001b[0m \u001b[0minput\u001b[0m\u001b[1;33m:\u001b[0m \u001b[0mTensor\u001b[0m\u001b[1;33m)\u001b[0m \u001b[1;33m->\u001b[0m \u001b[0mTensor\u001b[0m\u001b[1;33m:\u001b[0m\u001b[1;33m\u001b[0m\u001b[1;33m\u001b[0m\u001b[0m\n\u001b[1;32m--> 114\u001b[1;33m         \u001b[1;32mreturn\u001b[0m \u001b[0mF\u001b[0m\u001b[1;33m.\u001b[0m\u001b[0mlinear\u001b[0m\u001b[1;33m(\u001b[0m\u001b[0minput\u001b[0m\u001b[1;33m,\u001b[0m \u001b[0mself\u001b[0m\u001b[1;33m.\u001b[0m\u001b[0mweight\u001b[0m\u001b[1;33m,\u001b[0m \u001b[0mself\u001b[0m\u001b[1;33m.\u001b[0m\u001b[0mbias\u001b[0m\u001b[1;33m)\u001b[0m\u001b[1;33m\u001b[0m\u001b[1;33m\u001b[0m\u001b[0m\n\u001b[0m\u001b[0;32m    115\u001b[0m \u001b[1;33m\u001b[0m\u001b[0m\n\u001b[0;32m    116\u001b[0m     \u001b[1;32mdef\u001b[0m \u001b[0mextra_repr\u001b[0m\u001b[1;33m(\u001b[0m\u001b[0mself\u001b[0m\u001b[1;33m)\u001b[0m \u001b[1;33m->\u001b[0m \u001b[0mstr\u001b[0m\u001b[1;33m:\u001b[0m\u001b[1;33m\u001b[0m\u001b[1;33m\u001b[0m\u001b[0m\n",
            "\u001b[1;31mKeyboardInterrupt\u001b[0m: "
          ]
        }
      ],
      "source": [
        "for input in inputs:\n",
        "  output = model.generate(**input)\n",
        "  print(tokenizer.decode(*output, skip_special_tokens=True))"
      ]
    }
  ],
  "metadata": {
    "colab": {
      "collapsed_sections": [],
      "name": "summarization.ipynb",
      "provenance": []
    },
    "kernelspec": {
      "display_name": "Python 3",
      "language": "python",
      "name": "python3"
    },
    "language_info": {
      "codemirror_mode": {
        "name": "ipython",
        "version": 3
      },
      "file_extension": ".py",
      "mimetype": "text/x-python",
      "name": "python",
      "nbconvert_exporter": "python",
      "pygments_lexer": "ipython3",
      "version": "3.10.8"
    },
    "vscode": {
      "interpreter": {
        "hash": "050044240cf91f37d85165fce9cd1b29ae697f4786d26880d31f6038c78120fd"
      }
    }
  },
  "nbformat": 4,
  "nbformat_minor": 0
}
