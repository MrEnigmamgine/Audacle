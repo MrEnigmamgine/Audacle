{
 "cells": [
  {
   "cell_type": "code",
   "execution_count": 1,
   "metadata": {},
   "outputs": [],
   "source": [
    "import os, re\n",
    "from IPython.display import Audio, display\n",
    "from bs4 import BeautifulSoup\n",
    "\n",
    "import utils.prepare as prep"
   ]
  },
  {
   "cell_type": "code",
   "execution_count": 2,
   "metadata": {},
   "outputs": [],
   "source": [
    "# Audacity parsing functions\n",
    "def find_aup_file(path):\n",
    "    aup_files = [f for f in os.listdir(path) if f.endswith('.aup')]\n",
    "    return aup_files[0] # Assume only one file per directory\n",
    "\n",
    "def parse_audacity_project(path_to_aup_file):\n",
    "    \n",
    "    with open(path_to_aup_file, 'r') as f:\n",
    "        aup = BeautifulSoup(f, features=\"lxml-xml\")\n",
    "    \n",
    "    root_path = os.path.split(path_to_aup_file)[:-1]\n",
    "    root_path = os.path.join(*root_path)\n",
    "\n",
    "    project = aup.find('project')\n",
    "    proj_name = project.get('projname')\n",
    "    data_path = os.path.join(root_path, proj_name)\n",
    "\n",
    "    proj_imports = project.find_all('import')\n",
    "    proj_files = []\n",
    "    for item in proj_imports:\n",
    "        filename, offset= item.get('filename'), float(item.get('offset'))\n",
    "        entry = {\n",
    "            'filename': filename,\n",
    "            'offset': offset\n",
    "        }\n",
    "        proj_files.append(entry)\n",
    "\n",
    "    \n",
    "    output = {\n",
    "        'project_name' : proj_name,\n",
    "        'root_path': root_path,\n",
    "        'data_path': data_path,\n",
    "        'files': proj_files\n",
    "    }\n",
    "\n",
    "    return output"
   ]
  },
  {
   "cell_type": "code",
   "execution_count": 6,
   "metadata": {},
   "outputs": [],
   "source": [
    "directory = './data/db_02-03-2023/'\n",
    "\n",
    "aup_file = os.path.join(directory, find_aup_file(directory))\n",
    "project = parse_audacity_project(aup_file)\n",
    "\n",
    "paths = [os.path.join(project['data_path'], file['filename']) for file in project['files']]\n",
    "\n",
    "avr_datas = []\n",
    "for path in paths:\n",
    "    # print(path)\n",
    "    result = prep.get_avr_data(path, refresh=True, model_name='small.en')\n",
    "    avr_datas.append(result)"
   ]
  }
 ],
 "metadata": {
  "kernelspec": {
   "display_name": "Python 3",
   "language": "python",
   "name": "python3"
  },
  "language_info": {
   "codemirror_mode": {
    "name": "ipython",
    "version": 3
   },
   "file_extension": ".py",
   "mimetype": "text/x-python",
   "name": "python",
   "nbconvert_exporter": "python",
   "pygments_lexer": "ipython3",
   "version": "3.10.8"
  },
  "orig_nbformat": 4,
  "vscode": {
   "interpreter": {
    "hash": "050044240cf91f37d85165fce9cd1b29ae697f4786d26880d31f6038c78120fd"
   }
  }
 },
 "nbformat": 4,
 "nbformat_minor": 2
}
