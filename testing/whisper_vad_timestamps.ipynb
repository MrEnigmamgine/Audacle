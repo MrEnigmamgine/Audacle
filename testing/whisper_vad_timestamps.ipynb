{
 "cells": [
  {
   "attachments": {},
   "cell_type": "markdown",
   "metadata": {},
   "source": [
    "# Making a script\n",
    "\n",
    "One of the things that dissapoints me most about OpenAI's Whisper is that the resulting text is just one long wall of text.  Fortunately, we are using a discord bot called Craig to record our DnD sessions.  With Craig, each person's voice is recorded to their own audio file, which means that the audio is already diarized.\n",
    "\n",
    "Therefore it stands to reason that in order to generate a text file in a script format, all I would need to do is process each file individually then order the segments in chronological order.  Each time the speaker changes simply insert a line with that person's name."
   ]
  },
  {
   "cell_type": "code",
   "execution_count": null,
   "metadata": {},
   "outputs": [],
   "source": [
    "import os, re\n",
    "import whisper\n",
    "import torch\n",
    "import torchaudio as ta\n",
    "import librosa\n",
    "import matplotlib.pyplot as plt\n",
    "import pandas as pd\n",
    "from bs4 import BeautifulSoup\n",
    "from pprint import pprint\n",
    "from IPython.display import Audio, display\n",
    "\n",
    "print(whisper.__version__)\n",
    "print(ta.__version__)\n",
    "print(torch.__version__)\n",
    "%matplotlib inline"
   ]
  },
  {
   "attachments": {},
   "cell_type": "markdown",
   "metadata": {},
   "source": [
    "## Parsing Audacity projects\n",
    "The method we've been using with Craig is to download our recordings as an audacity project.  Audacity projects have a `project.aup` file, which is just a text file that tells the program how to arrange the audio files used in the project.  Let's take a look."
   ]
  },
  {
   "cell_type": "code",
   "execution_count": null,
   "metadata": {},
   "outputs": [],
   "source": [
    "data_dir = '../data/db_02-03-2023/'\n",
    "aup_file = 'V8DcTChKFF.aup'\n",
    "\n",
    "with open(os.path.join(data_dir, aup_file)) as f:\n",
    "    aup = BeautifulSoup(f, features=\"lxml-xml\")\n",
    "\n",
    "# Project metadata\n",
    "project = aup.find('project')\n",
    "pprint(project.attrs)\n"
   ]
  },
  {
   "attachments": {},
   "cell_type": "markdown",
   "metadata": {},
   "source": [
    "`projname` tells us the directory in which the audio files are stored."
   ]
  },
  {
   "cell_type": "code",
   "execution_count": null,
   "metadata": {},
   "outputs": [],
   "source": [
    "proj_data_dir = project.get('projname')\n",
    "\n",
    "proj_data_dir"
   ]
  },
  {
   "cell_type": "code",
   "execution_count": null,
   "metadata": {},
   "outputs": [],
   "source": [
    "p = os.path.join(data_dir, proj_data_dir)\n",
    "os.listdir(p)"
   ]
  },
  {
   "attachments": {},
   "cell_type": "markdown",
   "metadata": {},
   "source": [
    "4 audio files and two data files"
   ]
  },
  {
   "cell_type": "code",
   "execution_count": null,
   "metadata": {},
   "outputs": [],
   "source": [
    "proj_imports = project.find_all('import')\n",
    "proj_imports"
   ]
  },
  {
   "attachments": {},
   "cell_type": "markdown",
   "metadata": {},
   "source": [
    "Here there's two attributes that seem immediately useful.  `filename` tells us where the audio is.  `offset` tells us how each file aligns with the others in the project."
   ]
  },
  {
   "cell_type": "code",
   "execution_count": null,
   "metadata": {},
   "outputs": [],
   "source": [
    "discord_name_pattern = r'.+-(.*)\\..+'\n",
    "proj_files = []\n",
    "\n",
    "for item in proj_imports:\n",
    "    filename, offset= item.get('filename'), float(item.get('offset'))\n",
    "    username = re.search(discord_name_pattern, filename).group(1)\n",
    "    out = {\n",
    "        'filename': filename,\n",
    "        'username': username,\n",
    "        'offset': offset\n",
    "    }\n",
    "    proj_files.append(out)\n",
    "\n",
    "pprint(proj_files)"
   ]
  },
  {
   "cell_type": "code",
   "execution_count": null,
   "metadata": {},
   "outputs": [],
   "source": [
    "whisper_dir = '../models/whisper'\n",
    "transcriber =   whisper.load_model('small.en', download_root= whisper_dir)"
   ]
  },
  {
   "cell_type": "code",
   "execution_count": null,
   "metadata": {},
   "outputs": [],
   "source": [
    "for part in proj_files[:1]:\n",
    "    filename = part.get('filename')\n",
    "    username = part.get('username')\n",
    "    offset = part.get('offset')\n",
    "\n",
    "    path = os.path.join(data_dir, proj_data_dir, filename)\n",
    "    wav = whisper.load_audio(path)\n",
    "\n",
    "wav"
   ]
  },
  {
   "cell_type": "code",
   "execution_count": null,
   "metadata": {},
   "outputs": [],
   "source": [
    "# condition_on_previous_text=False made this run in 12 minutes.  Without the argument it took 21 minutes.\n",
    "results = transcriber.transcribe(wav, condition_on_previous_text=False)"
   ]
  },
  {
   "cell_type": "code",
   "execution_count": null,
   "metadata": {},
   "outputs": [],
   "source": [
    "for thing in results['segments']:\n",
    "    print(f\"[{thing['start']} - {thing['end']}] {thing['text']}\")"
   ]
  },
  {
   "attachments": {},
   "cell_type": "markdown",
   "metadata": {},
   "source": [
    "Hmm.. so Whisper is generating a lot of repetitive text.  This is likely due to the fact that the audio is very long with long sections of silence.  However, I'm noticing that the timestamps presented are much more accurate than normal.  Likely another benifit of setting `condition_on_previous_text=False`"
   ]
  },
  {
   "attachments": {},
   "cell_type": "markdown",
   "metadata": {},
   "source": [
    "I'm wondering if using Siler VAD to strip out the non-speech will improve transcription accuracy."
   ]
  },
  {
   "cell_type": "code",
   "execution_count": null,
   "metadata": {},
   "outputs": [],
   "source": [
    "silero_dir = '../models/silero-vad'\n",
    "vad, utils =    torch.hub.load(repo_or_dir=silero_dir,\n",
    "                               source='local',\n",
    "                               model='silero_vad',\n",
    "                               force_reload=True,\n",
    "                               onnx=False)\n",
    "\n",
    "(get_speech_timestamps,\n",
    " save_audio,\n",
    " read_audio,\n",
    " VADIterator,\n",
    " collect_chunks) = utils"
   ]
  },
  {
   "cell_type": "code",
   "execution_count": null,
   "metadata": {},
   "outputs": [],
   "source": [
    "speech_timestamps = get_speech_timestamps(wav, vad)"
   ]
  },
  {
   "cell_type": "code",
   "execution_count": null,
   "metadata": {},
   "outputs": [],
   "source": [
    "len(speech_timestamps)"
   ]
  },
  {
   "cell_type": "code",
   "execution_count": null,
   "metadata": {},
   "outputs": [],
   "source": [
    "SAMPLING_RATE = 16000\n",
    "speech_only = collect_chunks(speech_timestamps, torch.tensor(wav))"
   ]
  },
  {
   "cell_type": "code",
   "execution_count": null,
   "metadata": {},
   "outputs": [],
   "source": [
    "Audio(data=speech_only, rate=SAMPLING_RATE)"
   ]
  },
  {
   "cell_type": "code",
   "execution_count": null,
   "metadata": {},
   "outputs": [],
   "source": [
    "# 6m 46s!\n",
    "results = transcriber.transcribe(speech_only, condition_on_previous_text=False)\n"
   ]
  },
  {
   "cell_type": "code",
   "execution_count": null,
   "metadata": {},
   "outputs": [],
   "source": [
    "print(results['text'])"
   ]
  },
  {
   "cell_type": "code",
   "execution_count": null,
   "metadata": {},
   "outputs": [],
   "source": [
    "for thing in results['segments']:\n",
    "    print(f\"[{thing['start']} - {thing['end']}] {thing['text']}\")"
   ]
  },
  {
   "cell_type": "code",
   "execution_count": null,
   "metadata": {},
   "outputs": [],
   "source": [
    "len(results['segments'])"
   ]
  },
  {
   "cell_type": "code",
   "execution_count": null,
   "metadata": {},
   "outputs": [],
   "source": [
    "for segment in results['segments']:\n",
    "    segment['start_frame'] = segment['start'] * SAMPLING_RATE\n",
    "    segment['end_frame'] = segment['end'] * SAMPLING_RATE\n",
    "    segment['length'] = segment['end_frame'] - segment['start_frame']"
   ]
  },
  {
   "cell_type": "code",
   "execution_count": null,
   "metadata": {},
   "outputs": [],
   "source": [
    "results['segments'][0:2]"
   ]
  },
  {
   "cell_type": "code",
   "execution_count": null,
   "metadata": {},
   "outputs": [],
   "source": [
    "speech_ts_df = pd.DataFrame(speech_timestamps)\n",
    "speech_ts_df['length'] = speech_ts_df['end'] - speech_ts_df['start']\n",
    "speech_ts_df.sort_values(by='start')"
   ]
  },
  {
   "cell_type": "code",
   "execution_count": null,
   "metadata": {},
   "outputs": [],
   "source": [
    "speech_timestamps[-1]"
   ]
  },
  {
   "cell_type": "code",
   "execution_count": null,
   "metadata": {},
   "outputs": [],
   "source": [
    "len(speech_timestamps)"
   ]
  },
  {
   "cell_type": "code",
   "execution_count": null,
   "metadata": {},
   "outputs": [],
   "source": [
    "chunk_timestamps = []\n",
    "current_frame = 0\n",
    "for i, entry in enumerate(speech_timestamps):\n",
    "    speech_length = entry['end'] - entry['start']\n",
    "    end_frame = current_frame + speech_length\n",
    "    chunk_timestamps.append(\n",
    "        {'start': current_frame,\n",
    "         'end': end_frame\n",
    "        }\n",
    "        )\n",
    "    current_frame = end_frame+1\n",
    "\n",
    "len(chunk_timestamps)"
   ]
  },
  {
   "cell_type": "code",
   "execution_count": null,
   "metadata": {},
   "outputs": [],
   "source": [
    "a = 1\n",
    "b = speech_timestamps[a]\n",
    "c = chunk_timestamps[a]\n",
    "d,e = b['start'], b['end']\n",
    "f,g = c['start'], c['end']\n",
    "\n",
    "display(Audio(wav[d:e], rate=SAMPLING_RATE))\n",
    "display(Audio(speech_only[f:g], rate=SAMPLING_RATE))"
   ]
  },
  {
   "cell_type": "code",
   "execution_count": null,
   "metadata": {},
   "outputs": [],
   "source": [
    "a=450\n",
    "i = results['segments'][a]\n",
    "start = round(i['start'] * 16000)\n",
    "end = round(i['end'] * 16000)\n",
    "print(start, i['text'], end)\n",
    "display(Audio(speech_only[start:end], rate=SAMPLING_RATE))"
   ]
  },
  {
   "cell_type": "code",
   "execution_count": null,
   "metadata": {},
   "outputs": [],
   "source": [
    "len(results['segments'])"
   ]
  },
  {
   "attachments": {},
   "cell_type": "markdown",
   "metadata": {},
   "source": [
    "## Time to use pandas\n",
    "\n",
    "The timestamps provided by Whisper become slightly out of sync with the timestamps provided by Silero.  This means that I can't match Whisper segments directly with Silero segments.  \n",
    "However, the drift doesn't seem too bad and is likely caused by the way that Whisper is converting the frame timestamps to seconds, so it should be sufficient to just find the closest ones.\n",
    "\n",
    "By putting both the long waveform timestamps and the truncated chunk timestamps into the same dataframe I can easily match the two together with a `segment_id` identifying them as the same segment of audio.  Additionally, having the timestamps sorted will make it easier to match Silero segments with Whisper segments."
   ]
  },
  {
   "cell_type": "code",
   "execution_count": null,
   "metadata": {},
   "outputs": [],
   "source": [
    "vad_df = pd.DataFrame(speech_timestamps)\n",
    "vad_df['length'] = vad_df['end'] - vad_df['start']\n",
    "vad_df.head()"
   ]
  },
  {
   "cell_type": "code",
   "execution_count": null,
   "metadata": {},
   "outputs": [],
   "source": [
    "tdf = pd.DataFrame(chunk_timestamps)\n",
    "tdf.columns = ['chunk_start','chunk_end']\n",
    "tdf['chunk_length'] = tdf['chunk_end'] - tdf['chunk_start']\n",
    "tdf.head()"
   ]
  },
  {
   "cell_type": "code",
   "execution_count": null,
   "metadata": {},
   "outputs": [],
   "source": [
    "vad_df = pd.concat([vad_df, tdf], axis=1)"
   ]
  },
  {
   "cell_type": "code",
   "execution_count": 97,
   "metadata": {},
   "outputs": [
    {
     "data": {
      "text/html": [
       "<div>\n",
       "<style scoped>\n",
       "    .dataframe tbody tr th:only-of-type {\n",
       "        vertical-align: middle;\n",
       "    }\n",
       "\n",
       "    .dataframe tbody tr th {\n",
       "        vertical-align: top;\n",
       "    }\n",
       "\n",
       "    .dataframe thead th {\n",
       "        text-align: right;\n",
       "    }\n",
       "</style>\n",
       "<table border=\"1\" class=\"dataframe\">\n",
       "  <thead>\n",
       "    <tr style=\"text-align: right;\">\n",
       "      <th></th>\n",
       "      <th>start</th>\n",
       "      <th>end</th>\n",
       "      <th>length</th>\n",
       "      <th>chunk_start</th>\n",
       "      <th>chunk_end</th>\n",
       "      <th>chunk_length</th>\n",
       "      <th>id</th>\n",
       "    </tr>\n",
       "  </thead>\n",
       "  <tbody>\n",
       "    <tr>\n",
       "      <th>0</th>\n",
       "      <td>2080</td>\n",
       "      <td>17376</td>\n",
       "      <td>15296</td>\n",
       "      <td>0</td>\n",
       "      <td>15296</td>\n",
       "      <td>15296</td>\n",
       "      <td>0</td>\n",
       "    </tr>\n",
       "    <tr>\n",
       "      <th>1</th>\n",
       "      <td>363552</td>\n",
       "      <td>382432</td>\n",
       "      <td>18880</td>\n",
       "      <td>15297</td>\n",
       "      <td>34177</td>\n",
       "      <td>18880</td>\n",
       "      <td>1</td>\n",
       "    </tr>\n",
       "    <tr>\n",
       "      <th>2</th>\n",
       "      <td>384544</td>\n",
       "      <td>416224</td>\n",
       "      <td>31680</td>\n",
       "      <td>34178</td>\n",
       "      <td>65858</td>\n",
       "      <td>31680</td>\n",
       "      <td>2</td>\n",
       "    </tr>\n",
       "    <tr>\n",
       "      <th>3</th>\n",
       "      <td>425504</td>\n",
       "      <td>444896</td>\n",
       "      <td>19392</td>\n",
       "      <td>65859</td>\n",
       "      <td>85251</td>\n",
       "      <td>19392</td>\n",
       "      <td>3</td>\n",
       "    </tr>\n",
       "    <tr>\n",
       "      <th>4</th>\n",
       "      <td>538144</td>\n",
       "      <td>566752</td>\n",
       "      <td>28608</td>\n",
       "      <td>85252</td>\n",
       "      <td>113860</td>\n",
       "      <td>28608</td>\n",
       "      <td>4</td>\n",
       "    </tr>\n",
       "  </tbody>\n",
       "</table>\n",
       "</div>"
      ],
      "text/plain": [
       "    start     end  length  chunk_start  chunk_end  chunk_length  id\n",
       "0    2080   17376   15296            0      15296         15296   0\n",
       "1  363552  382432   18880        15297      34177         18880   1\n",
       "2  384544  416224   31680        34178      65858         31680   2\n",
       "3  425504  444896   19392        65859      85251         19392   3\n",
       "4  538144  566752   28608        85252     113860         28608   4"
      ]
     },
     "execution_count": 97,
     "metadata": {},
     "output_type": "execute_result"
    }
   ],
   "source": [
    "vad_df['id'] = vad_df.index\n",
    "vad_df.head()"
   ]
  },
  {
   "cell_type": "code",
   "execution_count": 85,
   "metadata": {},
   "outputs": [
    {
     "data": {
      "text/html": [
       "<div>\n",
       "<style scoped>\n",
       "    .dataframe tbody tr th:only-of-type {\n",
       "        vertical-align: middle;\n",
       "    }\n",
       "\n",
       "    .dataframe tbody tr th {\n",
       "        vertical-align: top;\n",
       "    }\n",
       "\n",
       "    .dataframe thead th {\n",
       "        text-align: right;\n",
       "    }\n",
       "</style>\n",
       "<table border=\"1\" class=\"dataframe\">\n",
       "  <thead>\n",
       "    <tr style=\"text-align: right;\">\n",
       "      <th></th>\n",
       "      <th>id</th>\n",
       "      <th>seek</th>\n",
       "      <th>start</th>\n",
       "      <th>end</th>\n",
       "      <th>text</th>\n",
       "      <th>tokens</th>\n",
       "      <th>temperature</th>\n",
       "      <th>avg_logprob</th>\n",
       "      <th>compression_ratio</th>\n",
       "      <th>no_speech_prob</th>\n",
       "      <th>start_frame</th>\n",
       "      <th>end_frame</th>\n",
       "      <th>length</th>\n",
       "    </tr>\n",
       "  </thead>\n",
       "  <tbody>\n",
       "    <tr>\n",
       "      <th>0</th>\n",
       "      <td>0</td>\n",
       "      <td>0</td>\n",
       "      <td>0.00</td>\n",
       "      <td>1.00</td>\n",
       "      <td>Now recording.</td>\n",
       "      <td>[2735, 8296, 13]</td>\n",
       "      <td>0.0</td>\n",
       "      <td>-0.446743</td>\n",
       "      <td>1.57931</td>\n",
       "      <td>0.595192</td>\n",
       "      <td>0.0</td>\n",
       "      <td>16000.0</td>\n",
       "      <td>16000.0</td>\n",
       "    </tr>\n",
       "    <tr>\n",
       "      <th>1</th>\n",
       "      <td>1</td>\n",
       "      <td>0</td>\n",
       "      <td>1.00</td>\n",
       "      <td>4.72</td>\n",
       "      <td>You know Josh, he could have just right click...</td>\n",
       "      <td>[921, 760, 8518, 11, 339, 714, 423, 655, 826, ...</td>\n",
       "      <td>0.0</td>\n",
       "      <td>-0.446743</td>\n",
       "      <td>1.57931</td>\n",
       "      <td>0.595192</td>\n",
       "      <td>16000.0</td>\n",
       "      <td>75520.0</td>\n",
       "      <td>59520.0</td>\n",
       "    </tr>\n",
       "    <tr>\n",
       "      <th>2</th>\n",
       "      <td>2</td>\n",
       "      <td>0</td>\n",
       "      <td>4.72</td>\n",
       "      <td>5.72</td>\n",
       "      <td>too.</td>\n",
       "      <td>[1165, 13]</td>\n",
       "      <td>0.0</td>\n",
       "      <td>-0.446743</td>\n",
       "      <td>1.57931</td>\n",
       "      <td>0.595192</td>\n",
       "      <td>75520.0</td>\n",
       "      <td>91520.0</td>\n",
       "      <td>16000.0</td>\n",
       "    </tr>\n",
       "    <tr>\n",
       "      <th>3</th>\n",
       "      <td>3</td>\n",
       "      <td>0</td>\n",
       "      <td>5.72</td>\n",
       "      <td>7.22</td>\n",
       "      <td>Anyway, welcome.</td>\n",
       "      <td>[21836, 11, 7062, 13]</td>\n",
       "      <td>0.0</td>\n",
       "      <td>-0.446743</td>\n",
       "      <td>1.57931</td>\n",
       "      <td>0.595192</td>\n",
       "      <td>91520.0</td>\n",
       "      <td>115520.0</td>\n",
       "      <td>24000.0</td>\n",
       "    </tr>\n",
       "    <tr>\n",
       "      <th>4</th>\n",
       "      <td>4</td>\n",
       "      <td>0</td>\n",
       "      <td>7.22</td>\n",
       "      <td>8.72</td>\n",
       "      <td>How would he be able to tell me?</td>\n",
       "      <td>[1374, 561, 339, 307, 1498, 284, 1560, 502, 30]</td>\n",
       "      <td>0.0</td>\n",
       "      <td>-0.446743</td>\n",
       "      <td>1.57931</td>\n",
       "      <td>0.595192</td>\n",
       "      <td>115520.0</td>\n",
       "      <td>139520.0</td>\n",
       "      <td>24000.0</td>\n",
       "    </tr>\n",
       "  </tbody>\n",
       "</table>\n",
       "</div>"
      ],
      "text/plain": [
       "   id  seek  start   end                                               text  \\\n",
       "0   0     0   0.00  1.00                                     Now recording.   \n",
       "1   1     0   1.00  4.72   You know Josh, he could have just right click...   \n",
       "2   2     0   4.72  5.72                                               too.   \n",
       "3   3     0   5.72  7.22                                   Anyway, welcome.   \n",
       "4   4     0   7.22  8.72                   How would he be able to tell me?   \n",
       "\n",
       "                                              tokens  temperature  \\\n",
       "0                                   [2735, 8296, 13]          0.0   \n",
       "1  [921, 760, 8518, 11, 339, 714, 423, 655, 826, ...          0.0   \n",
       "2                                         [1165, 13]          0.0   \n",
       "3                              [21836, 11, 7062, 13]          0.0   \n",
       "4    [1374, 561, 339, 307, 1498, 284, 1560, 502, 30]          0.0   \n",
       "\n",
       "   avg_logprob  compression_ratio  no_speech_prob  start_frame  end_frame  \\\n",
       "0    -0.446743            1.57931        0.595192          0.0    16000.0   \n",
       "1    -0.446743            1.57931        0.595192      16000.0    75520.0   \n",
       "2    -0.446743            1.57931        0.595192      75520.0    91520.0   \n",
       "3    -0.446743            1.57931        0.595192      91520.0   115520.0   \n",
       "4    -0.446743            1.57931        0.595192     115520.0   139520.0   \n",
       "\n",
       "    length  \n",
       "0  16000.0  \n",
       "1  59520.0  \n",
       "2  16000.0  \n",
       "3  24000.0  \n",
       "4  24000.0  "
      ]
     },
     "execution_count": 85,
     "metadata": {},
     "output_type": "execute_result"
    }
   ],
   "source": [
    "w_df = pd.DataFrame(results['segments'])\n",
    "w_df.head()"
   ]
  },
  {
   "cell_type": "code",
   "execution_count": 105,
   "metadata": {},
   "outputs": [
    {
     "data": {
      "text/html": [
       "<div>\n",
       "<style scoped>\n",
       "    .dataframe tbody tr th:only-of-type {\n",
       "        vertical-align: middle;\n",
       "    }\n",
       "\n",
       "    .dataframe tbody tr th {\n",
       "        vertical-align: top;\n",
       "    }\n",
       "\n",
       "    .dataframe thead th {\n",
       "        text-align: right;\n",
       "    }\n",
       "</style>\n",
       "<table border=\"1\" class=\"dataframe\">\n",
       "  <thead>\n",
       "    <tr style=\"text-align: right;\">\n",
       "      <th></th>\n",
       "      <th>id</th>\n",
       "      <th>seek</th>\n",
       "      <th>start</th>\n",
       "      <th>end</th>\n",
       "      <th>text</th>\n",
       "      <th>tokens</th>\n",
       "      <th>temperature</th>\n",
       "      <th>avg_logprob</th>\n",
       "      <th>compression_ratio</th>\n",
       "      <th>no_speech_prob</th>\n",
       "      <th>start_frame</th>\n",
       "      <th>end_frame</th>\n",
       "      <th>length</th>\n",
       "    </tr>\n",
       "  </thead>\n",
       "  <tbody>\n",
       "    <tr>\n",
       "      <th>2</th>\n",
       "      <td>2</td>\n",
       "      <td>0</td>\n",
       "      <td>4.72</td>\n",
       "      <td>5.72</td>\n",
       "      <td>too.</td>\n",
       "      <td>[1165, 13]</td>\n",
       "      <td>0.0</td>\n",
       "      <td>-0.446743</td>\n",
       "      <td>1.57931</td>\n",
       "      <td>0.595192</td>\n",
       "      <td>75520.0</td>\n",
       "      <td>91520.0</td>\n",
       "      <td>16000.0</td>\n",
       "    </tr>\n",
       "  </tbody>\n",
       "</table>\n",
       "</div>"
      ],
      "text/plain": [
       "   id  seek  start   end   text      tokens  temperature  avg_logprob  \\\n",
       "2   2     0   4.72  5.72   too.  [1165, 13]          0.0    -0.446743   \n",
       "\n",
       "   compression_ratio  no_speech_prob  start_frame  end_frame   length  \n",
       "2            1.57931        0.595192      75520.0    91520.0  16000.0  "
      ]
     },
     "metadata": {},
     "output_type": "display_data"
    }
   ],
   "source": [
    "display(w_df.loc[2:2])"
   ]
  },
  {
   "cell_type": "code",
   "execution_count": 110,
   "metadata": {},
   "outputs": [
    {
     "data": {
      "text/plain": [
       "4.72"
      ]
     },
     "execution_count": 110,
     "metadata": {},
     "output_type": "execute_result"
    }
   ],
   "source": [
    "w_df.loc[2].start"
   ]
  },
  {
   "cell_type": "code",
   "execution_count": 127,
   "metadata": {},
   "outputs": [],
   "source": [
    "a = 0"
   ]
  },
  {
   "cell_type": "code",
   "execution_count": 137,
   "metadata": {},
   "outputs": [
    {
     "data": {
      "text/html": [
       "<div>\n",
       "<style scoped>\n",
       "    .dataframe tbody tr th:only-of-type {\n",
       "        vertical-align: middle;\n",
       "    }\n",
       "\n",
       "    .dataframe tbody tr th {\n",
       "        vertical-align: top;\n",
       "    }\n",
       "\n",
       "    .dataframe thead th {\n",
       "        text-align: right;\n",
       "    }\n",
       "</style>\n",
       "<table border=\"1\" class=\"dataframe\">\n",
       "  <thead>\n",
       "    <tr style=\"text-align: right;\">\n",
       "      <th></th>\n",
       "      <th>start_frame</th>\n",
       "      <th>end_frame</th>\n",
       "      <th>length</th>\n",
       "      <th>text</th>\n",
       "      <th>id</th>\n",
       "    </tr>\n",
       "  </thead>\n",
       "  <tbody>\n",
       "    <tr>\n",
       "      <th>6</th>\n",
       "      <td>174720.0</td>\n",
       "      <td>190720.0</td>\n",
       "      <td>16000.0</td>\n",
       "      <td>Oh, below.</td>\n",
       "      <td>6</td>\n",
       "    </tr>\n",
       "  </tbody>\n",
       "</table>\n",
       "</div>"
      ],
      "text/plain": [
       "   start_frame  end_frame   length         text  id\n",
       "6     174720.0   190720.0  16000.0   Oh, below.   6"
      ]
     },
     "metadata": {},
     "output_type": "display_data"
    },
    {
     "data": {
      "text/html": [
       "<div>\n",
       "<style scoped>\n",
       "    .dataframe tbody tr th:only-of-type {\n",
       "        vertical-align: middle;\n",
       "    }\n",
       "\n",
       "    .dataframe tbody tr th {\n",
       "        vertical-align: top;\n",
       "    }\n",
       "\n",
       "    .dataframe thead th {\n",
       "        text-align: right;\n",
       "    }\n",
       "</style>\n",
       "<table border=\"1\" class=\"dataframe\">\n",
       "  <thead>\n",
       "    <tr style=\"text-align: right;\">\n",
       "      <th></th>\n",
       "      <th>start</th>\n",
       "      <th>end</th>\n",
       "      <th>length</th>\n",
       "      <th>chunk_start</th>\n",
       "      <th>chunk_end</th>\n",
       "      <th>chunk_length</th>\n",
       "      <th>id</th>\n",
       "    </tr>\n",
       "  </thead>\n",
       "  <tbody>\n",
       "    <tr>\n",
       "      <th>7</th>\n",
       "      <td>1220640</td>\n",
       "      <td>1233888</td>\n",
       "      <td>13248</td>\n",
       "      <td>174151</td>\n",
       "      <td>187399</td>\n",
       "      <td>13248</td>\n",
       "      <td>7</td>\n",
       "    </tr>\n",
       "    <tr>\n",
       "      <th>7</th>\n",
       "      <td>1220640</td>\n",
       "      <td>1233888</td>\n",
       "      <td>13248</td>\n",
       "      <td>174151</td>\n",
       "      <td>187399</td>\n",
       "      <td>13248</td>\n",
       "      <td>7</td>\n",
       "    </tr>\n",
       "  </tbody>\n",
       "</table>\n",
       "</div>"
      ],
      "text/plain": [
       "     start      end  length  chunk_start  chunk_end  chunk_length  id\n",
       "7  1220640  1233888   13248       174151     187399         13248   7\n",
       "7  1220640  1233888   13248       174151     187399         13248   7"
      ]
     },
     "metadata": {},
     "output_type": "display_data"
    },
    {
     "data": {
      "text/html": [
       "\n",
       "                <audio  controls=\"controls\" >\n",
       "                    <source src=\"data:audio/wav;base64,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\" type=\"audio/wav\" />\n",
       "                    Your browser does not support the audio element.\n",
       "                </audio>\n",
       "              "
      ],
      "text/plain": [
       "<IPython.lib.display.Audio object>"
      ]
     },
     "metadata": {},
     "output_type": "display_data"
    }
   ],
   "source": [
    "a -= 1\n",
    "display(w_df.loc[a:a][['start_frame','end_frame','length','text','id']])\n",
    "w_start = w_df.loc[a]['start_frame']\n",
    "w_end = w_df.loc[a]['end_frame']\n",
    "start_segment = vad_df.iloc[(vad_df['chunk_start']-w_start).abs().argsort()][:1]\n",
    "end_segment = vad_df.iloc[(vad_df['chunk_end']-w_end).abs().argsort()][:1]\n",
    "tdf = pd.concat([start_segment, end_segment])\n",
    "display(tdf)\n",
    "\n",
    "display(Audio(speech_only[tdf.iloc[0].chunk_start: tdf.iloc[1].chunk_end], rate=SAMPLING_RATE))"
   ]
  }
 ],
 "metadata": {
  "kernelspec": {
   "display_name": "Python 3",
   "language": "python",
   "name": "python3"
  },
  "language_info": {
   "codemirror_mode": {
    "name": "ipython",
    "version": 3
   },
   "file_extension": ".py",
   "mimetype": "text/x-python",
   "name": "python",
   "nbconvert_exporter": "python",
   "pygments_lexer": "ipython3",
   "version": "3.10.8"
  },
  "orig_nbformat": 4,
  "vscode": {
   "interpreter": {
    "hash": "050044240cf91f37d85165fce9cd1b29ae697f4786d26880d31f6038c78120fd"
   }
  }
 },
 "nbformat": 4,
 "nbformat_minor": 2
}
