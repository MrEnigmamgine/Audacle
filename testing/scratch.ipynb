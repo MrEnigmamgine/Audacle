{
 "cells": [
  {
   "cell_type": "code",
   "execution_count": 8,
   "metadata": {},
   "outputs": [
    {
     "name": "stdout",
     "output_type": "stream",
     "text": [
      "[15496, 995]\n",
      "{'input_ids': [18435, 995], 'attention_mask': [1, 1]}\n"
     ]
    }
   ],
   "source": [
    "from transformers import GPT2Tokenizer\n",
    "tokenizer = GPT2Tokenizer.from_pretrained(\"gpt2\")\n",
    "print(tokenizer(\"Hello world\")['input_ids'])\n",
    "print(tokenizer(\" Hello world\"))"
   ]
  },
  {
   "cell_type": "code",
   "execution_count": 13,
   "metadata": {},
   "outputs": [],
   "source": [
    "import os\n",
    "file = '../data/jotun 02-05-2023/script.txt'\n",
    "\n",
    "with open(file, 'r') as f:\n",
    "    text = f.read()\n",
    "\n",
    "chunks = text.split('\\n\\n')\n",
    "tsizes = [len(tokenizer(chunk)['input_ids']) for chunk in chunks]"
   ]
  },
  {
   "cell_type": "code",
   "execution_count": 24,
   "metadata": {},
   "outputs": [],
   "source": [
    "posts = []\n",
    "bag = []\n",
    "total_tokens = 0\n",
    "max_size = 3600\n",
    "for chunk, tsize in zip(chunks, tsizes):\n",
    "    if total_tokens + tsize > max_size:\n",
    "        posts.append(bag)\n",
    "        bag = []\n",
    "        total_tokens = 0\n",
    "    total_tokens += tsize\n",
    "    bag.append(chunk)\n",
    "else:\n",
    "    posts.append(bag)"
   ]
  },
  {
   "cell_type": "code",
   "execution_count": 20,
   "metadata": {},
   "outputs": [
    {
     "data": {
      "text/plain": [
       "11"
      ]
     },
     "execution_count": 20,
     "metadata": {},
     "output_type": "execute_result"
    }
   ],
   "source": [
    "len(posts)"
   ]
  },
  {
   "cell_type": "code",
   "execution_count": 26,
   "metadata": {},
   "outputs": [
    {
     "name": "stdout",
     "output_type": "stream",
     "text": [
      "162\n",
      "143\n",
      "152\n",
      "166\n",
      "153\n",
      "150\n",
      "153\n",
      "117\n",
      "207\n",
      "161\n",
      "110\n"
     ]
    }
   ],
   "source": [
    "for i, post in enumerate(posts):\n",
    "    print(len(post))\n",
    "    post_text = '\\n\\n'.join(post)\n",
    "\n",
    "    with open(f\"./posts/post_{i}.txt\", 'w') as f:\n",
    "        f.write(post_text)"
   ]
  }
 ],
 "metadata": {
  "kernelspec": {
   "display_name": "Python 3",
   "language": "python",
   "name": "python3"
  },
  "language_info": {
   "codemirror_mode": {
    "name": "ipython",
    "version": 3
   },
   "file_extension": ".py",
   "mimetype": "text/x-python",
   "name": "python",
   "nbconvert_exporter": "python",
   "pygments_lexer": "ipython3",
   "version": "3.10.8"
  },
  "orig_nbformat": 4,
  "vscode": {
   "interpreter": {
    "hash": "050044240cf91f37d85165fce9cd1b29ae697f4786d26880d31f6038c78120fd"
   }
  }
 },
 "nbformat": 4,
 "nbformat_minor": 2
}
